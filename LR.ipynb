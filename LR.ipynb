{
 "cells": [
  {
   "cell_type": "code",
   "execution_count": 26,
   "metadata": {},
   "outputs": [],
   "source": [
    "import tensorflow as tf\n",
    "import pandas as pd\n",
    "import numpy as np\n",
    "import os\n",
    "import matplotlib.pyplot as plt\n",
    "\n",
    "from keras.models import Sequential, load_model\n",
    "from keras.layers import Dense, Dropout, Embedding, LSTM, Bidirectional\n",
    "from keras.utils import np_utils\n",
    "from sklearn.metrics import classification_report\n",
    "from keras.regularizers import l2\n",
    "from keras.preprocessing import sequence\n",
    "\n",
    "import sklearn as sk\n",
    "from sklearn.model_selection import train_test_split\n",
    "from sklearn.feature_extraction.text import TfidfVectorizer, CountVectorizer\n",
    "\n",
    "from nltk.stem.snowball import SnowballStemmer\n",
    "from nltk.tokenize import RegexpTokenizer"
   ]
  },
  {
   "cell_type": "code",
   "execution_count": 41,
   "metadata": {},
   "outputs": [],
   "source": [
    "mixeddataname = \"mixed_20568.pkl\"\n",
    "modelname = 'LR.h5'\n",
    "\n",
    "num_class = 2\n",
    "\n",
    "size_batch = 10\n",
    "num_epoch = 10\n",
    "l2_lambda = 0.00001\n",
    "\n",
    "stemmer = SnowballStemmer(\"english\")\n",
    "tokenizer = RegexpTokenizer(\"[a-z']+\")"
   ]
  },
  {
   "cell_type": "markdown",
   "metadata": {},
   "source": [
    "### Method"
   ]
  },
  {
   "cell_type": "code",
   "execution_count": 28,
   "metadata": {},
   "outputs": [],
   "source": [
    "def tokenize(text):\n",
    "    tokens = tokenizer.tokenize(text)\n",
    "    return [stemmer.stem(t) for t in tokens] \n",
    "\n",
    "def get_tf(data, use_idf, max_df=1.0, min_df=1, ngram_range=(1,1)):\n",
    "    if use_idf:\n",
    "        m = TfidfVectorizer(\n",
    "            max_df=max_df,\n",
    "            min_df=min_df, \n",
    "            stop_words='english', \n",
    "            ngram_range=ngram_range, \n",
    "            tokenizer=tokenize\n",
    "        )\n",
    "    else:\n",
    "        m = CountVectorizer(max_df=max_df, min_df=min_df, stop_words='english', ngram_range=ngram_range, tokenizer=tokenize)\n",
    "    \n",
    "    d = m.fit_transform(data)\n",
    "    return m, d"
   ]
  },
  {
   "cell_type": "code",
   "execution_count": 37,
   "metadata": {},
   "outputs": [],
   "source": [
    "def getData(filename):\n",
    "    print(\"---------------\")\n",
    "    print(\"| Getting data...\")\n",
    "    print(\"---------------\")\n",
    "    \n",
    "    data = pd.read_pickle(filename)\n",
    "    tfidf_m, tfidf_d = get_tf(data['reviewText'], use_idf=True, max_df=0.90, min_df=10)\n",
    "    \n",
    "    X = tfidf_d[0: tfidf_d.shape[0] - 20568 - 1]\n",
    "    X_adv = tfidf_d[tfidf_d.shape[0] - 20568 -1: -1]\n",
    "    \n",
    "    data_Y = data.overall\n",
    "    data_Y = np_utils.to_categorical(data_Y, num_class)\n",
    "    Y = data_Y[0: tfidf_d.shape[0] - 20568 - 1]\n",
    "    Y_adv = data_Y[tfidf_d.shape[0] - 20568 -1: -1]\n",
    "    \n",
    "    return X, Y, X_adv, Y_adv, len(tfidf_m.get_feature_names())"
   ]
  },
  {
   "cell_type": "code",
   "execution_count": 30,
   "metadata": {},
   "outputs": [],
   "source": [
    "# def getData(filename):\n",
    "#     print(\"---------------\")\n",
    "#     print(\"| Getting data...\")\n",
    "#     print(\"---------------\")\n",
    "    \n",
    "#     data = pd.read_pickle(filename)\n",
    "#     reviewTextList = data.reviewText.values\n",
    "#     t.fit_on_texts(reviewTextList)\n",
    "#     text = t.texts_to_matrix(reviewTextList, mode='count')\n",
    "    \n",
    "#     data_X = text\n",
    "#     data_Y = data['overall']\n",
    "#     data_Y = np_utils.to_categorical(data_Y, num_class)\n",
    "    \n",
    "#     return data_X, data_Y"
   ]
  },
  {
   "cell_type": "code",
   "execution_count": 31,
   "metadata": {},
   "outputs": [],
   "source": [
    "def splitData(x, y):\n",
    "    X_trains, X_test, Y_trains, Y_test = train_test_split(x, y, test_size=0.2, random_state=42)\n",
    "    X_train, X_validation, Y_train, Y_validation = train_test_split(X_trains, Y_trains, test_size=0.2, random_state=42)\n",
    "    return X_train, X_validation, X_test, Y_train, Y_validation, Y_test"
   ]
  },
  {
   "cell_type": "code",
   "execution_count": 39,
   "metadata": {},
   "outputs": [],
   "source": [
    "def train(x_train, x_validation, y_train, y_validation, dim_input, batch_size, epochs):\n",
    "    print(\"---------------\")\n",
    "    print(\"| Training...\")\n",
    "    print(\"---------------\")\n",
    "    \n",
    "    model = Sequential()\n",
    "    model.add(Dense(2, input_dim=dim_input, activation='softmax', kernel_regularizer=l2(l2_lambda)))\n",
    "    print(model.summary())\n",
    "    model.compile(optimizer='adam',loss='categorical_crossentropy',metrics=['categorical_accuracy'])\n",
    "    history=model.fit(x_train,y_train,\n",
    "                      batch_size=batch_size,\n",
    "                      epochs=epochs,\n",
    "                      validation_data=(x_validation, y_validation),\n",
    "                      )    \n",
    "    plt.figure('categorical_accuracy')\n",
    "    plt.xlabel('Iterations')\n",
    "    plt.ylabel('Categorical Accuracy')\n",
    "    plt.plot(history.history['categorical_accuracy'])\n",
    "    plt.show()\n",
    "    model.save(modelname)\n",
    "    return model\n",
    "    del model"
   ]
  },
  {
   "cell_type": "code",
   "execution_count": 33,
   "metadata": {},
   "outputs": [],
   "source": [
    "def test(x_test, y_test):\n",
    "    print(\"---------------\")\n",
    "    print(\"| Testing...\")\n",
    "    print(\"---------------\")\n",
    "    model = load_model(modelname)\n",
    "    \n",
    "    score = model.evaluate(x_test,y_test)\n",
    "    print('Test loss:',score[0])\n",
    "    print('Test accuracy:',score[1])\n",
    "    \n",
    "    y_test=np.argmax(y_test,axis=1)\n",
    "    y_pred=model.predict_classes(x_test)\n",
    "    \n",
    "    print(classification_report(y_test,y_pred))"
   ]
  },
  {
   "cell_type": "code",
   "execution_count": 11,
   "metadata": {},
   "outputs": [],
   "source": [
    "def main():\n",
    "    X, Y = getData(dataname)\n",
    "    \n",
    "#     X_train, X_validation, X_test, Y_train, Y_validation, Y_test = splitData(X, Y)\n",
    "#     train(X_train, X_validation, Y_train, Y_validation, size_batch, num_epoch)\n",
    "#     test(X_test, Y_test)\n",
    "    \n",
    "    X_train, X_test, Y_train, Y_test = train_test_split(X, Y, test_size=0.2, random_state=42)\n",
    "    train(X_train, X_test, Y_train, Y_test, size_batch, num_epoch)\n",
    "    test(X_test, Y_test)"
   ]
  },
  {
   "cell_type": "code",
   "execution_count": 45,
   "metadata": {
    "scrolled": true
   },
   "outputs": [],
   "source": [
    "# main()"
   ]
  },
  {
   "cell_type": "markdown",
   "metadata": {},
   "source": [
    "### Test with Adversasial Dataset"
   ]
  },
  {
   "cell_type": "code",
   "execution_count": 38,
   "metadata": {},
   "outputs": [
    {
     "name": "stdout",
     "output_type": "stream",
     "text": [
      "---------------\n",
      "| Getting data...\n",
      "---------------\n"
     ]
    }
   ],
   "source": [
    "X, Y, X_adv, Y_adv, dim_input = getData(mixeddataname)\n",
    "X_train, X_test, Y_train, Y_test = train_test_split(X, Y, test_size=0.2, random_state=42)"
   ]
  },
  {
   "cell_type": "code",
   "execution_count": 42,
   "metadata": {},
   "outputs": [
    {
     "name": "stdout",
     "output_type": "stream",
     "text": [
      "---------------\n",
      "| Training...\n",
      "---------------\n",
      "_________________________________________________________________\n",
      "Layer (type)                 Output Shape              Param #   \n",
      "=================================================================\n",
      "dense_2 (Dense)              (None, 2)                 20152     \n",
      "=================================================================\n",
      "Total params: 20,152\n",
      "Trainable params: 20,152\n",
      "Non-trainable params: 0\n",
      "_________________________________________________________________\n",
      "None\n",
      "Train on 82269 samples, validate on 20568 samples\n",
      "Epoch 1/10\n",
      "82269/82269 [==============================] - 45s 551us/step - loss: 0.4593 - categorical_accuracy: 0.8452 - val_loss: 0.3740 - val_categorical_accuracy: 0.8605\n",
      "Epoch 2/10\n",
      "82269/82269 [==============================] - 44s 531us/step - loss: 0.3456 - categorical_accuracy: 0.8714 - val_loss: 0.3456 - val_categorical_accuracy: 0.8670\n",
      "Epoch 3/10\n",
      "82269/82269 [==============================] - 48s 584us/step - loss: 0.3275 - categorical_accuracy: 0.8765 - val_loss: 0.3397 - val_categorical_accuracy: 0.8692\n",
      "Epoch 4/10\n",
      "82269/82269 [==============================] - 45s 547us/step - loss: 0.3220 - categorical_accuracy: 0.8796 - val_loss: 0.3389 - val_categorical_accuracy: 0.8700\n",
      "Epoch 5/10\n",
      "82269/82269 [==============================] - 45s 547us/step - loss: 0.3199 - categorical_accuracy: 0.8809 - val_loss: 0.3392 - val_categorical_accuracy: 0.8695\n",
      "Epoch 6/10\n",
      "82269/82269 [==============================] - 44s 531us/step - loss: 0.3190 - categorical_accuracy: 0.8823 - val_loss: 0.3396 - val_categorical_accuracy: 0.8688\n",
      "Epoch 7/10\n",
      "82269/82269 [==============================] - 43s 521us/step - loss: 0.3185 - categorical_accuracy: 0.8829 - val_loss: 0.3399 - val_categorical_accuracy: 0.8690\n",
      "Epoch 8/10\n",
      "82269/82269 [==============================] - 44s 535us/step - loss: 0.3185 - categorical_accuracy: 0.8826 - val_loss: 0.3402 - val_categorical_accuracy: 0.8688\n",
      "Epoch 9/10\n",
      "82269/82269 [==============================] - 43s 526us/step - loss: 0.3182 - categorical_accuracy: 0.8837 - val_loss: 0.3410 - val_categorical_accuracy: 0.8688\n",
      "Epoch 10/10\n",
      "82269/82269 [==============================] - 43s 521us/step - loss: 0.3183 - categorical_accuracy: 0.8833 - val_loss: 0.3408 - val_categorical_accuracy: 0.8698\n"
     ]
    },
    {
     "data": {
      "image/png": "[encoded data removed]",
      "text/plain": [
       "<Figure size 432x288 with 1 Axes>"
      ]
     },
     "metadata": {},
     "output_type": "display_data"
    },
    {
     "data": {
      "text/plain": [
       "<keras.engine.sequential.Sequential at 0x1c719819c18>"
      ]
     },
     "execution_count": 42,
     "metadata": {},
     "output_type": "execute_result"
    }
   ],
   "source": [
    "train(X_train, X_test, Y_train, Y_test, dim_input, size_batch, num_epoch)"
   ]
  },
  {
   "cell_type": "code",
   "execution_count": 43,
   "metadata": {},
   "outputs": [
    {
     "name": "stdout",
     "output_type": "stream",
     "text": [
      "---------------\n",
      "| Testing...\n",
      "---------------\n",
      "20568/20568 [==============================] - 3s 166us/step\n",
      "Test loss: 0.34081778760227144\n",
      "Test accuracy: 0.8697977440916393\n",
      "             precision    recall  f1-score   support\n",
      "\n",
      "          0       0.87      0.88      0.87     10392\n",
      "          1       0.87      0.86      0.87     10176\n",
      "\n",
      "avg / total       0.87      0.87      0.87     20568\n",
      "\n"
     ]
    }
   ],
   "source": [
    "test(X_test, Y_test)"
   ]
  },
  {
   "cell_type": "code",
   "execution_count": 44,
   "metadata": {},
   "outputs": [
    {
     "name": "stdout",
     "output_type": "stream",
     "text": [
      "---------------\n",
      "| Testing...\n",
      "---------------\n",
      "20568/20568 [==============================] - 4s 174us/step\n",
      "Test loss: 0.47077871526970744\n",
      "Test accuracy: 0.7988136911707506\n",
      "             precision    recall  f1-score   support\n",
      "\n",
      "          0       0.76      0.88      0.81     10330\n",
      "          1       0.85      0.72      0.78     10238\n",
      "\n",
      "avg / total       0.81      0.80      0.80     20568\n",
      "\n"
     ]
    }
   ],
   "source": [
    "test(X_adv, Y_adv)"
   ]
  },
  {
   "cell_type": "code",
   "execution_count": null,
   "metadata": {},
   "outputs": [],
   "source": []
  }
 ],
 "metadata": {
  "kernelspec": {
   "display_name": "Python 3",
   "language": "python",
   "name": "python3"
  },
  "language_info": {
   "codemirror_mode": {
    "name": "ipython",
    "version": 3
   },
   "file_extension": ".py",
   "mimetype": "text/x-python",
   "name": "python",
   "nbconvert_exporter": "python",
   "pygments_lexer": "ipython3",
   "version": "3.5.4"
  },
  "widgets": {
   "application/vnd.jupyter.widget-state+json": {
    "state": {},
    "version_major": 2,
    "version_minor": 0
   }
  }
 },
 "nbformat": 4,
 "nbformat_minor": 2
}
