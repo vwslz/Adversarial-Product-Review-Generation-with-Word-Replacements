{
 "cells": [
  {
   "cell_type": "code",
   "execution_count": 1,
   "metadata": {},
   "outputs": [
    {
     "name": "stderr",
     "output_type": "stream",
     "text": [
      "Using TensorFlow backend.\n"
     ]
    }
   ],
   "source": [
    "import tensorflow as tf\n",
    "import pandas as pd\n",
    "import numpy as np\n",
    "import os\n",
    "import matplotlib.pyplot as plt\n",
    "\n",
    "from keras.models import Sequential, load_model\n",
    "from keras.layers import Dense, Dropout, Embedding, LSTM, Bidirectional\n",
    "from keras.utils import np_utils\n",
    "from sklearn.metrics import classification_report\n",
    "from keras.regularizers import l2\n",
    "from keras.preprocessing import sequence\n",
    "\n",
    "import sklearn as sk\n",
    "from sklearn.model_selection import train_test_split\n",
    "from sklearn.feature_extraction.text import TfidfVectorizer, CountVectorizer\n",
    "\n",
    "from nltk.stem.snowball import SnowballStemmer\n",
    "from nltk.tokenize import RegexpTokenizer"
   ]
  },
  {
   "cell_type": "code",
   "execution_count": 2,
   "metadata": {},
   "outputs": [],
   "source": [
    "mixeddataname = \"mixed_s.pkl\"\n",
    "num_adv = 20535\n",
    "name_model = 'LR_s.h5'\n",
    "\n",
    "num_class = 2\n",
    "size_batch = 10\n",
    "num_epoch = 10\n",
    "l2_lambda = 0.00001\n",
    "\n",
    "stemmer = SnowballStemmer(\"english\")\n",
    "tokenizer = RegexpTokenizer(\"[a-z']+\")"
   ]
  },
  {
   "cell_type": "markdown",
   "metadata": {},
   "source": [
    "### Method"
   ]
  },
  {
   "cell_type": "code",
   "execution_count": 3,
   "metadata": {},
   "outputs": [],
   "source": [
    "def tokenize(text):\n",
    "    tokens = tokenizer.tokenize(text)\n",
    "    return [stemmer.stem(t) for t in tokens] \n",
    "\n",
    "def get_tf(data, use_idf, max_df=1.0, min_df=1, ngram_range=(1,1)):\n",
    "    if use_idf:\n",
    "        m = TfidfVectorizer(\n",
    "            max_df=max_df,\n",
    "            min_df=min_df, \n",
    "            stop_words='english', \n",
    "            ngram_range=ngram_range, \n",
    "            tokenizer=tokenize\n",
    "        )\n",
    "    else:\n",
    "        m = CountVectorizer(max_df=max_df, min_df=min_df, stop_words='english', ngram_range=ngram_range, tokenizer=tokenize)\n",
    "    \n",
    "    d = m.fit_transform(data)\n",
    "    return m, d"
   ]
  },
  {
   "cell_type": "code",
   "execution_count": 4,
   "metadata": {},
   "outputs": [],
   "source": [
    "def getData(filename):\n",
    "    print(\"---------------\")\n",
    "    print(\"| Getting data...\")\n",
    "    print(\"---------------\")\n",
    "    \n",
    "    data = pd.read_pickle(filename)\n",
    "    tfidf_m, tfidf_d = get_tf(data['reviewText'], use_idf=True, max_df=0.90, min_df=10)\n",
    "    \n",
    "    X = tfidf_d[0: tfidf_d.shape[0] - 4 * num_adv - 1]\n",
    "    X_adv = tfidf_d[tfidf_d.shape[0] - 4 * num_adv -1: tfidf_d.shape[0] - 3 *num_adv - 1]\n",
    "    X_adv1 = tfidf_d[tfidf_d.shape[0] - 3 * num_adv -1: tfidf_d.shape[0] - 2 * num_adv - 1]\n",
    "    X_adv2 = tfidf_d[tfidf_d.shape[0] - 2 * num_adv -1: tfidf_d.shape[0] - num_adv - 1]\n",
    "    X_adv3 = tfidf_d[tfidf_d.shape[0] - num_adv -1: -1]\n",
    "    \n",
    "    data_Y = data.overall\n",
    "    data_Y = np_utils.to_categorical(data_Y, num_class)\n",
    "    Y = data_Y[0: tfidf_d.shape[0] - 4 * num_adv - 1]\n",
    "    Y_adv = data_Y[tfidf_d.shape[0] - 4 * num_adv -1: tfidf_d.shape[0] - 3 * num_adv -1]\n",
    "    Y_adv1 = data_Y[tfidf_d.shape[0] - 3 * num_adv -1: tfidf_d.shape[0] - 2 * num_adv -1]\n",
    "    Y_adv2 = data_Y[tfidf_d.shape[0] - 2 * num_adv -1: tfidf_d.shape[0] - num_adv -1]\n",
    "    Y_adv3 = data_Y[tfidf_d.shape[0] - num_adv -1: -1]\n",
    "    \n",
    "    return X, Y, X_adv, Y_adv, X_adv1, Y_adv1, X_adv2, Y_adv2, X_adv3, Y_adv3, len(tfidf_m.get_feature_names())"
   ]
  },
  {
   "cell_type": "code",
   "execution_count": 5,
   "metadata": {},
   "outputs": [],
   "source": [
    "# def getData(filename):\n",
    "#     print(\"---------------\")\n",
    "#     print(\"| Getting data...\")\n",
    "#     print(\"---------------\")\n",
    "    \n",
    "#     data = pd.read_pickle(filename)\n",
    "#     reviewTextList = data.reviewText.values\n",
    "#     t.fit_on_texts(reviewTextList)\n",
    "#     text = t.texts_to_matrix(reviewTextList, mode='count')\n",
    "    \n",
    "#     data_X = text\n",
    "#     data_Y = data['overall']\n",
    "#     data_Y = np_utils.to_categorical(data_Y, num_class)\n",
    "    \n",
    "#     return data_X, data_Y"
   ]
  },
  {
   "cell_type": "code",
   "execution_count": 6,
   "metadata": {},
   "outputs": [],
   "source": [
    "def splitData(x, y):\n",
    "    X_trains, X_test, Y_trains, Y_test = train_test_split(x, y, test_size=0.2, random_state=42)\n",
    "    X_train, X_validation, Y_train, Y_validation = train_test_split(X_trains, Y_trains, test_size=0.2, random_state=42)\n",
    "    return X_train, X_validation, X_test, Y_train, Y_validation, Y_test"
   ]
  },
  {
   "cell_type": "code",
   "execution_count": 7,
   "metadata": {},
   "outputs": [],
   "source": [
    "def train(x_train, x_validation, y_train, y_validation, dim_input, batch_size, epochs, modelname):\n",
    "    print(\"---------------\")\n",
    "    print(\"| Training...\")\n",
    "    print(\"---------------\")\n",
    "    \n",
    "    model = Sequential()\n",
    "    model.add(Dense(2, input_dim=dim_input, activation='softmax', kernel_regularizer=l2(l2_lambda)))\n",
    "    print(model.summary())\n",
    "    model.compile(optimizer='adam',loss='categorical_crossentropy',metrics=['categorical_accuracy'])\n",
    "    history=model.fit(x_train,y_train,\n",
    "                      batch_size=batch_size,\n",
    "                      epochs=epochs,\n",
    "                      validation_data=(x_validation, y_validation),\n",
    "                      )    \n",
    "    plt.figure('categorical_accuracy')\n",
    "    plt.xlabel('Iterations')\n",
    "    plt.ylabel('Categorical Accuracy')\n",
    "    plt.plot(history.history['categorical_accuracy'])\n",
    "    plt.show()\n",
    "    model.save(modelname)\n",
    "    return model\n",
    "    del model"
   ]
  },
  {
   "cell_type": "code",
   "execution_count": 8,
   "metadata": {},
   "outputs": [],
   "source": [
    "def test(x_test, y_test):\n",
    "    print(\"---------------\")\n",
    "    print(\"| Testing...\")\n",
    "    print(\"---------------\")\n",
    "    model = load_model(name_model)\n",
    "    \n",
    "    score = model.evaluate(x_test,y_test)\n",
    "    print('Test loss:',score[0])\n",
    "    print('Test accuracy:',score[1])\n",
    "    \n",
    "    y_test=np.argmax(y_test,axis=1)\n",
    "    y_pred=model.predict_classes(x_test)\n",
    "    \n",
    "    print(classification_report(y_test,y_pred))"
   ]
  },
  {
   "cell_type": "code",
   "execution_count": 9,
   "metadata": {},
   "outputs": [],
   "source": [
    "def main():\n",
    "    X, Y = getData(dataname)\n",
    "    \n",
    "#     X_train, X_validation, X_test, Y_train, Y_validation, Y_test = splitData(X, Y)\n",
    "#     train(X_train, X_validation, Y_train, Y_validation, size_batch, num_epoch)\n",
    "#     test(X_test, Y_test)\n",
    "    \n",
    "    X_train, X_test, Y_train, Y_test = train_test_split(X, Y, test_size=0.2, random_state=42)\n",
    "    train(X_train, X_test, Y_train, Y_test, size_batch, num_epoch)\n",
    "    test(X_test, Y_test)"
   ]
  },
  {
   "cell_type": "code",
   "execution_count": 11,
   "metadata": {
    "scrolled": true
   },
   "outputs": [],
   "source": [
    "# main()"
   ]
  },
  {
   "cell_type": "markdown",
   "metadata": {},
   "source": [
    "### Test with Adversasial Dataset"
   ]
  },
  {
   "cell_type": "code",
   "execution_count": 128,
   "metadata": {},
   "outputs": [
    {
     "name": "stdout",
     "output_type": "stream",
     "text": [
      "---------------\n",
      "| Getting data...\n",
      "---------------\n"
     ]
    }
   ],
   "source": [
    "X, Y, X_adv, Y_adv, X_adv1, Y_adv1, X_adv2, Y_adv2, X_adv3, Y_adv3, dim_input = getData(mixeddataname)\n",
    "X_train, X_test, Y_train, Y_test = train_test_split(X, Y, test_size=0.2, random_state=42)"
   ]
  },
  {
   "cell_type": "code",
   "execution_count": 129,
   "metadata": {},
   "outputs": [
    {
     "name": "stdout",
     "output_type": "stream",
     "text": [
      "---------------\n",
      "| Training...\n",
      "---------------\n",
      "_________________________________________________________________\n",
      "Layer (type)                 Output Shape              Param #   \n",
      "=================================================================\n",
      "dense_6 (Dense)              (None, 2)                 23696     \n",
      "=================================================================\n",
      "Total params: 23,696\n",
      "Trainable params: 23,696\n",
      "Non-trainable params: 0\n",
      "_________________________________________________________________\n",
      "None\n",
      "Train on 16453 samples, validate on 4114 samples\n",
      "Epoch 1/10\n",
      "16453/16453 [==============================] - 14s 861us/step - loss: 0.5979 - categorical_accuracy: 0.8147 - val_loss: 0.5331 - val_categorical_accuracy: 0.8294\n",
      "Epoch 2/10\n",
      "16453/16453 [==============================] - 10s 600us/step - loss: 0.4731 - categorical_accuracy: 0.8618 - val_loss: 0.4610 - val_categorical_accuracy: 0.8350\n",
      "Epoch 3/10\n",
      "16453/16453 [==============================] - 9s 577us/step - loss: 0.4092 - categorical_accuracy: 0.8733 - val_loss: 0.4232 - val_categorical_accuracy: 0.8420\n",
      "Epoch 4/10\n",
      "16453/16453 [==============================] - 9s 571us/step - loss: 0.3712 - categorical_accuracy: 0.8809 - val_loss: 0.4014 - val_categorical_accuracy: 0.8452\n",
      "Epoch 5/10\n",
      "16453/16453 [==============================] - 9s 572us/step - loss: 0.3466 - categorical_accuracy: 0.8883 - val_loss: 0.3885 - val_categorical_accuracy: 0.8474\n",
      "Epoch 6/10\n",
      "16453/16453 [==============================] - 9s 572us/step - loss: 0.3299 - categorical_accuracy: 0.8936 - val_loss: 0.3801 - val_categorical_accuracy: 0.8508\n",
      "Epoch 7/10\n",
      "16453/16453 [==============================] - 9s 571us/step - loss: 0.3178 - categorical_accuracy: 0.8970 - val_loss: 0.3753 - val_categorical_accuracy: 0.8517\n",
      "Epoch 8/10\n",
      "16453/16453 [==============================] - 9s 576us/step - loss: 0.3089 - categorical_accuracy: 0.9012 - val_loss: 0.3722 - val_categorical_accuracy: 0.8537\n",
      "Epoch 9/10\n",
      "16453/16453 [==============================] - 9s 572us/step - loss: 0.3021 - categorical_accuracy: 0.9034 - val_loss: 0.3705 - val_categorical_accuracy: 0.8544\n",
      "Epoch 10/10\n",
      "16453/16453 [==============================] - 9s 573us/step - loss: 0.2968 - categorical_accuracy: 0.9051 - val_loss: 0.3698 - val_categorical_accuracy: 0.8534\n"
     ]
    },
    {
     "data": {
      "image/png": "[encoded data removed]",
      "text/plain": [
       "<Figure size 432x288 with 1 Axes>"
      ]
     },
     "metadata": {},
     "output_type": "display_data"
    },
    {
     "data": {
      "text/plain": [
       "<keras.engine.sequential.Sequential at 0x215353bd0f0>"
      ]
     },
     "execution_count": 129,
     "metadata": {},
     "output_type": "execute_result"
    }
   ],
   "source": [
    "train(X_train, X_test, Y_train, Y_test, dim_input, size_batch, num_epoch, name_model)"
   ]
  },
  {
   "cell_type": "code",
   "execution_count": 133,
   "metadata": {},
   "outputs": [
    {
     "name": "stdout",
     "output_type": "stream",
     "text": [
      "---------------\n",
      "| Testing...\n",
      "---------------\n",
      "4114/4114 [==============================] - 1s 238us/step\n",
      "Test loss: 0.36977086314369184\n",
      "Test accuracy: 0.8534273213707363\n",
      "             precision    recall  f1-score   support\n",
      "\n",
      "          0       0.86      0.85      0.85      2054\n",
      "          1       0.85      0.86      0.85      2060\n",
      "\n",
      "avg / total       0.85      0.85      0.85      4114\n",
      "\n"
     ]
    }
   ],
   "source": [
    "test(X_test, Y_test)"
   ]
  },
  {
   "cell_type": "code",
   "execution_count": 134,
   "metadata": {
    "scrolled": true
   },
   "outputs": [
    {
     "name": "stdout",
     "output_type": "stream",
     "text": [
      "---------------\n",
      "| Testing...\n",
      "---------------\n",
      "20535/20535 [==============================] - 4s 195us/step\n",
      "Test loss: 0.4794596936019459\n",
      "Test accuracy: 0.7948867786937832\n",
      "             precision    recall  f1-score   support\n",
      "\n",
      "          0       0.76      0.87      0.81     10264\n",
      "          1       0.84      0.72      0.78     10271\n",
      "\n",
      "avg / total       0.80      0.79      0.79     20535\n",
      "\n"
     ]
    }
   ],
   "source": [
    "test(X_adv, Y_adv)"
   ]
  },
  {
   "cell_type": "code",
   "execution_count": 135,
   "metadata": {},
   "outputs": [
    {
     "name": "stdout",
     "output_type": "stream",
     "text": [
      "---------------\n",
      "| Testing...\n",
      "---------------\n",
      "20535/20535 [==============================] - 4s 199us/step\n",
      "Test loss: 0.32202534821453194\n",
      "Test accuracy: 0.8907231555560919\n",
      "             precision    recall  f1-score   support\n",
      "\n",
      "          0       0.89      0.90      0.89     10264\n",
      "          1       0.90      0.89      0.89     10271\n",
      "\n",
      "avg / total       0.89      0.89      0.89     20535\n",
      "\n"
     ]
    }
   ],
   "source": [
    "test(X_adv1, Y_adv1)"
   ]
  },
  {
   "cell_type": "code",
   "execution_count": 136,
   "metadata": {},
   "outputs": [
    {
     "name": "stdout",
     "output_type": "stream",
     "text": [
      "---------------\n",
      "| Testing...\n",
      "---------------\n",
      "20535/20535 [==============================] - 4s 197us/step\n",
      "Test loss: 0.33815803195630834\n",
      "Test accuracy: 0.8830776722465433\n",
      "             precision    recall  f1-score   support\n",
      "\n",
      "          0       0.87      0.89      0.88     10264\n",
      "          1       0.89      0.87      0.88     10271\n",
      "\n",
      "avg / total       0.88      0.88      0.88     20535\n",
      "\n"
     ]
    }
   ],
   "source": [
    "test(X_adv2, Y_adv2)"
   ]
  },
  {
   "cell_type": "code",
   "execution_count": 137,
   "metadata": {},
   "outputs": [
    {
     "name": "stdout",
     "output_type": "stream",
     "text": [
      "---------------\n",
      "| Testing...\n",
      "---------------\n",
      "20535/20535 [==============================] - 4s 197us/step\n",
      "Test loss: 0.3560390943792402\n",
      "Test accuracy: 0.8741660579179132\n",
      "             precision    recall  f1-score   support\n",
      "\n",
      "          0       0.86      0.89      0.88     10264\n",
      "          1       0.89      0.86      0.87     10271\n",
      "\n",
      "avg / total       0.87      0.87      0.87     20535\n",
      "\n"
     ]
    }
   ],
   "source": [
    "test(X_adv3, Y_adv3)"
   ]
  },
  {
   "cell_type": "markdown",
   "metadata": {},
   "source": [
    "#### Whole Set"
   ]
  },
  {
   "cell_type": "code",
   "execution_count": 10,
   "metadata": {},
   "outputs": [],
   "source": [
    "mixeddataname = \"mixed.pkl\"\n",
    "num_adv = 20568\n",
    "name_model = 'LR.h5'"
   ]
  },
  {
   "cell_type": "code",
   "execution_count": 11,
   "metadata": {},
   "outputs": [
    {
     "name": "stdout",
     "output_type": "stream",
     "text": [
      "---------------\n",
      "| Getting data...\n",
      "---------------\n"
     ]
    }
   ],
   "source": [
    "X, Y, X_adv, Y_adv, X_adv1, Y_adv1, X_adv2, Y_adv2, X_adv3, Y_adv3, dim_input = getData(mixeddataname)\n",
    "X_train, X_test, Y_train, Y_test = train_test_split(X, Y, test_size=0.2, random_state=42)"
   ]
  },
  {
   "cell_type": "code",
   "execution_count": 12,
   "metadata": {},
   "outputs": [
    {
     "name": "stdout",
     "output_type": "stream",
     "text": [
      "(82269, 13835)\n",
      "(82269, 2)\n",
      "(20568, 13835)\n",
      "(20568, 2)\n",
      "13835\n"
     ]
    }
   ],
   "source": [
    "print(X_train.shape)\n",
    "print(Y_train.shape)\n",
    "print(X_test.shape)\n",
    "print(Y_test.shape)\n",
    "print(dim_input)"
   ]
  },
  {
   "cell_type": "code",
   "execution_count": 13,
   "metadata": {},
   "outputs": [
    {
     "name": "stdout",
     "output_type": "stream",
     "text": [
      "---------------\n",
      "| Training...\n",
      "---------------\n",
      "_________________________________________________________________\n",
      "Layer (type)                 Output Shape              Param #   \n",
      "=================================================================\n",
      "dense_1 (Dense)              (None, 2)                 27672     \n",
      "=================================================================\n",
      "Total params: 27,672\n",
      "Trainable params: 27,672\n",
      "Non-trainable params: 0\n",
      "_________________________________________________________________\n",
      "None\n",
      "Train on 82269 samples, validate on 20568 samples\n",
      "Epoch 1/10\n",
      "82269/82269 [==============================] - 54s 650us/step - loss: 0.4600 - categorical_accuracy: 0.8442 - val_loss: 0.3697 - val_categorical_accuracy: 0.8619\n",
      "Epoch 2/10\n",
      "82269/82269 [==============================] - 51s 620us/step - loss: 0.3468 - categorical_accuracy: 0.8709 - val_loss: 0.3396 - val_categorical_accuracy: 0.8688\n",
      "Epoch 3/10\n",
      "82269/82269 [==============================] - 60s 724us/step - loss: 0.3288 - categorical_accuracy: 0.8769 - val_loss: 0.3332 - val_categorical_accuracy: 0.8706\n",
      "Epoch 4/10\n",
      "82269/82269 [==============================] - 50s 607us/step - loss: 0.3232 - categorical_accuracy: 0.8793 - val_loss: 0.3316 - val_categorical_accuracy: 0.8725\n",
      "Epoch 5/10\n",
      "82269/82269 [==============================] - 49s 602us/step - loss: 0.3212 - categorical_accuracy: 0.8812 - val_loss: 0.3316 - val_categorical_accuracy: 0.8728\n",
      "Epoch 6/10\n",
      "82269/82269 [==============================] - 50s 603us/step - loss: 0.3203 - categorical_accuracy: 0.8820 - val_loss: 0.3320 - val_categorical_accuracy: 0.8729\n",
      "Epoch 7/10\n",
      "82269/82269 [==============================] - 56s 682us/step - loss: 0.3199 - categorical_accuracy: 0.8817 - val_loss: 0.3322 - val_categorical_accuracy: 0.8727\n",
      "Epoch 8/10\n",
      "82269/82269 [==============================] - 52s 628us/step - loss: 0.3196 - categorical_accuracy: 0.8823 - val_loss: 0.3327 - val_categorical_accuracy: 0.8715\n",
      "Epoch 9/10\n",
      "82269/82269 [==============================] - 52s 628us/step - loss: 0.3196 - categorical_accuracy: 0.8829 - val_loss: 0.3330 - val_categorical_accuracy: 0.8722\n",
      "Epoch 10/10\n",
      "82269/82269 [==============================] - 52s 629us/step - loss: 0.3195 - categorical_accuracy: 0.8834 - val_loss: 0.3330 - val_categorical_accuracy: 0.8727\n"
     ]
    },
    {
     "data": {
      "image/png": "[encoded data removed]",
      "text/plain": [
       "<Figure size 432x288 with 1 Axes>"
      ]
     },
     "metadata": {},
     "output_type": "display_data"
    },
    {
     "data": {
      "text/plain": [
       "<keras.engine.sequential.Sequential at 0x1bbc04a7cc0>"
      ]
     },
     "execution_count": 13,
     "metadata": {},
     "output_type": "execute_result"
    }
   ],
   "source": [
    "train(X_train, X_test, Y_train, Y_test, dim_input, size_batch, num_epoch, name_model)"
   ]
  },
  {
   "cell_type": "code",
   "execution_count": 14,
   "metadata": {},
   "outputs": [
    {
     "name": "stdout",
     "output_type": "stream",
     "text": [
      "---------------\n",
      "| Testing...\n",
      "---------------\n",
      "20568/20568 [==============================] - 4s 199us/step\n",
      "Test loss: 0.33299297414276674\n",
      "Test accuracy: 0.8727148969504491\n",
      "             precision    recall  f1-score   support\n",
      "\n",
      "          0       0.87      0.88      0.87     10321\n",
      "          1       0.87      0.87      0.87     10247\n",
      "\n",
      "avg / total       0.87      0.87      0.87     20568\n",
      "\n"
     ]
    }
   ],
   "source": [
    "test(X_test, Y_test)"
   ]
  },
  {
   "cell_type": "code",
   "execution_count": 15,
   "metadata": {},
   "outputs": [
    {
     "name": "stdout",
     "output_type": "stream",
     "text": [
      "---------------\n",
      "| Testing...\n",
      "---------------\n",
      "20568/20568 [==============================] - 4s 198us/step\n",
      "Test loss: 0.48293981070835645\n",
      "Test accuracy: 0.7861726954492415\n",
      "             precision    recall  f1-score   support\n",
      "\n",
      "          0       0.74      0.89      0.81     10364\n",
      "          1       0.86      0.68      0.76     10204\n",
      "\n",
      "avg / total       0.80      0.79      0.78     20568\n",
      "\n"
     ]
    }
   ],
   "source": [
    "test(X_adv, Y_adv)"
   ]
  },
  {
   "cell_type": "code",
   "execution_count": 16,
   "metadata": {},
   "outputs": [
    {
     "name": "stdout",
     "output_type": "stream",
     "text": [
      "---------------\n",
      "| Testing...\n",
      "---------------\n",
      "20568/20568 [==============================] - 4s 198us/step\n",
      "Test loss: 0.34087175446718593\n",
      "Test accuracy: 0.8701380785686503\n",
      "             precision    recall  f1-score   support\n",
      "\n",
      "          0       0.86      0.88      0.87     10363\n",
      "          1       0.88      0.86      0.87     10205\n",
      "\n",
      "avg / total       0.87      0.87      0.87     20568\n",
      "\n"
     ]
    }
   ],
   "source": [
    "test(X_adv1, Y_adv1)"
   ]
  },
  {
   "cell_type": "code",
   "execution_count": 17,
   "metadata": {},
   "outputs": [
    {
     "name": "stdout",
     "output_type": "stream",
     "text": [
      "---------------\n",
      "| Testing...\n",
      "---------------\n",
      "20568/20568 [==============================] - 4s 199us/step\n",
      "Test loss: 0.36732627139022866\n",
      "Test accuracy: 0.8587611824424756\n",
      "             precision    recall  f1-score   support\n",
      "\n",
      "          0       0.84      0.88      0.86     10363\n",
      "          1       0.88      0.83      0.85     10205\n",
      "\n",
      "avg / total       0.86      0.86      0.86     20568\n",
      "\n"
     ]
    }
   ],
   "source": [
    "test(X_adv2, Y_adv2)"
   ]
  },
  {
   "cell_type": "code",
   "execution_count": 18,
   "metadata": {},
   "outputs": [
    {
     "name": "stdout",
     "output_type": "stream",
     "text": [
      "---------------\n",
      "| Testing...\n",
      "---------------\n",
      "20568/20568 [==============================] - 4s 198us/step\n",
      "Test loss: 0.39724534462509986\n",
      "Test accuracy: 0.8419389342436387\n",
      "             precision    recall  f1-score   support\n",
      "\n",
      "          0       0.82      0.88      0.85     10363\n",
      "          1       0.87      0.80      0.83     10205\n",
      "\n",
      "avg / total       0.84      0.84      0.84     20568\n",
      "\n"
     ]
    }
   ],
   "source": [
    "test(X_adv3, Y_adv3)"
   ]
  },
  {
   "cell_type": "code",
   "execution_count": null,
   "metadata": {},
   "outputs": [],
   "source": []
  }
 ],
 "metadata": {
  "kernelspec": {
   "display_name": "Python 3",
   "language": "python",
   "name": "python3"
  },
  "language_info": {
   "codemirror_mode": {
    "name": "ipython",
    "version": 3
   },
   "file_extension": ".py",
   "mimetype": "text/x-python",
   "name": "python",
   "nbconvert_exporter": "python",
   "pygments_lexer": "ipython3",
   "version": "3.5.4"
  },
  "widgets": {
   "application/vnd.jupyter.widget-state+json": {
    "state": {},
    "version_major": 2,
    "version_minor": 0
   }
  }
 },
 "nbformat": 4,
 "nbformat_minor": 2
}
