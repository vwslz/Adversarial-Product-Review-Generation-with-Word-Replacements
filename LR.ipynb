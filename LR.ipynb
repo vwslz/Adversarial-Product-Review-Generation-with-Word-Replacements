{
 "cells": [
  {
   "cell_type": "code",
   "execution_count": 1,
   "metadata": {},
   "outputs": [
    {
     "name": "stderr",
     "output_type": "stream",
     "text": [
      "Using TensorFlow backend.\n"
     ]
    }
   ],
   "source": [
    "from keras.preprocessing import sequence\n",
    "from keras.models import Sequential\n",
    "from keras.layers import Dense, Dropout, Embedding, LSTM, Bidirectional\n",
    "\n",
    "import pandas as pd\n",
    "import tensorflow as tf\n",
    "import matplotlib.pyplot as plt\n",
    "import numpy as np\n",
    "from numpy import asarray\n",
    "import sklearn as sk\n",
    "from sklearn.model_selection import ShuffleSplit\n",
    "from sklearn.preprocessing import OneHotEncoder\n",
    "import os\n",
    "from keras.utils import np_utils\n",
    "\n",
    "from keras.preprocessing import sequence\n",
    "from keras.models import Sequential\n",
    "from keras.preprocessing.text import Tokenizer\n",
    "from sklearn.metrics import classification_report\n",
    "from keras.preprocessing.text import hashing_trick\n",
    "from keras.preprocessing.text import text_to_word_sequence\n",
    "\n",
    "from keras.regularizers import l2\n",
    "\n",
    "from keras.preprocessing.text import Tokenizer\n",
    "from keras.models import load_model\n",
    "from sklearn.model_selection import train_test_split"
   ]
  },
  {
   "cell_type": "code",
   "execution_count": 2,
   "metadata": {},
   "outputs": [],
   "source": [
    "dataname = \"rawdata_100.pkl\"\n",
    "modelname = 'LR.h5'\n",
    "\n",
    "num_class = 2\n",
    "max_features = 40000\n",
    "\n",
    "size_batch = 10\n",
    "num_epoch = 10\n",
    "l2_lambda = 0.00001\n",
    "\n",
    "randomShuffle = ShuffleSplit(n_splits=1, test_size=.2, random_state=0)\n",
    "onehot_encoder = OneHotEncoder(sparse=False)\n",
    "t = Tokenizer(num_words=max_features)"
   ]
  },
  {
   "cell_type": "markdown",
   "metadata": {},
   "source": [
    "### Method"
   ]
  },
  {
   "cell_type": "code",
   "execution_count": 3,
   "metadata": {},
   "outputs": [],
   "source": [
    "def getData(filename):\n",
    "    print(\"---------------\")\n",
    "    print(\"| Getting data...\")\n",
    "    print(\"---------------\")\n",
    "    \n",
    "    data = pd.read_pickle(filename)\n",
    "    reviewTextList = data.reviewText.values\n",
    "    t.fit_on_texts(reviewTextList)\n",
    "    text = t.texts_to_matrix(reviewTextList, mode='count')\n",
    "    \n",
    "    data_X = text\n",
    "    data_Y = data['overall']\n",
    "    data_Y = np_utils.to_categorical(data_Y, num_class)\n",
    "    \n",
    "    return data_X, data_Y"
   ]
  },
  {
   "cell_type": "code",
   "execution_count": 4,
   "metadata": {},
   "outputs": [],
   "source": [
    "def splitData(x, y):\n",
    "    X_trains, X_test, Y_trains, Y_test = train_test_split(x, y, test_size=0.2, random_state=42)\n",
    "    X_train, X_validation, Y_train, Y_validation = train_test_split(X_trains, Y_trains, test_size=0.2, random_state=42)\n",
    "    return X_train, X_validation, X_test, Y_train, Y_validation, Y_test"
   ]
  },
  {
   "cell_type": "code",
   "execution_count": 5,
   "metadata": {},
   "outputs": [],
   "source": [
    "def train(x_train, x_validation, y_train, y_validation, batch_size, epochs):\n",
    "    print(\"---------------\")\n",
    "    print(\"| Training...\")\n",
    "    print(\"---------------\")\n",
    "    \n",
    "    model = Sequential()\n",
    "    model.add(Dense(2, input_dim=max_features, activation='softmax', kernel_regularizer=l2(l2_lambda)))\n",
    "    print(model.summary())\n",
    "    model.compile(optimizer='adam',loss='categorical_crossentropy',metrics=['categorical_accuracy'])\n",
    "    history=model.fit(x_train,y_train,\n",
    "                      batch_size=batch_size,\n",
    "                      epochs=epochs,\n",
    "                      validation_data=(x_validation, y_validation),\n",
    "                      )    \n",
    "    plt.figure('categorical_accuracy')\n",
    "    plt.xlabel('Iterations')\n",
    "    plt.ylabel('Categorical Accuracy')\n",
    "    plt.plot(history.history['categorical_accuracy'])\n",
    "    plt.show()\n",
    "    model.save(modelname)\n",
    "    return model\n",
    "    del model"
   ]
  },
  {
   "cell_type": "code",
   "execution_count": 6,
   "metadata": {},
   "outputs": [],
   "source": [
    "def test(x_test, y_test):\n",
    "    print(\"---------------\")\n",
    "    print(\"| Testing...\")\n",
    "    print(\"---------------\")\n",
    "    model = load_model(modelname)\n",
    "    \n",
    "    score = model.evaluate(x_test,y_test)\n",
    "    print('Test loss:',score[0])\n",
    "    print('Test accuracy:',score[1])\n",
    "    \n",
    "    y_test=np.argmax(y_test,axis=1)\n",
    "    y_pred=model.predict_classes(x_test)\n",
    "    \n",
    "    print(classification_report(y_test,y_pred))"
   ]
  },
  {
   "cell_type": "markdown",
   "metadata": {},
   "source": [
    "### Main class"
   ]
  },
  {
   "cell_type": "code",
   "execution_count": 7,
   "metadata": {},
   "outputs": [],
   "source": [
    "def main():\n",
    "    X, Y = getData(dataname)\n",
    "    \n",
    "#     X_train, X_validation, X_test, Y_train, Y_validation, Y_test = splitData(X, Y)\n",
    "#     train(X_train, X_validation, Y_train, Y_validation, size_batch, num_epoch)\n",
    "#     test(X_test, Y_test)\n",
    "    \n",
    "    X_train, X_test, Y_train, Y_test = train_test_split(X, Y, test_size=0.2, random_state=42)\n",
    "    train(X_train, X_test, Y_train, Y_test, size_batch, num_epoch)\n",
    "    test(X_test, Y_test)"
   ]
  },
  {
   "cell_type": "code",
   "execution_count": 8,
   "metadata": {},
   "outputs": [
    {
     "name": "stdout",
     "output_type": "stream",
     "text": [
      "---------------\n",
      "| Getting data...\n",
      "---------------\n",
      "---------------\n",
      "| Training...\n",
      "---------------\n",
      "_________________________________________________________________\n",
      "Layer (type)                 Output Shape              Param #   \n",
      "=================================================================\n",
      "dense_1 (Dense)              (None, 2)                 80002     \n",
      "=================================================================\n",
      "Total params: 80,002\n",
      "Trainable params: 80,002\n",
      "Non-trainable params: 0\n",
      "_________________________________________________________________\n",
      "None\n",
      "Train on 82270 samples, validate on 20568 samples\n",
      "Epoch 1/10\n",
      "82270/82270 [==============================] - 70s 849us/step - loss: 0.3418 - categorical_accuracy: 0.8747 - val_loss: 0.3010 - val_categorical_accuracy: 0.8947\n",
      "Epoch 2/10\n",
      "82270/82270 [==============================] - 67s 809us/step - loss: 0.2661 - categorical_accuracy: 0.9031 - val_loss: 0.3056 - val_categorical_accuracy: 0.8926\n",
      "Epoch 3/10\n",
      "82270/82270 [==============================] - 66s 807us/step - loss: 0.2510 - categorical_accuracy: 0.9099 - val_loss: 0.3125 - val_categorical_accuracy: 0.8925\n",
      "Epoch 4/10\n",
      "82270/82270 [==============================] - 67s 819us/step - loss: 0.2421 - categorical_accuracy: 0.9131 - val_loss: 0.3259 - val_categorical_accuracy: 0.8874\n",
      "Epoch 5/10\n",
      "82270/82270 [==============================] - 67s 810us/step - loss: 0.2389 - categorical_accuracy: 0.9149 - val_loss: 0.3282 - val_categorical_accuracy: 0.8883\n",
      "Epoch 6/10\n",
      "82270/82270 [==============================] - 66s 803us/step - loss: 0.2357 - categorical_accuracy: 0.9170 - val_loss: 0.3369 - val_categorical_accuracy: 0.8882\n",
      "Epoch 7/10\n",
      "82270/82270 [==============================] - 67s 812us/step - loss: 0.2337 - categorical_accuracy: 0.9180 - val_loss: 0.3393 - val_categorical_accuracy: 0.8876\n",
      "Epoch 8/10\n",
      "82270/82270 [==============================] - 67s 812us/step - loss: 0.2344 - categorical_accuracy: 0.9174 - val_loss: 0.3720 - val_categorical_accuracy: 0.8864\n",
      "Epoch 9/10\n",
      "82270/82270 [==============================] - 67s 818us/step - loss: 0.2324 - categorical_accuracy: 0.9184 - val_loss: 0.3419 - val_categorical_accuracy: 0.8880\n",
      "Epoch 10/10\n",
      "82270/82270 [==============================] - 68s 822us/step - loss: 0.2322 - categorical_accuracy: 0.9187 - val_loss: 0.3544 - val_categorical_accuracy: 0.8846\n"
     ]
    },
    {
     "data": {
      "image/png": "[encoded data removed]",
      "text/plain": [
       "<Figure size 432x288 with 1 Axes>"
      ]
     },
     "metadata": {},
     "output_type": "display_data"
    },
    {
     "name": "stdout",
     "output_type": "stream",
     "text": [
      "---------------\n",
      "| Testing...\n",
      "---------------\n",
      "20568/20568 [==============================] - 8s 373us/step\n",
      "Test loss: 0.35442393451337917\n",
      "Test accuracy: 0.8845779852197588\n",
      "             precision    recall  f1-score   support\n",
      "\n",
      "          0       0.91      0.86      0.88     10330\n",
      "          1       0.86      0.91      0.89     10238\n",
      "\n",
      "avg / total       0.89      0.88      0.88     20568\n",
      "\n"
     ]
    }
   ],
   "source": [
    "main()"
   ]
  },
  {
   "cell_type": "code",
   "execution_count": null,
   "metadata": {},
   "outputs": [],
   "source": []
  },
  {
   "cell_type": "code",
   "execution_count": 9,
   "metadata": {},
   "outputs": [],
   "source": [
    "### ussing adversial model"
   ]
  },
  {
   "cell_type": "code",
   "execution_count": 10,
   "metadata": {},
   "outputs": [],
   "source": [
    "filename_adv = \"data_adversial_wordnet.pkl\""
   ]
  },
  {
   "cell_type": "code",
   "execution_count": 12,
   "metadata": {},
   "outputs": [
    {
     "name": "stdout",
     "output_type": "stream",
     "text": [
      "---------------\n",
      "| Getting data...\n",
      "---------------\n"
     ]
    }
   ],
   "source": [
    "X_test_adv, Y_test_adv = getData(filename_adv)"
   ]
  },
  {
   "cell_type": "code",
   "execution_count": 13,
   "metadata": {},
   "outputs": [
    {
     "name": "stdout",
     "output_type": "stream",
     "text": [
      "---------------\n",
      "| Testing...\n",
      "---------------\n",
      "102664/102664 [==============================] - 50s 490us/step\n",
      "Test loss: 1.564674233615533\n",
      "Test accuracy: 0.5114840645211564\n",
      "             precision    recall  f1-score   support\n",
      "\n",
      "          0       0.51      0.50      0.50     51319\n",
      "          1       0.51      0.53      0.52     51345\n",
      "\n",
      "avg / total       0.51      0.51      0.51    102664\n",
      "\n"
     ]
    }
   ],
   "source": [
    "test(X_test_adv, Y_test_adv)"
   ]
  },
  {
   "cell_type": "code",
   "execution_count": null,
   "metadata": {},
   "outputs": [],
   "source": [
    "// less feature => high test accuracy"
   ]
  }
 ],
 "metadata": {
  "kernelspec": {
   "display_name": "Python 3",
   "language": "python",
   "name": "python3"
  },
  "language_info": {
   "codemirror_mode": {
    "name": "ipython",
    "version": 3
   },
   "file_extension": ".py",
   "mimetype": "text/x-python",
   "name": "python",
   "nbconvert_exporter": "python",
   "pygments_lexer": "ipython3",
   "version": "3.5.4"
  }
 },
 "nbformat": 4,
 "nbformat_minor": 2
}
