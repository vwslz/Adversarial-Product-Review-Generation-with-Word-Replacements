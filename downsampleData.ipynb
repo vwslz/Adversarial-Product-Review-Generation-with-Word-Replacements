{
 "cells": [
  {
   "cell_type": "code",
   "execution_count": 27,
   "metadata": {},
   "outputs": [],
   "source": [
    "import pandas as pd\n",
    "import numpy as np"
   ]
  },
  {
   "cell_type": "code",
   "execution_count": 28,
   "metadata": {},
   "outputs": [],
   "source": [
    "filename = \"data/reviews_Home_and_Kitchen_5.json\"\n",
    "filename_rawdata_100 = \"rawdata_100.pkl\"\n",
    "filename_rawdata_50 = \"rawdata_50.pkl\""
   ]
  },
  {
   "cell_type": "code",
   "execution_count": 29,
   "metadata": {},
   "outputs": [],
   "source": [
    "def saveDataframe(filename, filename_rawdata, subfraction):\n",
    "    data = pd.read_json(filename, lines=True, orient=\"frame\")\n",
    "    \n",
    "    data['reviewText'] = data['reviewText'].str.lower()\n",
    "    \n",
    "    data['overall'] = np.where(data['overall'] < 3, 0, data.overall)\n",
    "    data['overall'] = np.where(data['overall'] > 3, 1, data.overall)\n",
    "\n",
    "    # down sample\n",
    "    data_0 = data.loc[data['overall'] == 0]\n",
    "    data_0 = data_0.sample(frac = subfraction)\n",
    "    data_1 = data.loc[data['overall'] == 1].sample(len(data_0))\n",
    "\n",
    "    data = data_0.append(data_1).sample(frac=1)\n",
    "    data.to_pickle(filename_rawdata)\n",
    "    print(len(data))"
   ]
  },
  {
   "cell_type": "code",
   "execution_count": 30,
   "metadata": {
    "scrolled": true
   },
   "outputs": [
    {
     "name": "stdout",
     "output_type": "stream",
     "text": [
      "102838\n",
      "51420\n"
     ]
    }
   ],
   "source": [
    "saveDataframe(filename, filename_rawdata_100, 1)\n",
    "saveDataframe(filename, filename_rawdata_50, 0.5)"
   ]
  },
  {
   "cell_type": "code",
   "execution_count": null,
   "metadata": {},
   "outputs": [],
   "source": []
  }
 ],
 "metadata": {
  "kernelspec": {
   "display_name": "Python 3",
   "language": "python",
   "name": "python3"
  },
  "language_info": {
   "codemirror_mode": {
    "name": "ipython",
    "version": 3
   },
   "file_extension": ".py",
   "mimetype": "text/x-python",
   "name": "python",
   "nbconvert_exporter": "python",
   "pygments_lexer": "ipython3",
   "version": "3.5.4"
  }
 },
 "nbformat": 4,
 "nbformat_minor": 2
}
