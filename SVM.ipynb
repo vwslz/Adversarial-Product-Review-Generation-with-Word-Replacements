{
 "cells": [
  {
   "cell_type": "code",
   "execution_count": 11,
   "metadata": {},
   "outputs": [],
   "source": [
    "import pandas as pd\n",
    "import tensorflow as tf\n",
    "import matplotlib.pyplot as plt\n",
    "import numpy as np\n",
    "import sklearn as sk\n",
    "import os\n",
    "from keras.utils import np_utils\n",
    "\n",
    "from keras.preprocessing import sequence\n",
    "from keras.models import Sequential\n",
    "from sklearn.metrics import classification_report\n",
    "from keras.preprocessing.text import hashing_trick\n",
    "from keras.preprocessing.text import text_to_word_sequence\n",
    "\n",
    "from sklearn.model_selection import train_test_split\n",
    "from sklearn import svm\n",
    "\n",
    "from nltk.stem.snowball import SnowballStemmer\n",
    "from nltk.tokenize import RegexpTokenizer\n",
    "from sklearn.feature_extraction.text import TfidfVectorizer, CountVectorizer"
   ]
  },
  {
   "cell_type": "code",
   "execution_count": 12,
   "metadata": {},
   "outputs": [],
   "source": [
    "mixeddataname = \"mixed_s.pkl\"\n",
    "modelname = 'SVM_s.h5'\n",
    "num_adv = 20535\n",
    "\n",
    "dim_output = 2\n",
    "\n",
    "size_batch = 10\n",
    "num_epoch = 100\n",
    "l2_lambda = 0.00001\n",
    "\n",
    "stemmer = SnowballStemmer(\"english\")\n",
    "tokenizer = RegexpTokenizer(\"[a-z']+\")"
   ]
  },
  {
   "cell_type": "code",
   "execution_count": 13,
   "metadata": {},
   "outputs": [],
   "source": [
    "def tokenize(text):\n",
    "    tokens = tokenizer.tokenize(text)\n",
    "    return [stemmer.stem(t) for t in tokens] \n",
    "\n",
    "def get_tf(data, use_idf, max_df=1.0, min_df=1, ngram_range=(1,1)):\n",
    "    if use_idf:\n",
    "        m = TfidfVectorizer(\n",
    "            max_df=max_df,\n",
    "            min_df=min_df, \n",
    "            stop_words='english', \n",
    "            ngram_range=ngram_range, \n",
    "            tokenizer=tokenize\n",
    "        )\n",
    "    else:\n",
    "        m = CountVectorizer(max_df=max_df, min_df=min_df, stop_words='english', ngram_range=ngram_range, tokenizer=tokenize)\n",
    "    \n",
    "    d = m.fit_transform(data)\n",
    "    return m, d"
   ]
  },
  {
   "cell_type": "code",
   "execution_count": 14,
   "metadata": {},
   "outputs": [],
   "source": [
    "def getData(filename):\n",
    "    print(\"---------------\")\n",
    "    print(\"| Getting data...\")\n",
    "    print(\"---------------\")\n",
    "    \n",
    "    data = pd.read_pickle(filename)\n",
    "    tfidf_m, tfidf_d = get_tf(data['reviewText'], use_idf=True, max_df=0.90, min_df=10)\n",
    "    \n",
    "    X = tfidf_d[0: tfidf_d.shape[0] - 4 * num_adv - 1]\n",
    "    X_adv = tfidf_d[tfidf_d.shape[0] - 4 * num_adv -1: tfidf_d.shape[0] - 3 *num_adv - 1]\n",
    "    X_adv1 = tfidf_d[tfidf_d.shape[0] - 3 * num_adv -1: tfidf_d.shape[0] - 2 * num_adv - 1]\n",
    "    X_adv2 = tfidf_d[tfidf_d.shape[0] - 2 * num_adv -1: tfidf_d.shape[0] - num_adv - 1]\n",
    "    X_adv3 = tfidf_d[tfidf_d.shape[0] - num_adv -1: -1]\n",
    "    \n",
    "    data_Y = data.overall\n",
    "    Y = data_Y[0: tfidf_d.shape[0] - 4 * num_adv - 1]\n",
    "    Y_adv = data_Y[tfidf_d.shape[0] - 4 * num_adv -1: tfidf_d.shape[0] - 3 * num_adv -1]\n",
    "    Y_adv1 = data_Y[tfidf_d.shape[0] - 3 * num_adv -1: tfidf_d.shape[0] - 2 * num_adv -1]\n",
    "    Y_adv2 = data_Y[tfidf_d.shape[0] - 2 * num_adv -1: tfidf_d.shape[0] - num_adv -1]\n",
    "    Y_adv3 = data_Y[tfidf_d.shape[0] - num_adv -1: -1]\n",
    "    \n",
    "    return X, Y, X_adv, Y_adv, X_adv1, Y_adv1, X_adv2, Y_adv2, X_adv3, Y_adv3, len(tfidf_m.get_feature_names())"
   ]
  },
  {
   "cell_type": "code",
   "execution_count": 15,
   "metadata": {},
   "outputs": [],
   "source": [
    "def splitData(x, y):\n",
    "    X_trains, X_test, Y_trains, Y_test = train_test_split(x, y, test_size=0.2, random_state=42)\n",
    "    X_train, X_validation, Y_train, Y_validation = train_test_split(X_trains, Y_trains, test_size=0.2, random_state=42)\n",
    "    return X_train, X_validation, X_test, Y_train, Y_validation, Y_test"
   ]
  },
  {
   "cell_type": "code",
   "execution_count": 16,
   "metadata": {},
   "outputs": [],
   "source": [
    "from sklearn.metrics import accuracy_score\n",
    "def train(x_train, y_train):\n",
    "    print(\"---------------\")\n",
    "    print(\"| Training...\")\n",
    "    print(\"---------------\")\n",
    "    \n",
    "#     model=svm.SVC(gamma=0.01,C=100.,decision_function_shape='ovo')\n",
    "    model = svm.LinearSVC()\n",
    "    model.fit(x_train, y_train)\n",
    "    \n",
    "    return model"
   ]
  },
  {
   "cell_type": "code",
   "execution_count": 17,
   "metadata": {},
   "outputs": [],
   "source": [
    "def test(model, x_test, y_test):\n",
    "    print(\"---------------\")\n",
    "    print(\"| Testing...\")\n",
    "    print(\"---------------\")\n",
    "\n",
    "    y_pred = model.predict(x_test)\n",
    "    accuracy = accuracy_score(y_test, y_pred)\n",
    "    print(accuracy)\n",
    "    print(classification_report(y_test,y_pred))"
   ]
  },
  {
   "cell_type": "code",
   "execution_count": 8,
   "metadata": {},
   "outputs": [],
   "source": [
    "# def main():\n",
    "# X, Y = getData(dataname)\n",
    "# X_train, X_test, Y_train, Y_test = train_test_split(X, Y, test_size=0.2, random_state=42)\n",
    "# model = train(X_train,Y_train)\n",
    "# test(model, X_test, Y_test)"
   ]
  },
  {
   "cell_type": "code",
   "execution_count": 28,
   "metadata": {
    "scrolled": true
   },
   "outputs": [],
   "source": [
    "# main()"
   ]
  },
  {
   "cell_type": "markdown",
   "metadata": {},
   "source": [
    "### Test with Adversasial Dataset"
   ]
  },
  {
   "cell_type": "markdown",
   "metadata": {},
   "source": [
    "#### Samller Set"
   ]
  },
  {
   "cell_type": "code",
   "execution_count": 43,
   "metadata": {},
   "outputs": [],
   "source": [
    "X, Y, X_adv, Y_adv, X_adv1, Y_adv1, X_adv2, Y_adv2, X_adv3, Y_adv3, dim_input = getData(mixeddataname)\n",
    "X_train, X_test, Y_train, Y_test = train_test_split(X, Y, test_size=0.2, random_state=42)"
   ]
  },
  {
   "cell_type": "code",
   "execution_count": 33,
   "metadata": {},
   "outputs": [
    {
     "name": "stdout",
     "output_type": "stream",
     "text": [
      "---------------\n",
      "| Training...\n",
      "---------------\n"
     ]
    }
   ],
   "source": [
    "model = train(X_train,Y_train)"
   ]
  },
  {
   "cell_type": "code",
   "execution_count": 34,
   "metadata": {},
   "outputs": [
    {
     "name": "stdout",
     "output_type": "stream",
     "text": [
      "---------------\n",
      "| Testing...\n",
      "---------------\n",
      "0.8412736995624697\n",
      "             precision    recall  f1-score   support\n",
      "\n",
      "          0       0.84      0.84      0.84      2054\n",
      "          1       0.84      0.84      0.84      2060\n",
      "\n",
      "avg / total       0.84      0.84      0.84      4114\n",
      "\n"
     ]
    }
   ],
   "source": [
    "test(model, X_test, Y_test)"
   ]
  },
  {
   "cell_type": "code",
   "execution_count": 35,
   "metadata": {},
   "outputs": [
    {
     "name": "stdout",
     "output_type": "stream",
     "text": [
      "---------------\n",
      "| Testing...\n",
      "---------------\n",
      "0.7766739712685659\n",
      "             precision    recall  f1-score   support\n",
      "\n",
      "          0       0.74      0.86      0.79     10264\n",
      "          1       0.83      0.70      0.76     10271\n",
      "\n",
      "avg / total       0.78      0.78      0.78     20535\n",
      "\n"
     ]
    }
   ],
   "source": [
    "test(model, X_adv, Y_adv)"
   ]
  },
  {
   "cell_type": "code",
   "execution_count": 36,
   "metadata": {},
   "outputs": [
    {
     "name": "stdout",
     "output_type": "stream",
     "text": [
      "---------------\n",
      "| Testing...\n",
      "---------------\n",
      "0.9121499878256635\n",
      "             precision    recall  f1-score   support\n",
      "\n",
      "          0       0.91      0.92      0.91     10264\n",
      "          1       0.92      0.90      0.91     10271\n",
      "\n",
      "avg / total       0.91      0.91      0.91     20535\n",
      "\n"
     ]
    }
   ],
   "source": [
    "test(model, X_adv1, Y_adv1)"
   ]
  },
  {
   "cell_type": "code",
   "execution_count": 37,
   "metadata": {},
   "outputs": [
    {
     "name": "stdout",
     "output_type": "stream",
     "text": [
      "---------------\n",
      "| Testing...\n",
      "---------------\n",
      "0.900608716824933\n",
      "             precision    recall  f1-score   support\n",
      "\n",
      "          0       0.89      0.91      0.90     10264\n",
      "          1       0.91      0.89      0.90     10271\n",
      "\n",
      "avg / total       0.90      0.90      0.90     20535\n",
      "\n"
     ]
    }
   ],
   "source": [
    "test(model, X_adv2, Y_adv2)"
   ]
  },
  {
   "cell_type": "code",
   "execution_count": 38,
   "metadata": {},
   "outputs": [
    {
     "name": "stdout",
     "output_type": "stream",
     "text": [
      "---------------\n",
      "| Testing...\n",
      "---------------\n",
      "0.8849281714146578\n",
      "             precision    recall  f1-score   support\n",
      "\n",
      "          0       0.87      0.91      0.89     10264\n",
      "          1       0.90      0.86      0.88     10271\n",
      "\n",
      "avg / total       0.89      0.88      0.88     20535\n",
      "\n"
     ]
    }
   ],
   "source": [
    "test(model, X_adv3, Y_adv3)"
   ]
  },
  {
   "cell_type": "markdown",
   "metadata": {},
   "source": [
    "#### Whole Set"
   ]
  },
  {
   "cell_type": "code",
   "execution_count": 18,
   "metadata": {},
   "outputs": [],
   "source": [
    "mixeddataname = \"mixed.pkl\"\n",
    "num_adv = 20568\n",
    "name_model = 'SVM.h5'"
   ]
  },
  {
   "cell_type": "code",
   "execution_count": 19,
   "metadata": {},
   "outputs": [
    {
     "name": "stdout",
     "output_type": "stream",
     "text": [
      "---------------\n",
      "| Getting data...\n",
      "---------------\n",
      "---------------\n",
      "| Training...\n",
      "---------------\n"
     ]
    }
   ],
   "source": [
    "X, Y, X_adv, Y_adv, X_adv1, Y_adv1, X_adv2, Y_adv2, X_adv3, Y_adv3, dim_input = getData(mixeddataname)\n",
    "X_train, X_test, Y_train, Y_test = train_test_split(X, Y, test_size=0.2, random_state=42)\n",
    "model = train(X_train,Y_train)"
   ]
  },
  {
   "cell_type": "code",
   "execution_count": 20,
   "metadata": {},
   "outputs": [
    {
     "name": "stdout",
     "output_type": "stream",
     "text": [
      "---------------\n",
      "| Testing...\n",
      "---------------\n",
      "0.8703325554259043\n",
      "             precision    recall  f1-score   support\n",
      "\n",
      "          0       0.87      0.87      0.87     10321\n",
      "          1       0.87      0.87      0.87     10247\n",
      "\n",
      "avg / total       0.87      0.87      0.87     20568\n",
      "\n",
      "---------------\n",
      "| Testing...\n",
      "---------------\n",
      "0.7833527810190587\n",
      "             precision    recall  f1-score   support\n",
      "\n",
      "          0       0.75      0.86      0.80     10364\n",
      "          1       0.83      0.70      0.76     10204\n",
      "\n",
      "avg / total       0.79      0.78      0.78     20568\n",
      "\n",
      "---------------\n",
      "| Testing...\n",
      "---------------\n",
      "0.8764099572150914\n",
      "             precision    recall  f1-score   support\n",
      "\n",
      "          0       0.88      0.88      0.88     10363\n",
      "          1       0.88      0.87      0.88     10205\n",
      "\n",
      "avg / total       0.88      0.88      0.88     20568\n",
      "\n",
      "---------------\n",
      "| Testing...\n",
      "---------------\n",
      "0.861192143134967\n",
      "             precision    recall  f1-score   support\n",
      "\n",
      "          0       0.85      0.88      0.86     10363\n",
      "          1       0.87      0.85      0.86     10205\n",
      "\n",
      "avg / total       0.86      0.86      0.86     20568\n",
      "\n",
      "---------------\n",
      "| Testing...\n",
      "---------------\n",
      "0.8396052119797744\n",
      "             precision    recall  f1-score   support\n",
      "\n",
      "          0       0.82      0.87      0.85     10363\n",
      "          1       0.86      0.81      0.83     10205\n",
      "\n",
      "avg / total       0.84      0.84      0.84     20568\n",
      "\n"
     ]
    }
   ],
   "source": [
    "test(model, X_test, Y_test)\n",
    "test(model, X_adv, Y_adv)\n",
    "test(model, X_adv1, Y_adv1)\n",
    "test(model, X_adv2, Y_adv2)\n",
    "test(model, X_adv3, Y_adv3)"
   ]
  },
  {
   "cell_type": "code",
   "execution_count": null,
   "metadata": {},
   "outputs": [],
   "source": []
  },
  {
   "cell_type": "code",
   "execution_count": null,
   "metadata": {},
   "outputs": [],
   "source": []
  }
 ],
 "metadata": {
  "kernelspec": {
   "display_name": "Python 3",
   "language": "python",
   "name": "python3"
  },
  "language_info": {
   "codemirror_mode": {
    "name": "ipython",
    "version": 3
   },
   "file_extension": ".py",
   "mimetype": "text/x-python",
   "name": "python",
   "nbconvert_exporter": "python",
   "pygments_lexer": "ipython3",
   "version": "3.5.4"
  }
 },
 "nbformat": 4,
 "nbformat_minor": 2
}
