{
 "cells": [
  {
   "cell_type": "code",
   "execution_count": 1,
   "metadata": {},
   "outputs": [
    {
     "name": "stderr",
     "output_type": "stream",
     "text": [
      "Using TensorFlow backend.\n"
     ]
    }
   ],
   "source": [
    "from keras.preprocessing import sequence\n",
    "from keras.models import Sequential\n",
    "from keras.layers import Dense, Dropout, Embedding, LSTM, Bidirectional\n",
    "\n",
    "import pandas as pd\n",
    "import tensorflow as tf\n",
    "import matplotlib.pyplot as plt\n",
    "import numpy as np\n",
    "from numpy import asarray\n",
    "import sklearn as sk\n",
    "from sklearn.model_selection import ShuffleSplit\n",
    "from sklearn.preprocessing import OneHotEncoder\n",
    "import os\n",
    "from keras.utils import np_utils\n",
    "from sklearn.model_selection import train_test_split\n",
    "\n",
    "from keras.preprocessing import sequence\n",
    "from keras.models import Sequential\n",
    "from keras.preprocessing.text import Tokenizer\n",
    "from sklearn.metrics import classification_report\n",
    "from keras.preprocessing.text import hashing_trick\n",
    "from keras.preprocessing.text import text_to_word_sequence\n",
    "\n",
    "from keras.preprocessing.text import Tokenizer\n",
    "from keras.models import load_model"
   ]
  },
  {
   "cell_type": "code",
   "execution_count": 2,
   "metadata": {},
   "outputs": [],
   "source": [
    "filenames = [\"data/reviews_Home_and_Kitchen_5.json\"]\n",
    "filename = \"data/reviews_Home_and_Kitchen_5.json\"\n",
    "t = Tokenizer()\n",
    "max_features = 20000\n",
    "maxlen = 100\n",
    "batch_size = 32\n",
    "\n",
    "dictionary_size = 0\n",
    "embed_dim = 300\n",
    "num_hidden_unit_lstm = 300\n",
    "num_filter = 100\n",
    "window_size = 3\n",
    "pool_size = 2\n",
    "batch_size = 10\n",
    "learning_rate = 0.1\n",
    "dropout_embed = 0.5\n",
    "dropout_blstm = 0.2\n",
    "dropout_penultimate = 0.4\n",
    "l2_lambda = 0.000001\n",
    "\n",
    "randomShuffle = ShuffleSplit(n_splits=1, test_size=.2, random_state=0)"
   ]
  },
  {
   "cell_type": "markdown",
   "metadata": {},
   "source": [
    "### Data Preprocessing"
   ]
  },
  {
   "cell_type": "code",
   "execution_count": 4,
   "metadata": {},
   "outputs": [],
   "source": [
    "def getXY(filename, num_class):\n",
    "    data = pd.read_json(filename, lines=True, orient=\"frame\")\n",
    "    data['overall'] = np.where(data['overall'] < 3, 0, data.overall)\n",
    "    data['overall'] = np.where(data['overall'] > 3, 1, data.overall)\n",
    "    \n",
    "    # down sample\n",
    "    data_0 = data.loc[data['overall'] == 0]\n",
    "    data_0 = data_0.sample(frac=0.4)\n",
    "    data_1 = data.loc[data['overall'] == 1].sample(len(data_0))\n",
    "    \n",
    "    data = data_0.append(data_1).sample(frac=1)\n",
    "    \n",
    "    good_columns = [3]\n",
    "    onehot_encoder = OneHotEncoder(sparse=False)\n",
    "    data_X = data.iloc[:, good_columns]\n",
    "    data_Y = data.iloc[:, 2]\n",
    "    \n",
    "    reviewTextList = data.reviewText.values\n",
    "    t.fit_on_texts(reviewTextList)\n",
    "\n",
    "    text = t.texts_to_matrix(reviewTextList, mode='count')\n",
    "    \n",
    "    data_X = text\n",
    "    data_Y = np_utils.to_categorical(data_Y, num_class)\n",
    "    return data_X, data_Y, text.shape[1]"
   ]
  },
  {
   "cell_type": "code",
   "execution_count": 28,
   "metadata": {},
   "outputs": [],
   "source": [
    "def SVMModel(num_class, input_dim, x_train, x_test, y_train, y_test, batch_size, epochs, name_model):\n",
    "    print(\"x_train: \", x_train.shape)\n",
    "    print(\"y_train: \", y_train.shape)\n",
    "    print(\"x_test: \", x_test.shape)\n",
    "    print(\"y_test: \", y_test.shape)\n",
    "#     print(\"x_train:\",x_train[0])\n",
    "#     print(\"x_test:\",x_test[0])\n",
    "#     print('y_train:',y_train[0])\n",
    "#     print('y_test',y_test[0])\n",
    "    model = Sequential()\n",
    "    model.add(Dense(2,input_dim=input_dim,activation='softmax'))\n",
    "    print(model.summary())\n",
    "    model.compile(optimizer='adam',loss='categorical_crossentropy',metrics=['categorical_accuracy'])\n",
    "    history=model.fit(x_train,y_train,\n",
    "                      batch_size=batch_size,\n",
    "                      epochs=epochs,\n",
    "                      validation_data=(x_test,y_test),\n",
    "                      )\n",
    "    score=model.evaluate(x_test,y_test)\n",
    "    print('Test loss:',score[0])\n",
    "    print('Test accuracy:',score[1])\n",
    "    plt.figure('categorical_accuracy')\n",
    "    plt.xlabel('Iterations')\n",
    "    plt.ylabel('Categorical Accuracy')\n",
    "    plt.plot(history.history['categorical_accuracy'])\n",
    "    plt.show()\n",
    "    y_test=np.argmax(y_test,axis=1)\n",
    "    y_pred=model.predict_classes(x_test)\n",
    "    print(classification_report(y_test,y_pred))\n",
    "    \n",
    "    model.save(name_model)\n",
    "    del model"
   ]
  },
  {
   "cell_type": "code",
   "execution_count": 6,
   "metadata": {
    "scrolled": false
   },
   "outputs": [],
   "source": [
    "num_class = 2\n",
    "# X, Y, input_dim = getXY(filename, num_class)"
   ]
  },
  {
   "cell_type": "code",
   "execution_count": 6,
   "metadata": {},
   "outputs": [
    {
     "name": "stdout",
     "output_type": "stream",
     "text": [
      "-----------------------------\n",
      "data/reviews_Home_and_Kitchen_5.json:\n",
      "input dimension:  44816\n",
      "x_train:  (32908, 44816)\n",
      "y_train:  (32908, 2)\n",
      "x_test:  (8228, 44816)\n",
      "y_test:  (8228, 2)\n",
      "_________________________________________________________________\n",
      "Layer (type)                 Output Shape              Param #   \n",
      "=================================================================\n",
      "dense_1 (Dense)              (None, 2)                 89634     \n",
      "=================================================================\n",
      "Total params: 89,634\n",
      "Trainable params: 89,634\n",
      "Non-trainable params: 0\n",
      "_________________________________________________________________\n",
      "None\n",
      "Train on 32908 samples, validate on 8228 samples\n",
      "Epoch 1/10\n",
      "32908/32908 [==============================] - 75s 2ms/step - loss: 0.3814 - categorical_accuracy: 0.8590 - val_loss: 0.3335 - val_categorical_accuracy: 0.8798\n",
      "Epoch 2/10\n",
      "32908/32908 [==============================] - 42s 1ms/step - loss: 0.2529 - categorical_accuracy: 0.9094 - val_loss: 0.3090 - val_categorical_accuracy: 0.8836\n",
      "Epoch 3/10\n",
      "32908/32908 [==============================] - 50s 2ms/step - loss: 0.2122 - categorical_accuracy: 0.9251 - val_loss: 0.3160 - val_categorical_accuracy: 0.8789\n",
      "Epoch 4/10\n",
      "32908/32908 [==============================] - 47s 1ms/step - loss: 0.1822 - categorical_accuracy: 0.9352 - val_loss: 0.3236 - val_categorical_accuracy: 0.8802\n",
      "Epoch 5/10\n",
      "32908/32908 [==============================] - 51s 2ms/step - loss: 0.1642 - categorical_accuracy: 0.9420 - val_loss: 0.3281 - val_categorical_accuracy: 0.8775\n",
      "Epoch 6/10\n",
      "32908/32908 [==============================] - 45s 1ms/step - loss: 0.1497 - categorical_accuracy: 0.9486 - val_loss: 0.3372 - val_categorical_accuracy: 0.8771\n",
      "Epoch 7/10\n",
      "32908/32908 [==============================] - 49s 2ms/step - loss: 0.1358 - categorical_accuracy: 0.9533 - val_loss: 0.3470 - val_categorical_accuracy: 0.8737\n",
      "Epoch 8/10\n",
      "32908/32908 [==============================] - 46s 1ms/step - loss: 0.1267 - categorical_accuracy: 0.9568 - val_loss: 0.3609 - val_categorical_accuracy: 0.8718\n",
      "Epoch 9/10\n",
      "32908/32908 [==============================] - 43s 1ms/step - loss: 0.1170 - categorical_accuracy: 0.9615 - val_loss: 0.3790 - val_categorical_accuracy: 0.8690\n",
      "Epoch 10/10\n",
      "32908/32908 [==============================] - 48s 1ms/step - loss: 0.1103 - categorical_accuracy: 0.9638 - val_loss: 0.3841 - val_categorical_accuracy: 0.8707\n",
      "8228/8228 [==============================] - 6s 696us/step\n",
      "Test loss: 0.38414827176615574\n",
      "Test accuracy: 0.8706854642683519\n"
     ]
    },
    {
     "data": {
      "image/png": "[encoded data removed]",
      "text/plain": [
       "<Figure size 432x288 with 1 Axes>"
      ]
     },
     "metadata": {},
     "output_type": "display_data"
    },
    {
     "name": "stdout",
     "output_type": "stream",
     "text": [
      "             precision    recall  f1-score   support\n",
      "\n",
      "          0       0.88      0.86      0.87      4130\n",
      "          1       0.86      0.88      0.87      4098\n",
      "\n",
      "avg / total       0.87      0.87      0.87      8228\n",
      "\n"
     ]
    }
   ],
   "source": [
    "for filename in filenames:\n",
    "    print(\"-----------------------------\")\n",
    "    print(filename + \":\")\n",
    "    X, Y, input_dim = getXY(filename, num_class)\n",
    "    print(\"input dimension: \", input_dim)\n",
    "    for train_index, test_index in randomShuffle.split(X):\n",
    "        X_train = X[train_index]\n",
    "        Y_train = Y[train_index, :]\n",
    "        X_test = X[test_index]\n",
    "        Y_test = Y[test_index, :]\n",
    "        \n",
    "        SVMModel(num_class, input_dim, X_train, X_test, Y_train, Y_test, 10, 10, 'SVM.H5')"
   ]
  },
  {
   "cell_type": "code",
   "execution_count": 7,
   "metadata": {},
   "outputs": [],
   "source": [
    "model = load_model('SVM.h5')"
   ]
  },
  {
   "cell_type": "code",
   "execution_count": 3,
   "metadata": {
    "scrolled": true
   },
   "outputs": [
    {
     "data": {
      "text/html": [
       "<div>\n",
       "<style scoped>\n",
       "    .dataframe tbody tr th:only-of-type {\n",
       "        vertical-align: middle;\n",
       "    }\n",
       "\n",
       "    .dataframe tbody tr th {\n",
       "        vertical-align: top;\n",
       "    }\n",
       "\n",
       "    .dataframe thead th {\n",
       "        text-align: right;\n",
       "    }\n",
       "</style>\n",
       "<table border=\"1\" class=\"dataframe\">\n",
       "  <thead>\n",
       "    <tr style=\"text-align: right;\">\n",
       "      <th></th>\n",
       "      <th></th>\n",
       "      <th>reviewText</th>\n",
       "      <th>overall</th>\n",
       "      <th>bucket</th>\n",
       "    </tr>\n",
       "    <tr>\n",
       "      <th>bucket</th>\n",
       "      <th></th>\n",
       "      <th></th>\n",
       "      <th></th>\n",
       "      <th></th>\n",
       "    </tr>\n",
       "  </thead>\n",
       "  <tbody>\n",
       "    <tr>\n",
       "      <th>2</th>\n",
       "      <th>394890</th>\n",
       "      <td>J.A. Henckels arguably make the best knives available on the mass market.  This set of plastic-handled paring knives is obviously not the highest quality that Henckels offers.  However, the value is extraordinary (about four dollars per knife). After all, if you buy an ultra-cheap paring knife at the grocery store, you're likely to pay just as much.  Furthermore, you can afford to replace the set if they wear out after awhile.  I actually bought my set at a local high-end cookware store: for twice as much!I've had my set for about 6 months and they've held up well.  They're dishwasher safe and clean easily - I haven't had any problems with rusting or staining.  The four knives have different blades, but I've found all of them to be useful for most quick cutting and paring jobs.  They're also attractive - what more can you ask?  Most highly recommended.</td>\n",
       "      <td>5.0</td>\n",
       "      <td>2</td>\n",
       "    </tr>\n",
       "    <tr>\n",
       "      <th rowspan=\"2\" valign=\"top\">1</th>\n",
       "      <th>28394</th>\n",
       "      <td>To be honest, I only bought this because I kept seeing how expensive waffle cones were at the ice cream shop and thought, I bet I could make it for cheaper.  Apparently, I need a machine to do it right.  Who really, really needs a waffle cone maker anyway?  It was a little on the pricey side but then I divided it out and it comes out to be about 20 waffle cones at the ice cream shop. In those terms, I thought, \"Wow, cheap!\" However, if I wasn't so fixated on the ice cream shop's waffle cones, then maybe I would have thought, \"Really? $50 for a waffle cone maker? Not.\"But, I succumbed to my weakness and bought the unit. Overall, it's OK. The only trick is trying to control the temperature of the unit. The unit doesn't have a temperature control where you can really set it precisely. It's a sort of hiss-or-miss thing. I made an entire rainbow of waffle cones from dark chocolate color all the way to vanilla color. 50 waffle cones later, I still couldn't get the color right. There would be splotches of white embedded in a sea of brown. I think it's those areas that the temperature was uneven.So, if you've got some money to spend and are obsessed with the high price of waffle cones at the ice cream store, then I say do it ... buy this machine. But, if I had a choice, I think I would opt to spend my $50 on 20 waffle cones at the ice cream shop instead. At least there, I always get the perfect waffle cone and I don't have to force my family to eat the \"rejects\" when I can't get the temperature right.</td>\n",
       "      <td>3.0</td>\n",
       "      <td>1</td>\n",
       "    </tr>\n",
       "    <tr>\n",
       "      <th>160258</th>\n",
       "      <td>This was an inexpensive purchase to be sent where I'd be a houseguest for a week. I am addicted to my fan at night. This one blows plenty of air, but it is pretty loud. Because of the noise, I would not buy it again for use  while sleeping.</td>\n",
       "      <td>3.0</td>\n",
       "      <td>1</td>\n",
       "    </tr>\n",
       "  </tbody>\n",
       "</table>\n",
       "</div>"
      ],
      "text/plain": [
       "                                                                                                                                                                                                                                                                                                                                                                                                                                                                                                                                                                                                                                                                                                                                                                                                                                                                                                                                                                                                                                                                                                                                                                                                                                                                                                                                                                                                                                                                                                                                                                                   reviewText  \\\n",
       "bucket                                                                                                                                                                                                                                                                                                                                                                                                                                                                                                                                                                                                                                                                                                                                                                                                                                                                                                                                                                                                                                                                                                                                                                                                                                                                                                                                                                                                                                                                                                                                                                                          \n",
       "2      394890  J.A. Henckels arguably make the best knives available on the mass market.  This set of plastic-handled paring knives is obviously not the highest quality that Henckels offers.  However, the value is extraordinary (about four dollars per knife). After all, if you buy an ultra-cheap paring knife at the grocery store, you're likely to pay just as much.  Furthermore, you can afford to replace the set if they wear out after awhile.  I actually bought my set at a local high-end cookware store: for twice as much!I've had my set for about 6 months and they've held up well.  They're dishwasher safe and clean easily - I haven't had any problems with rusting or staining.  The four knives have different blades, but I've found all of them to be useful for most quick cutting and paring jobs.  They're also attractive - what more can you ask?  Most highly recommended.                                                                                                                                                                                                                                                                                                                                                                                                                                                                                                                                                                                                                                                                                 \n",
       "1      28394   To be honest, I only bought this because I kept seeing how expensive waffle cones were at the ice cream shop and thought, I bet I could make it for cheaper.  Apparently, I need a machine to do it right.  Who really, really needs a waffle cone maker anyway?  It was a little on the pricey side but then I divided it out and it comes out to be about 20 waffle cones at the ice cream shop. In those terms, I thought, \"Wow, cheap!\" However, if I wasn't so fixated on the ice cream shop's waffle cones, then maybe I would have thought, \"Really? $50 for a waffle cone maker? Not.\"But, I succumbed to my weakness and bought the unit. Overall, it's OK. The only trick is trying to control the temperature of the unit. The unit doesn't have a temperature control where you can really set it precisely. It's a sort of hiss-or-miss thing. I made an entire rainbow of waffle cones from dark chocolate color all the way to vanilla color. 50 waffle cones later, I still couldn't get the color right. There would be splotches of white embedded in a sea of brown. I think it's those areas that the temperature was uneven.So, if you've got some money to spend and are obsessed with the high price of waffle cones at the ice cream store, then I say do it ... buy this machine. But, if I had a choice, I think I would opt to spend my $50 on 20 waffle cones at the ice cream shop instead. At least there, I always get the perfect waffle cone and I don't have to force my family to eat the \"rejects\" when I can't get the temperature right.   \n",
       "       160258  This was an inexpensive purchase to be sent where I'd be a houseguest for a week. I am addicted to my fan at night. This one blows plenty of air, but it is pretty loud. Because of the noise, I would not buy it again for use  while sleeping.                                                                                                                                                                                                                                                                                                                                                                                                                                                                                                                                                                                                                                                                                                                                                                                                                                                                                                                                                                                                                                                                                                                                                                                                                                                                                                                                 \n",
       "\n",
       "               overall  bucket  \n",
       "bucket                          \n",
       "2      394890  5.0      2       \n",
       "1      28394   3.0      1       \n",
       "       160258  3.0      1       "
      ]
     },
     "execution_count": 3,
     "metadata": {},
     "output_type": "execute_result"
    }
   ],
   "source": [
    "cat = [0, 1, 2]\n",
    "def cat_y(y):\n",
    "    if y<=2.0:\n",
    "        return cat[0]\n",
    "    elif y>=4.0:\n",
    "        return cat[2]\n",
    "    else:\n",
    "        return cat[1]\n",
    "\n",
    "def get_reviews(path, n_samples):\n",
    "    dt = {}\n",
    "    i=0\n",
    "    with open(path) as f:\n",
    "        for d in f.readlines():\n",
    "            dt[i] = eval(d)\n",
    "            i += 1\n",
    "    df = pd.DataFrame.from_dict(dt, orient='index')[['reviewText','overall']]\n",
    "    df = df[df['reviewText'].apply(lambda x: len(x.split())>=45)]\n",
    "    df['bucket'] = df['overall'].apply(cat_y)\n",
    "    \n",
    "    df = df.groupby('bucket').apply(lambda x: x.sample(n=n_samples))\n",
    "    return df\n",
    "\n",
    "data = get_reviews('data/reviews_Home_and_Kitchen_5.json', 10000)\n",
    "pd.set_option('display.max_colwidth', -1)\n",
    "data.sample(3)"
   ]
  },
  {
   "cell_type": "code",
   "execution_count": 26,
   "metadata": {},
   "outputs": [],
   "source": [
    "def getXY(filename, num_class):   \n",
    "    cat = [0, 1]\n",
    "    def cat_y(y):\n",
    "        if y<=2.0:\n",
    "            return cat[0]\n",
    "        elif y>=4.0:\n",
    "            return cat[1]\n",
    "\n",
    "    def get_reviews(path, n_samples):\n",
    "        dt = {}\n",
    "        i=0\n",
    "        with open(path) as f:\n",
    "            for d in f.readlines():\n",
    "                dt[i] = eval(d)\n",
    "                i += 1\n",
    "        df = pd.DataFrame.from_dict(dt, orient='index')[['reviewText','overall']]\n",
    "        print(\"before: \", len(df))\n",
    "        df = df.drop(df[df.overall == 3.0].index)\n",
    "        print(\"after: \", len(df))\n",
    "        df = df[df['reviewText'].apply(lambda x: len(x.split())>=45)]\n",
    "        df['bucket'] = df['overall'].apply(cat_y)\n",
    "\n",
    "        df = df.groupby('bucket').apply(lambda x: x.sample(n=n_samples))\n",
    "        return df\n",
    "\n",
    "    data = get_reviews('data/reviews_Home_and_Kitchen_5.json', 10000)\n",
    "    \n",
    "    good_columns = [3]\n",
    "    onehot_encoder = OneHotEncoder(sparse=False)\n",
    "    data_X = data.iloc[:, 0]\n",
    "    data_Y = data.iloc[:, 2]\n",
    "    \n",
    "    reviewTextList = data.reviewText.values\n",
    "    t.fit_on_texts(reviewTextList)\n",
    "\n",
    "    text = t.texts_to_matrix(reviewTextList, mode='count')\n",
    "    \n",
    "    data_X = text\n",
    "    data_Y = np_utils.to_categorical(data_Y, num_class)\n",
    "    return data_X, data_Y, text.shape[1]"
   ]
  },
  {
   "cell_type": "code",
   "execution_count": 30,
   "metadata": {},
   "outputs": [
    {
     "name": "stdout",
     "output_type": "stream",
     "text": [
      "-----------------------------\n",
      "data/reviews_Home_and_Kitchen_5.json:\n",
      "before:  551682\n",
      "after:  506623\n",
      "input dimension:  66145\n",
      "x_train:  (16000, 66145)\n",
      "y_train:  (16000, 2)\n",
      "x_test:  (4000, 66145)\n",
      "y_test:  (4000, 2)\n",
      "_________________________________________________________________\n",
      "Layer (type)                 Output Shape              Param #   \n",
      "=================================================================\n",
      "dense_2 (Dense)              (None, 2)                 132292    \n",
      "=================================================================\n",
      "Total params: 132,292\n",
      "Trainable params: 132,292\n",
      "Non-trainable params: 0\n",
      "_________________________________________________________________\n",
      "None\n",
      "Train on 16000 samples, validate on 4000 samples\n",
      "Epoch 1/10\n",
      "16000/16000 [==============================] - 50s 3ms/step - loss: 0.4215 - categorical_accuracy: 0.8376 - val_loss: 0.3314 - val_categorical_accuracy: 0.8762\n",
      "Epoch 2/10\n",
      "16000/16000 [==============================] - 29s 2ms/step - loss: 0.2601 - categorical_accuracy: 0.9098 - val_loss: 0.3129 - val_categorical_accuracy: 0.8755\n",
      "Epoch 3/10\n",
      "16000/16000 [==============================] - 27s 2ms/step - loss: 0.1991 - categorical_accuracy: 0.9342 - val_loss: 0.3137 - val_categorical_accuracy: 0.8730\n",
      "Epoch 4/10\n",
      "16000/16000 [==============================] - 27s 2ms/step - loss: 0.1635 - categorical_accuracy: 0.9491 - val_loss: 0.3168 - val_categorical_accuracy: 0.8725\n",
      "Epoch 5/10\n",
      "16000/16000 [==============================] - 35s 2ms/step - loss: 0.1367 - categorical_accuracy: 0.9594 - val_loss: 0.3350 - val_categorical_accuracy: 0.8655\n",
      "Epoch 6/10\n",
      "16000/16000 [==============================] - 29s 2ms/step - loss: 0.1157 - categorical_accuracy: 0.9675 - val_loss: 0.3349 - val_categorical_accuracy: 0.8690\n",
      "Epoch 7/10\n",
      "16000/16000 [==============================] - 28s 2ms/step - loss: 0.1011 - categorical_accuracy: 0.9747 - val_loss: 0.3494 - val_categorical_accuracy: 0.8642\n",
      "Epoch 8/10\n",
      "16000/16000 [==============================] - 27s 2ms/step - loss: 0.0879 - categorical_accuracy: 0.9789 - val_loss: 0.3616 - val_categorical_accuracy: 0.8620\n",
      "Epoch 9/10\n",
      "16000/16000 [==============================] - 27s 2ms/step - loss: 0.0765 - categorical_accuracy: 0.9821 - val_loss: 0.3702 - val_categorical_accuracy: 0.8602\n",
      "Epoch 10/10\n",
      "16000/16000 [==============================] - 27s 2ms/step - loss: 0.0675 - categorical_accuracy: 0.9855 - val_loss: 0.3893 - val_categorical_accuracy: 0.8555\n",
      "4000/4000 [==============================] - 4s 891us/step\n",
      "Test loss: 0.3892513360977173\n",
      "Test accuracy: 0.8555\n"
     ]
    },
    {
     "data": {
      "image/png": "[encoded data removed]",
      "text/plain": [
       "<Figure size 432x288 with 1 Axes>"
      ]
     },
     "metadata": {},
     "output_type": "display_data"
    },
    {
     "name": "stdout",
     "output_type": "stream",
     "text": [
      "             precision    recall  f1-score   support\n",
      "\n",
      "          0       0.86      0.84      0.85      1994\n",
      "          1       0.85      0.87      0.86      2006\n",
      "\n",
      "avg / total       0.86      0.86      0.86      4000\n",
      "\n"
     ]
    }
   ],
   "source": [
    "num_class = 2\n",
    "for filename in filenames:\n",
    "    print(\"-----------------------------\")\n",
    "    print(filename + \":\")\n",
    "    X, Y, input_dim = getXY(filename, num_class)\n",
    "    print(\"input dimension: \", input_dim)\n",
    "    for train_index, test_index in randomShuffle.split(X):\n",
    "        X_train = X[train_index]\n",
    "        Y_train = Y[train_index, :]\n",
    "        X_test = X[test_index]\n",
    "        Y_test = Y[test_index, :]\n",
    "        \n",
    "        SVMModel(num_class, input_dim, X_train, X_test, Y_train, Y_test, 10, 10, 'SVM.H5')"
   ]
  },
  {
   "cell_type": "code",
   "execution_count": 31,
   "metadata": {},
   "outputs": [],
   "source": [
    "### The upper only 20000 cases"
   ]
  },
  {
   "cell_type": "code",
   "execution_count": null,
   "metadata": {},
   "outputs": [],
   "source": []
  }
 ],
 "metadata": {
  "kernelspec": {
   "display_name": "Python 3",
   "language": "python",
   "name": "python3"
  },
  "language_info": {
   "codemirror_mode": {
    "name": "ipython",
    "version": 3
   },
   "file_extension": ".py",
   "mimetype": "text/x-python",
   "name": "python",
   "nbconvert_exporter": "python",
   "pygments_lexer": "ipython3",
   "version": "3.5.4"
  }
 },
 "nbformat": 4,
 "nbformat_minor": 2
}
