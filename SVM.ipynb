{
 "cells": [
  {
   "cell_type": "code",
   "execution_count": 43,
   "metadata": {},
   "outputs": [],
   "source": [
    "import pandas as pd\n",
    "import tensorflow as tf\n",
    "import matplotlib.pyplot as plt\n",
    "import numpy as np\n",
    "import sklearn as sk\n",
    "import os\n",
    "from keras.utils import np_utils\n",
    "\n",
    "from keras.preprocessing import sequence\n",
    "from keras.models import Sequential\n",
    "from sklearn.metrics import classification_report\n",
    "from keras.preprocessing.text import hashing_trick\n",
    "from keras.preprocessing.text import text_to_word_sequence\n",
    "\n",
    "from sklearn.model_selection import train_test_split\n",
    "from sklearn import svm\n",
    "\n",
    "from nltk.stem.snowball import SnowballStemmer\n",
    "from nltk.tokenize import RegexpTokenizer\n",
    "from sklearn.feature_extraction.text import TfidfVectorizer, CountVectorizer"
   ]
  },
  {
   "cell_type": "code",
   "execution_count": 44,
   "metadata": {},
   "outputs": [],
   "source": [
    "mixeddataname = \"mixed_20568.pkl\"\n",
    "modelname = 'SVM.h5'\n",
    "\n",
    "dim_output = 2\n",
    "\n",
    "size_batch = 10\n",
    "num_epoch = 100\n",
    "l2_lambda = 0.00001\n",
    "\n",
    "stemmer = SnowballStemmer(\"english\")\n",
    "tokenizer = RegexpTokenizer(\"[a-z']+\")"
   ]
  },
  {
   "cell_type": "code",
   "execution_count": 45,
   "metadata": {},
   "outputs": [],
   "source": [
    "def tokenize(text):\n",
    "    tokens = tokenizer.tokenize(text)\n",
    "    return [stemmer.stem(t) for t in tokens] \n",
    "\n",
    "def get_tf(data, use_idf, max_df=1.0, min_df=1, ngram_range=(1,1)):\n",
    "    if use_idf:\n",
    "        m = TfidfVectorizer(\n",
    "            max_df=max_df,\n",
    "            min_df=min_df, \n",
    "            stop_words='english', \n",
    "            ngram_range=ngram_range, \n",
    "            tokenizer=tokenize\n",
    "        )\n",
    "    else:\n",
    "        m = CountVectorizer(max_df=max_df, min_df=min_df, stop_words='english', ngram_range=ngram_range, tokenizer=tokenize)\n",
    "    \n",
    "    d = m.fit_transform(data)\n",
    "    return m, d"
   ]
  },
  {
   "cell_type": "code",
   "execution_count": 46,
   "metadata": {},
   "outputs": [],
   "source": [
    "def getData(filename):\n",
    "    print(\"---------------\")\n",
    "    print(\"| Getting data...\")\n",
    "    print(\"---------------\")\n",
    "    \n",
    "    data = pd.read_pickle(filename)\n",
    "    tfidf_m, tfidf_d = get_tf(data['reviewText'], use_idf=True, max_df=0.90, min_df=10)\n",
    "    \n",
    "    X = tfidf_d[0: tfidf_d.shape[0] - 20568 - 1]\n",
    "    X_adv = tfidf_d[tfidf_d.shape[0] - 20568 -1: -1]\n",
    "    data_Y = data.overall\n",
    "    Y = data_Y[0: tfidf_d_mixed.shape[0] - 20568 - 1]\n",
    "    Y_adv = data_Y[tfidf_d_mixed.shape[0] - 20568 -1: -1]\n",
    "    return X, Y, X_adv, Y_adv"
   ]
  },
  {
   "cell_type": "code",
   "execution_count": 47,
   "metadata": {},
   "outputs": [],
   "source": [
    "def splitData(x, y):\n",
    "    X_trains, X_test, Y_trains, Y_test = train_test_split(x, y, test_size=0.2, random_state=42)\n",
    "    X_train, X_validation, Y_train, Y_validation = train_test_split(X_trains, Y_trains, test_size=0.2, random_state=42)\n",
    "    return X_train, X_validation, X_test, Y_train, Y_validation, Y_test"
   ]
  },
  {
   "cell_type": "code",
   "execution_count": 48,
   "metadata": {},
   "outputs": [],
   "source": [
    "from sklearn.metrics import accuracy_score\n",
    "def train(x_train, y_train):\n",
    "    print(\"---------------\")\n",
    "    print(\"| Training...\")\n",
    "    print(\"---------------\")\n",
    "    \n",
    "    print(str(datetime.now()))\n",
    "    \n",
    "#     model=svm.SVC(gamma=0.01,C=100.,decision_function_shape='ovo')\n",
    "    model = svm.LinearSVC()\n",
    "    model.fit(x_train, y_train)\n",
    "    \n",
    "    print(str(datetime.now()))\n",
    "    \n",
    "    return model"
   ]
  },
  {
   "cell_type": "code",
   "execution_count": 49,
   "metadata": {},
   "outputs": [],
   "source": [
    "def test(model, x_test, y_test):\n",
    "    print(\"---------------\")\n",
    "    print(\"| Testing...\")\n",
    "    print(\"---------------\")\n",
    "    \n",
    "    print(str(datetime.now()))\n",
    "\n",
    "    y_pred = model.predict(x_test)\n",
    "    accuracy = accuracy_score(y_test, y_pred)\n",
    "    print(accuracy)\n",
    "    print(classification_report(y_test,y_pred))\n",
    "    \n",
    "    print(str(datetime.now()))"
   ]
  },
  {
   "cell_type": "code",
   "execution_count": 50,
   "metadata": {},
   "outputs": [],
   "source": [
    "# def main():\n",
    "# X, Y = getData(dataname)\n",
    "# X_train, X_test, Y_train, Y_test = train_test_split(X, Y, test_size=0.2, random_state=42)\n",
    "# model = train(X_train,Y_train)\n",
    "# test(model, X_test, Y_test)"
   ]
  },
  {
   "cell_type": "code",
   "execution_count": 51,
   "metadata": {
    "scrolled": true
   },
   "outputs": [],
   "source": [
    "# main()"
   ]
  },
  {
   "cell_type": "markdown",
   "metadata": {},
   "source": [
    "### Test with Adversasial Dataset"
   ]
  },
  {
   "cell_type": "code",
   "execution_count": 54,
   "metadata": {},
   "outputs": [
    {
     "name": "stdout",
     "output_type": "stream",
     "text": [
      "---------------\n",
      "| Getting data...\n",
      "---------------\n",
      "---------------\n",
      "| Training...\n",
      "---------------\n",
      "2018-06-18 03:01:14.052377\n",
      "[LibLinear]2018-06-18 03:01:15.143194\n"
     ]
    }
   ],
   "source": [
    "X, Y, X_adv, Y_adv = getData(mixeddataname)\n",
    "X_train, X_test, Y_train, Y_test = train_test_split(X, Y, test_size=0.2, random_state=42)\n",
    "model = train(X_train,Y_train)"
   ]
  },
  {
   "cell_type": "code",
   "execution_count": 55,
   "metadata": {},
   "outputs": [
    {
     "name": "stdout",
     "output_type": "stream",
     "text": [
      "---------------\n",
      "| Testing...\n",
      "---------------\n",
      "2018-06-18 03:01:15.148165\n",
      "0.8670264488525865\n",
      "             precision    recall  f1-score   support\n",
      "\n",
      "          0       0.87      0.86      0.87     10392\n",
      "          1       0.86      0.87      0.87     10176\n",
      "\n",
      "avg / total       0.87      0.87      0.87     20568\n",
      "\n",
      "2018-06-18 03:01:15.173098\n"
     ]
    }
   ],
   "source": [
    "test(model, X_test, Y_test)"
   ]
  },
  {
   "cell_type": "code",
   "execution_count": 56,
   "metadata": {},
   "outputs": [
    {
     "name": "stdout",
     "output_type": "stream",
     "text": [
      "---------------\n",
      "| Testing...\n",
      "---------------\n",
      "2018-06-18 03:01:15.183071\n",
      "0.7990567872423182\n",
      "             precision    recall  f1-score   support\n",
      "\n",
      "          0       0.78      0.83      0.81     10330\n",
      "          1       0.82      0.77      0.79     10238\n",
      "\n",
      "avg / total       0.80      0.80      0.80     20568\n",
      "\n",
      "2018-06-18 03:01:15.198032\n"
     ]
    }
   ],
   "source": [
    "test(model, X_adv, Y_adv)"
   ]
  },
  {
   "cell_type": "code",
   "execution_count": null,
   "metadata": {},
   "outputs": [],
   "source": []
  }
 ],
 "metadata": {
  "kernelspec": {
   "display_name": "Python 3",
   "language": "python",
   "name": "python3"
  },
  "language_info": {
   "codemirror_mode": {
    "name": "ipython",
    "version": 3
   },
   "file_extension": ".py",
   "mimetype": "text/x-python",
   "name": "python",
   "nbconvert_exporter": "python",
   "pygments_lexer": "ipython3",
   "version": "3.5.4"
  }
 },
 "nbformat": 4,
 "nbformat_minor": 2
}
