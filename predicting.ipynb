{
 "cells": [
  {
   "cell_type": "markdown",
   "metadata": {},
   "source": [
    "### Overview"
   ]
  },
  {
   "cell_type": "markdown",
   "metadata": {},
   "source": [
    "This notebook is a 2 part hands-on demonstration of working with Amazon review data for text analytics. The first part uses LDA and Kmeans algorithms to automatically group together reviews based on topics discussed within the text. The second part covers predicting review scores using SVM and Logistic Regression based on contents of the review. The end shows how to predict the rating of a new review based on the models."
   ]
  },
  {
   "cell_type": "code",
   "execution_count": 3,
   "metadata": {},
   "outputs": [],
   "source": [
    "import pandas as pd\n",
    "import numpy as np\n",
    "\n",
    "import matplotlib.pyplot as plt\n",
    "import matplotlib.cm as cm\n",
    "import matplotlib\n",
    "\n",
    "from sklearn.feature_extraction.text import TfidfVectorizer, CountVectorizer\n",
    "from sklearn.decomposition import LatentDirichletAllocation,TruncatedSVD\n",
    "from sklearn.cluster import KMeans\n",
    "from sklearn.preprocessing import MinMaxScaler\n",
    "from sklearn.manifold import TSNE\n",
    "\n",
    "from sklearn.linear_model import LogisticRegression\n",
    "from sklearn.naive_bayes import MultinomialNB\n",
    "from sklearn.svm import LinearSVC\n",
    "from sklearn.model_selection import train_test_split\n",
    "from sklearn.model_selection import cross_val_score\n",
    "from sklearn.ensemble import VotingClassifier\n",
    "\n",
    "from nltk.stem.snowball import SnowballStemmer\n",
    "from nltk.tokenize import RegexpTokenizer"
   ]
  },
  {
   "cell_type": "markdown",
   "metadata": {},
   "source": [
    "### Import review data"
   ]
  },
  {
   "cell_type": "markdown",
   "metadata": {},
   "source": [
    "Amazon reviews can span from 1 star to 5 stars. The difference between a 1-2 or a 4-5 might be very noisy when we build predictions. Instead, we bucket reviews by:\n",
    "\n",
    "- Low: 1-2 Stars\n",
    "- Neutral: 3 Stars\n",
    "- High: 4-5 Stars\n",
    "\n",
    "Reviews are filtered to those with at least 45 words to avoid short, uninformative reviews like \"This is great!\". After limiting, we take a stratified sample of 6000 reviews from each bucket to get reasonable performance from sklearn in Python. The stratification helps us overcome the bias in that 80% of the reviews have 4-5 star ratings."
   ]
  },
  {
   "cell_type": "code",
   "execution_count": 41,
   "metadata": {},
   "outputs": [
    {
     "data": {
      "text/html": [
       "<div>\n",
       "<style scoped>\n",
       "    .dataframe tbody tr th:only-of-type {\n",
       "        vertical-align: middle;\n",
       "    }\n",
       "\n",
       "    .dataframe tbody tr th {\n",
       "        vertical-align: top;\n",
       "    }\n",
       "\n",
       "    .dataframe thead th {\n",
       "        text-align: right;\n",
       "    }\n",
       "</style>\n",
       "<table border=\"1\" class=\"dataframe\">\n",
       "  <thead>\n",
       "    <tr style=\"text-align: right;\">\n",
       "      <th></th>\n",
       "      <th>bucket</th>\n",
       "      <th>reviewText</th>\n",
       "    </tr>\n",
       "  </thead>\n",
       "  <tbody>\n",
       "    <tr>\n",
       "      <th>520865</th>\n",
       "      <td>1</td>\n",
       "      <td>Fits and works perfectly with &amp;#34;My K-Cup&amp;#34; adapter.  Recommend Dark Roast coffee for best flavor. Very economical to use. Keeps the coffee grinds out of the coffee.</td>\n",
       "    </tr>\n",
       "    <tr>\n",
       "      <th>143595</th>\n",
       "      <td>0</td>\n",
       "      <td>My fault I ordered too small, but what I really didn't like was that the wire used was too thick and therefore too stiff.  Oh well :) I'll keep shopping.</td>\n",
       "    </tr>\n",
       "    <tr>\n",
       "      <th>180684</th>\n",
       "      <td>1</td>\n",
       "      <td>For the last 5 years I've used a Lasko oscillating fan to supplement the A/C in my west-facing den. The summers can be brutal here in SC. To be honest I've never heard of an air circulator until I ran across this item on amazon. My den is not as well air conditioned as the rest of the house due to poor ducting and afternoon sun. Add the heat that the big screen TV gives off and things can get pretty uncomfortable. So I placed this fan in an adjoining room that stays cool and pointed towards the den. BIG improvement!I keep fan set on the medium setting and the den now has a nice gentle breeze wherever you're sitting. I don't know what others are complaining about noise. It's completely unnoticeable when the tv is on. It's not at all bad when its off.This is a big improvement for me. Bring on the heat and humidity. I'm ready!UPDATE 06/24/13:  Hello summer!  It's been very late arriving this year but the good old heat and humidity that we deal with in the south has arrived full force. It is currently 92 degrees with 80% humidity right now at 5pm. The sun is blasting my den windows as we speak but I'm totally comfortable. My vornado is quietly working on medium speed in the next room. Wherever I sit in the room I feel a cool, light breeze. It's not at all like a direct fan but a gentle, light breeze. This fan has been running 24/7 for about six weeks now and will probably not be turned off until October. I'm very pleased with my purchase.</td>\n",
       "    </tr>\n",
       "  </tbody>\n",
       "</table>\n",
       "</div>"
      ],
      "text/plain": [
       "        bucket  \\\n",
       "520865  1        \n",
       "143595  0        \n",
       "180684  1        \n",
       "\n",
       "                                                                                                                                                                                                                                                                                                                                                                                                                                                                                                                                                                                                                                                                                                                                                                                                                                                                                                                                                                                                                                                                                                                                                                                                                                                                                                                                                                                                                                                                                                                reviewText  \n",
       "520865  Fits and works perfectly with &#34;My K-Cup&#34; adapter.  Recommend Dark Roast coffee for best flavor. Very economical to use. Keeps the coffee grinds out of the coffee.                                                                                                                                                                                                                                                                                                                                                                                                                                                                                                                                                                                                                                                                                                                                                                                                                                                                                                                                                                                                                                                                                                                                                                                                                                                                                                                                          \n",
       "143595  My fault I ordered too small, but what I really didn't like was that the wire used was too thick and therefore too stiff.  Oh well :) I'll keep shopping.                                                                                                                                                                                                                                                                                                                                                                                                                                                                                                                                                                                                                                                                                                                                                                                                                                                                                                                                                                                                                                                                                                                                                                                                                                                                                                                                                           \n",
       "180684  For the last 5 years I've used a Lasko oscillating fan to supplement the A/C in my west-facing den. The summers can be brutal here in SC. To be honest I've never heard of an air circulator until I ran across this item on amazon. My den is not as well air conditioned as the rest of the house due to poor ducting and afternoon sun. Add the heat that the big screen TV gives off and things can get pretty uncomfortable. So I placed this fan in an adjoining room that stays cool and pointed towards the den. BIG improvement!I keep fan set on the medium setting and the den now has a nice gentle breeze wherever you're sitting. I don't know what others are complaining about noise. It's completely unnoticeable when the tv is on. It's not at all bad when its off.This is a big improvement for me. Bring on the heat and humidity. I'm ready!UPDATE 06/24/13:  Hello summer!  It's been very late arriving this year but the good old heat and humidity that we deal with in the south has arrived full force. It is currently 92 degrees with 80% humidity right now at 5pm. The sun is blasting my den windows as we speak but I'm totally comfortable. My vornado is quietly working on medium speed in the next room. Wherever I sit in the room I feel a cool, light breeze. It's not at all like a direct fan but a gentle, light breeze. This fan has been running 24/7 for about six weeks now and will probably not be turned off until October. I'm very pleased with my purchase.  "
      ]
     },
     "execution_count": 41,
     "metadata": {},
     "output_type": "execute_result"
    }
   ],
   "source": [
    "file_name = \"rawdata.pkl\"\n",
    "cat = [0, 1]\n",
    "\n",
    "data = pd.read_pickle(file_name)\n",
    "data = data.rename(index=str, columns={\"overall\": \"bucket\"})\n",
    "pd.set_option('display.max_colwidth', -1)\n",
    "data.sample(3)"
   ]
  },
  {
   "cell_type": "code",
   "execution_count": null,
   "metadata": {},
   "outputs": [],
   "source": [
    "cat = ['low','neutral','high']\n",
    "def cat_y(y):\n",
    "    if y<=2.0:\n",
    "        return cat[0]\n",
    "    elif y>=4.0:\n",
    "        return cat[2]\n",
    "    else:\n",
    "        return cat[1]\n",
    "\n",
    "def get_reviews(path, n_samples):\n",
    "    dt = {}\n",
    "    i=0\n",
    "    with open(path) as f:\n",
    "        for d in f.readlines():\n",
    "            dt[i] = eval(d)\n",
    "            i += 1\n",
    "    df = pd.DataFrame.from_dict(dt, orient='index')[['reviewText','overall']]\n",
    "    df = df[df['reviewText'].apply(lambda x: len(x.split())>=45)]\n",
    "    df['bucket'] = df['overall'].apply(cat_y)\n",
    "    \n",
    "    df = df.groupby('bucket').apply(lambda x: x.sample(n=n_samples))\n",
    "    return df\n",
    "\n",
    "data = get_reviews('data/reviews_Home_and_Kitchen_5.json', 6000)\n",
    "pd.set_option('display.max_colwidth', -1)\n",
    "data.sample(3)"
   ]
  },
  {
   "cell_type": "markdown",
   "metadata": {},
   "source": [
    "### Calculate Term Frequencies"
   ]
  },
  {
   "cell_type": "markdown",
   "metadata": {},
   "source": [
    "We calculate both the actual term frequency as well as the tfidf weighted term frequency. For both algorithms, we limit to words occuring in at most 90% of documents and in at least 10 documents. While the term-frequency matrix is just a word count, the IDF calculation adjusts for \"boring\" words that occur in many reviews.\n",
    "\n",
    "We perform two tokenizing operations. First, we tokenize only letters, ignoring special symbols & numbers. We use the NLTK Snowball stemmer to try and get the root of a word as best as possible. Stop words are removed in the vectorization step."
   ]
  },
  {
   "cell_type": "code",
   "execution_count": 8,
   "metadata": {},
   "outputs": [],
   "source": [
    "stemmer = SnowballStemmer(\"english\")\n",
    "tokenizer = RegexpTokenizer(\"[a-z']+\")\n",
    "\n",
    "def tokenize(text):\n",
    "    tokens = tokenizer.tokenize(text)\n",
    "    return [stemmer.stem(t) for t in tokens] \n",
    "\n",
    "def get_tf(data, use_idf, max_df=1.0, min_df=1, ngram_range=(1,1)):\n",
    "    if use_idf:\n",
    "        m = TfidfVectorizer(max_df=max_df, min_df=min_df, stop_words='english', ngram_range=ngram_range, tokenizer=tokenize)\n",
    "    else:\n",
    "        m = CountVectorizer(max_df=max_df, min_df=min_df, stop_words='english', ngram_range=ngram_range, tokenizer=tokenize)\n",
    "    \n",
    "    d = m.fit_transform(data)\n",
    "    return m, d\n",
    "\n",
    "tf_m, tf_d = get_tf(data['reviewText'], use_idf=False, max_df=0.90, min_df=10)\n",
    "tfidf_m, tfidf_d = get_tf(data['reviewText'], use_idf=True, max_df=0.90, min_df=10)"
   ]
  },
  {
   "cell_type": "markdown",
   "metadata": {},
   "source": [
    "### Compute topics using Kmeans and LDA"
   ]
  },
  {
   "cell_type": "markdown",
   "metadata": {},
   "source": [
    "We are using two approaches to extract topics from our document set.\n",
    "\n",
    "Approach 1 (Kmeans): Using our TFIDF matrix, we cluster documents into N clusters based on their TFIDF similarity. Within each cluster, we count the top occuring terms.\n",
    "\n",
    "Approach 2 (LDA): Using our TF matrix, we attempt to extact N topics from our collection of documents.\n",
    "\n",
    "It's a subtle but important difference. Kmeans forces each review to belong to only one cluster while LDA allows a review to have many topics associated with it. I pulled 10 topics out of my head as a nice starting number. Further testing would have to be done to see if it was the best choice."
   ]
  },
  {
   "cell_type": "code",
   "execution_count": 9,
   "metadata": {},
   "outputs": [],
   "source": [
    "n_topics = 10\n",
    "\n",
    "def get_lda(data, topics):\n",
    "    m = LatentDirichletAllocation(n_components=topics, n_jobs=-1, learning_method='online').fit(data)\n",
    "    d = m.transform(data)\n",
    "    return m, d\n",
    "\n",
    "def get_kmeans(data, k, scale=True):\n",
    "    if scale:\n",
    "        s = MinMaxScaler()\n",
    "        data = s.fit_transform(data)\n",
    "    \n",
    "    m = KMeans(n_clusters=k).fit(data)\n",
    "    d = m.predict(data)\n",
    "    return m, d        \n",
    "\n",
    "lda_m, lda_d = get_lda(tf_d, n_topics)\n",
    "kmean_m, kmean_d = get_kmeans(tfidf_d, n_topics, scale=False)"
   ]
  },
  {
   "cell_type": "markdown",
   "metadata": {},
   "source": [
    "### Show cluster top 15 words per topic"
   ]
  },
  {
   "cell_type": "markdown",
   "metadata": {},
   "source": [
    "Using the approach outlined in the sklearn documentation, we first extract the top 15 stemmed words per topic in our LDA model. As a second step, we do something similar for our kmeans clustered documents. Here we just count the top 15 most frequent stemmed words per cluster. Both show similar sets of results."
   ]
  },
  {
   "cell_type": "code",
   "execution_count": 10,
   "metadata": {},
   "outputs": [
    {
     "name": "stdout",
     "output_type": "stream",
     "text": [
      "Top 15 stemmed words per topic in LDA model\n",
      "\n",
      "Topic #0:\n",
      "use, make, great, easi, love, work, clean, ice, bowl, food, bread, bake, just, perfect, like\n",
      "Topic #1:\n",
      "lid, plastic, open, use, bag, handl, fit, like, size, hold, contain, small, veri, bottl, design\n",
      "Topic #2:\n",
      "veri, set, like, good, knife, sheet, bed, qualiti, nice, look, mattress, size, price, cut, toaster\n",
      "Topic #3:\n",
      "look, veri, great, nice, piec, color, hold, stainless, like, sturdi, togeth, easi, good, slice, use\n",
      "Topic #4:\n",
      "pan, heat, cook, use, set, iron, pot, stick, hot, time, temperatur, non, water, egg, minut\n",
      "Topic #5:\n",
      "product, amazon, return, review, order, purchas, item, box, replac, ship, receiv, price, qualiti, custom, arriv\n",
      "Topic #6:\n",
      "use, just, work, time, like, don't, year, tri, i'm, bought, thing, buy, becaus, month, review\n",
      "Topic #7:\n",
      "coffe, cup, water, machin, use, make, filter, maker, tea, hot, grind, drink, brew, like, tast\n",
      "Topic #8:\n",
      "vacuum, clean, use, floor, unit, fan, air, power, veri, carpet, room, work, filter, doe, batteri\n",
      "Topic #9:\n",
      "use, oven, wash, clean, hand, towel, dri, dishwash, dish, grill, cut, jar, plate, oil, like\n",
      "\n"
     ]
    }
   ],
   "source": [
    "def show_topics(model, feature_names, n_words):\n",
    "    for topic_idx, topic in enumerate(model.components_):\n",
    "        print(\"Topic #%d:\" % topic_idx)\n",
    "        print(\", \".join([feature_names[i]\n",
    "                        for i in topic.argsort()[:-n_words - 1:-1]]))\n",
    "    print()\n",
    "    \n",
    "def show_cluster_topics(cluster_labels, tf_matrix, feature_names, n_words):\n",
    "    d = pd.DataFrame(tf_matrix.toarray())\n",
    "    d['c'] = cluster_labels\n",
    "    d = d.groupby('c').sum().T\n",
    "    \n",
    "    for col in d:\n",
    "        top_n = d[col].nlargest(n_words).index.tolist()\n",
    "        print(\"Cluster #%d:\" % col)\n",
    "        print(\", \".join([feature_names[i]\n",
    "                for i in top_n]))\n",
    "    print()\n",
    "    \n",
    "print(\"Top 15 stemmed words per topic in LDA model\\n\")\n",
    "show_topics(lda_m, tf_m.get_feature_names(), 15)"
   ]
  },
  {
   "cell_type": "code",
   "execution_count": 11,
   "metadata": {},
   "outputs": [
    {
     "name": "stdout",
     "output_type": "stream",
     "text": [
      "Top 15 stemmed words per cluster in Kmeans model\n",
      "\n",
      "Cluster #0:\n",
      "toaster, toast, oven, bread, bagel, set, use, slice, burn, work, like, veri, look, time, year\n",
      "Cluster #1:\n",
      "use, work, time, just, clean, make, great, like, easi, water, veri, cook, year, product, onli\n",
      "Cluster #2:\n",
      "veri, look, great, like, product, nice, good, love, use, qualiti, just, size, fit, item, price\n",
      "Cluster #3:\n",
      "ice, blender, cream, cube, use, make, tray, smoothi, blend, drink, frozen, blade, work, like, freezer\n",
      "Cluster #4:\n",
      "pan, stick, use, cook, non, bake, fri, clean, cake, egg, veri, heat, great, handl, like\n",
      "Cluster #5:\n",
      "pillow, sheet, mattress, bed, sleep, comfort, soft, foam, veri, like, feel, cover, fit, night, memori\n",
      "Cluster #6:\n",
      "knife, knive, cut, sharp, sharpen, board, blade, use, slice, veri, edg, set, good, like, handl\n",
      "Cluster #7:\n",
      "filter, fan, air, water, unit, work, room, use, pitcher, veri, nois, quiet, just, replac, like\n",
      "Cluster #8:\n",
      "coffe, cup, maker, brew, make, water, filter, use, ground, pot, grind, machin, hot, caraf, grinder\n",
      "Cluster #9:\n",
      "vacuum, carpet, floor, clean, suction, use, dirt, hair, bag, pick, dyson, power, cleaner, vac, dust\n",
      "\n"
     ]
    }
   ],
   "source": [
    "print(\"Top 15 stemmed words per cluster in Kmeans model\\n\")\n",
    "show_cluster_topics(kmean_d, tfidf_d, tfidf_m.get_feature_names(), 15)"
   ]
  },
  {
   "cell_type": "markdown",
   "metadata": {},
   "source": [
    "### Prepare data for plotting"
   ]
  },
  {
   "cell_type": "markdown",
   "metadata": {},
   "source": [
    "Our TF/TFIDF matricies are thousands of attributes wide which makes it a challenge to graphically represent documents as we are limited to 3 dimensions. We could perform a heirarchical clustering, but the number of documents makes this approach very slow. Instead, we perform a SVD/LSA to reduce the dimensionality of the matrix to something more manageable (eg. 30 dimensions).\n",
    "\n",
    "We then use t-SNE to attempt to visually cluster and represent our data as best as possible in 2 dimensions. More information about t-SNE can be found at Laurens van der Maaten's site. In the end we will have a 2 dimensional matrix for our XY plot. Be sure to read the caveats of t-SNE plots as well.\n",
    "\n",
    "Our Kmeans output already has cluster labels in it (eg. one cluster label per document). However LDA allows for a single document to cover multiple topics. One approach could be to perform a clustering on top of the LDA output. But for this example, I chose the dominant topic for each document as its label in the LDA model."
   ]
  },
  {
   "cell_type": "code",
   "execution_count": 12,
   "metadata": {},
   "outputs": [],
   "source": [
    "def get_svd(data, components):\n",
    "    svd = TruncatedSVD(n_components=components).fit(data)\n",
    "    o = pd.DataFrame(svd.transform(data), columns=range(0,components))\n",
    "    return svd,o\n",
    "\n",
    "def get_tsne(data, components, perplexity):\n",
    "    tsne = TSNE(n_components=components, perplexity=perplexity, n_iter=1000)\n",
    "    o = pd.DataFrame(tsne.fit_transform(data), columns=range(0,components))\n",
    "    return tsne,o\n",
    "\n",
    "svd_v, svd_m = get_svd(tfidf_d, 50)\n",
    "tnse_v, tsne_m = get_tsne(svd_m, 2, 25)\n",
    "\n",
    "lda_c = lda_d.argmax(axis=1)"
   ]
  },
  {
   "cell_type": "markdown",
   "metadata": {},
   "source": [
    "### Plot Data"
   ]
  },
  {
   "cell_type": "markdown",
   "metadata": {},
   "source": [
    "Here we use our LDA and Kmeans labels with our reduced dimensions to plot our documents. We create a rainbow color scheme which allows for a variable number of topics/clusters. You could choose any other color map which suits your needs. I chose to plot this in 2D, however you could create 3 TSNE dimensions in the step above and create a 3D scatterplot as well.\n",
    "\n",
    "The plot tends to overlap quite a bit. If you sample through some of the reviews you'll see many tend to use similar wording."
   ]
  },
  {
   "cell_type": "code",
   "execution_count": 13,
   "metadata": {},
   "outputs": [
    {
     "data": {
      "image/png": "[encoded data removed]",
      "text/plain": [
       "<Figure size 432x288 with 1 Axes>"
      ]
     },
     "metadata": {},
     "output_type": "display_data"
    }
   ],
   "source": [
    "def plot_scatter_2d(x, y, c, sample_size, title):\n",
    "    df = pd.DataFrame({'x': x, 'y': y, 'c': c}).sample(sample_size)\n",
    "    l = len(np.unique(c))\n",
    "    \n",
    "    ax = plt.subplot(111)\n",
    "    colors = cm.rainbow(np.linspace(0, 1, l))\n",
    "                                   \n",
    "    for c in range(0,l):\n",
    "        qq = df[df['c']==c]\n",
    "        ax.scatter(qq['x'], qq['y'],c=colors[c], label=c)\n",
    "    plt.legend(loc='upper left', numpoints=1, ncol=3, fontsize=8, bbox_to_anchor=(0, 0), title='Topic/Cluster')\n",
    "    ax.set_yticklabels([])\n",
    "    ax.set_xticklabels([])\n",
    "    ax.set_title(title)\n",
    "    plt.show()\n",
    "\n",
    "%matplotlib inline\n",
    "plot_scatter_2d(tsne_m[0], tsne_m[1], kmean_d, 1000, 'KMeans Clustering of Amazon Reviews using TFIDF (t-SNE Plot)')"
   ]
  },
  {
   "cell_type": "code",
   "execution_count": 14,
   "metadata": {},
   "outputs": [
    {
     "data": {
      "image/png": "[encoded data removed]",
      "text/plain": [
       "<Figure size 432x288 with 1 Axes>"
      ]
     },
     "metadata": {},
     "output_type": "display_data"
    }
   ],
   "source": [
    "%matplotlib inline\n",
    "plot_scatter_2d(tsne_m[0], tsne_m[1], lda_c, 1000, 'LDA Topics of Amazon Reviews using TF (t-SNE Plot)')"
   ]
  },
  {
   "cell_type": "markdown",
   "metadata": {},
   "source": [
    "### Prepare data for rating prediction"
   ]
  },
  {
   "cell_type": "markdown",
   "metadata": {},
   "source": [
    "The previous steps allowed us to understand how the data is structured, but it doesn't let us understand what drives positive or negative reviews. In the next steps, we look at the words within reviews to build a predictive scoring model.\n",
    "\n",
    "When training these types of models, overfitting can occur where we become very good at predicting our sample data, but fail to predict on new data. To avoid this, we split the data 70%/30% where we reserve the 30% for gauging our final accuracy.\n",
    "\n",
    "We will build 3 models. One that predicts low, one that predicts high, and one that predicts neutral. For each review, we run it against all three models. The model that scores the highest will tell us which kind of review it likely is."
   ]
  },
  {
   "cell_type": "code",
   "execution_count": 39,
   "metadata": {},
   "outputs": [],
   "source": [
    "X_train, X_test, y_train, y_test = train_test_split(tfidf_d, data['bucket'], test_size=0.3)"
   ]
  },
  {
   "cell_type": "markdown",
   "metadata": {},
   "source": [
    "### Calculate model accuracies"
   ]
  },
  {
   "cell_type": "markdown",
   "metadata": {},
   "source": [
    "We try 3 different approaches to building the review predictions: Logistic Regression, Naive Bayes, and Support Vector Machines. We also try a final approach that does a combined \"vote\" of all three models. This means we are actually building (4 approaches) x (3 ratings) = 12 total models. Since we have limited data, we will use cross-validation to split the data 10 ways and measure accuracy in an unbiased way.\n",
    "\n",
    "The accuracy % are printed below for each model."
   ]
  },
  {
   "cell_type": "code",
   "execution_count": 42,
   "metadata": {},
   "outputs": [
    {
     "name": "stderr",
     "output_type": "stream",
     "text": [
      "C:\\Users\\vwslz\\Anaconda3\\envs\\tensorflow\\lib\\site-packages\\sklearn\\preprocessing\\label.py:151: DeprecationWarning: The truth value of an empty array is ambiguous. Returning False, but in future this will result in an error. Use `array.size > 0` to check that an array is not empty.\n",
      "  if diff:\n",
      "C:\\Users\\vwslz\\Anaconda3\\envs\\tensorflow\\lib\\site-packages\\sklearn\\preprocessing\\label.py:151: DeprecationWarning: The truth value of an empty array is ambiguous. Returning False, but in future this will result in an error. Use `array.size > 0` to check that an array is not empty.\n",
      "  if diff:\n",
      "C:\\Users\\vwslz\\Anaconda3\\envs\\tensorflow\\lib\\site-packages\\sklearn\\preprocessing\\label.py:151: DeprecationWarning: The truth value of an empty array is ambiguous. Returning False, but in future this will result in an error. Use `array.size > 0` to check that an array is not empty.\n",
      "  if diff:\n",
      "C:\\Users\\vwslz\\Anaconda3\\envs\\tensorflow\\lib\\site-packages\\sklearn\\preprocessing\\label.py:151: DeprecationWarning: The truth value of an empty array is ambiguous. Returning False, but in future this will result in an error. Use `array.size > 0` to check that an array is not empty.\n",
      "  if diff:\n",
      "C:\\Users\\vwslz\\Anaconda3\\envs\\tensorflow\\lib\\site-packages\\sklearn\\preprocessing\\label.py:151: DeprecationWarning: The truth value of an empty array is ambiguous. Returning False, but in future this will result in an error. Use `array.size > 0` to check that an array is not empty.\n",
      "  if diff:\n",
      "C:\\Users\\vwslz\\Anaconda3\\envs\\tensorflow\\lib\\site-packages\\sklearn\\preprocessing\\label.py:151: DeprecationWarning: The truth value of an empty array is ambiguous. Returning False, but in future this will result in an error. Use `array.size > 0` to check that an array is not empty.\n",
      "  if diff:\n",
      "C:\\Users\\vwslz\\Anaconda3\\envs\\tensorflow\\lib\\site-packages\\sklearn\\preprocessing\\label.py:151: DeprecationWarning: The truth value of an empty array is ambiguous. Returning False, but in future this will result in an error. Use `array.size > 0` to check that an array is not empty.\n",
      "  if diff:\n",
      "C:\\Users\\vwslz\\Anaconda3\\envs\\tensorflow\\lib\\site-packages\\sklearn\\preprocessing\\label.py:151: DeprecationWarning: The truth value of an empty array is ambiguous. Returning False, but in future this will result in an error. Use `array.size > 0` to check that an array is not empty.\n",
      "  if diff:\n",
      "C:\\Users\\vwslz\\Anaconda3\\envs\\tensorflow\\lib\\site-packages\\sklearn\\preprocessing\\label.py:151: DeprecationWarning: The truth value of an empty array is ambiguous. Returning False, but in future this will result in an error. Use `array.size > 0` to check that an array is not empty.\n",
      "  if diff:\n",
      "C:\\Users\\vwslz\\Anaconda3\\envs\\tensorflow\\lib\\site-packages\\sklearn\\preprocessing\\label.py:151: DeprecationWarning: The truth value of an empty array is ambiguous. Returning False, but in future this will result in an error. Use `array.size > 0` to check that an array is not empty.\n",
      "  if diff:\n",
      "C:\\Users\\vwslz\\Anaconda3\\envs\\tensorflow\\lib\\site-packages\\sklearn\\preprocessing\\label.py:151: DeprecationWarning: The truth value of an empty array is ambiguous. Returning False, but in future this will result in an error. Use `array.size > 0` to check that an array is not empty.\n",
      "  if diff:\n",
      "C:\\Users\\vwslz\\Anaconda3\\envs\\tensorflow\\lib\\site-packages\\sklearn\\preprocessing\\label.py:151: DeprecationWarning: The truth value of an empty array is ambiguous. Returning False, but in future this will result in an error. Use `array.size > 0` to check that an array is not empty.\n",
      "  if diff:\n",
      "C:\\Users\\vwslz\\Anaconda3\\envs\\tensorflow\\lib\\site-packages\\sklearn\\preprocessing\\label.py:151: DeprecationWarning: The truth value of an empty array is ambiguous. Returning False, but in future this will result in an error. Use `array.size > 0` to check that an array is not empty.\n",
      "  if diff:\n",
      "C:\\Users\\vwslz\\Anaconda3\\envs\\tensorflow\\lib\\site-packages\\sklearn\\preprocessing\\label.py:151: DeprecationWarning: The truth value of an empty array is ambiguous. Returning False, but in future this will result in an error. Use `array.size > 0` to check that an array is not empty.\n",
      "  if diff:\n",
      "C:\\Users\\vwslz\\Anaconda3\\envs\\tensorflow\\lib\\site-packages\\sklearn\\preprocessing\\label.py:151: DeprecationWarning: The truth value of an empty array is ambiguous. Returning False, but in future this will result in an error. Use `array.size > 0` to check that an array is not empty.\n",
      "  if diff:\n",
      "C:\\Users\\vwslz\\Anaconda3\\envs\\tensorflow\\lib\\site-packages\\sklearn\\preprocessing\\label.py:151: DeprecationWarning: The truth value of an empty array is ambiguous. Returning False, but in future this will result in an error. Use `array.size > 0` to check that an array is not empty.\n",
      "  if diff:\n",
      "C:\\Users\\vwslz\\Anaconda3\\envs\\tensorflow\\lib\\site-packages\\sklearn\\preprocessing\\label.py:151: DeprecationWarning: The truth value of an empty array is ambiguous. Returning False, but in future this will result in an error. Use `array.size > 0` to check that an array is not empty.\n",
      "  if diff:\n",
      "C:\\Users\\vwslz\\Anaconda3\\envs\\tensorflow\\lib\\site-packages\\sklearn\\preprocessing\\label.py:151: DeprecationWarning: The truth value of an empty array is ambiguous. Returning False, but in future this will result in an error. Use `array.size > 0` to check that an array is not empty.\n",
      "  if diff:\n",
      "C:\\Users\\vwslz\\Anaconda3\\envs\\tensorflow\\lib\\site-packages\\sklearn\\preprocessing\\label.py:151: DeprecationWarning: The truth value of an empty array is ambiguous. Returning False, but in future this will result in an error. Use `array.size > 0` to check that an array is not empty.\n",
      "  if diff:\n"
     ]
    },
    {
     "name": "stdout",
     "output_type": "stream",
     "text": [
      "Model accuracy predictions\n",
      "\n",
      "NB model (0 rating): 82.4%\n",
      "NB model (1 rating): 82.4%\n",
      "\n",
      "SVM model (0 rating): 85.1%\n",
      "SVM model (1 rating): 85.1%\n",
      "\n",
      "COMBINED model (0 rating): 85.9%\n",
      "COMBINED model (1 rating): 85.9%\n",
      "\n",
      "LR model (0 rating): 85.8%\n",
      "LR model (1 rating): 85.8%\n",
      "\n"
     ]
    },
    {
     "name": "stderr",
     "output_type": "stream",
     "text": [
      "C:\\Users\\vwslz\\Anaconda3\\envs\\tensorflow\\lib\\site-packages\\sklearn\\preprocessing\\label.py:151: DeprecationWarning: The truth value of an empty array is ambiguous. Returning False, but in future this will result in an error. Use `array.size > 0` to check that an array is not empty.\n",
      "  if diff:\n"
     ]
    }
   ],
   "source": [
    "def calculate_cv(X, y):\n",
    "    results = {\n",
    "        'lr': [],\n",
    "        'svm': [],\n",
    "        'nb': [],\n",
    "        'combined': []\n",
    "    }\n",
    "    lm = LogisticRegression()\n",
    "    svm = LinearSVC()\n",
    "    nb = MultinomialNB()\n",
    "    vc = VotingClassifier([('lm', lm), ('svm', svm), ('nb', nb)])\n",
    "    \n",
    "    for c in cat:\n",
    "        y_adj = np.array(y==c)\n",
    "        results['lr'].append((cross_val_score(lm, X, y_adj, cv=10, scoring='accuracy').mean(), c))\n",
    "        results['svm'].append((cross_val_score(svm, X, y_adj, cv=10, scoring='accuracy').mean(), c))\n",
    "        results['nb'].append((cross_val_score(nb, X, y_adj, cv=10, scoring='accuracy').mean(), c))\n",
    "        results['combined'].append((cross_val_score(vc, X, y_adj, cv=10, scoring='accuracy').mean(), c))\n",
    "    return results\n",
    "\n",
    "cv_scores = calculate_cv(X_test, y_test)\n",
    "\n",
    "print(\"Model accuracy predictions\\n\")\n",
    "for m,s in cv_scores.items():\n",
    "    for ss in s:\n",
    "        print(\"{M} model ({R} rating): {S:.1%}\".format(M=m.upper(), R=ss[1], S=ss[0]))\n",
    "    print()"
   ]
  },
  {
   "cell_type": "markdown",
   "metadata": {},
   "source": [
    "### Training the model of choice"
   ]
  },
  {
   "cell_type": "markdown",
   "metadata": {},
   "source": [
    "All models seem to have done roughly the same on low and neutral rating reviews. SVM seems to have given better performance for our 4-5 star reviews. There is definitely room for improvement. The distribution of the stratified raiting buckets were 33% each.\n",
    "\n",
    "If we guessed each review's status at random, that would be our % likelihood of guessing correct. Our three models show quite an improvement over random guessing, but still opportunity to improve. There are lots of ways to tweak the prior steps to get a better result.\n",
    "\n",
    "We didn't tweak any parameters in either the TF step or the modeling step\n",
    "Neg/Pos keywords might vary by topic so we might do this for one cluster at a time\n",
    "Maybe nouns don't provide much insight and we are better off removing them\n",
    "\"great\" and \"not great\" have opposite meanings so maybe we should have included 2-grams\n",
    "The list goes on, but I think you get the idea. The next steps just assume we are happy with our logistic regression model."
   ]
  },
  {
   "cell_type": "code",
   "execution_count": 43,
   "metadata": {},
   "outputs": [],
   "source": [
    "def get_lr(x, y):\n",
    "    models = []\n",
    "    for c in cat:\n",
    "        y_adj = np.array(y==c)\n",
    "        lm = LogisticRegression()\n",
    "        lm_f = lm.fit(x, y_adj)\n",
    "        models.append(lm_f)\n",
    "    return models\n",
    "\n",
    "lr_m = get_lr(X_train, y_train)"
   ]
  },
  {
   "cell_type": "markdown",
   "metadata": {},
   "source": [
    "### Plot the results"
   ]
  },
  {
   "cell_type": "markdown",
   "metadata": {},
   "source": [
    "The following three charts show the result of our Logistic Regression model. We show the top 12 words negatively associated (red) with that review model, and the top 12 words positively associated (green) with that review model. Roughly speaking, the values indiciate how much more likely or unlikely a review is to be low, neutral, high given the # of times that word occurs in the review.\n",
    "\n",
    "In the first example, \"review\" has a very high likelihood of predicting a low review. Remember that words are stemmed so \"easi\" could refer to words like \"easy, easier, easiest\". We clearly see negative words associated with our negative model, and positive words with our positive model. Interestingly, the neutral reviews have words I'd consider as being unsure."
   ]
  },
  {
   "cell_type": "code",
   "execution_count": 44,
   "metadata": {},
   "outputs": [
    {
     "data": {
      "image/png": "[encoded data removed]",
      "text/plain": [
       "<Figure size 432x288 with 1 Axes>"
      ]
     },
     "metadata": {},
     "output_type": "display_data"
    },
    {
     "data": {
      "image/png": "[encoded data removed]",
      "text/plain": [
       "<Figure size 432x288 with 1 Axes>"
      ]
     },
     "metadata": {},
     "output_type": "display_data"
    }
   ],
   "source": [
    "%matplotlib inline\n",
    "\n",
    "def plot_coef(title, model, feature_names, n_words):\n",
    "    v = []\n",
    "    for topic_idx, topic in enumerate(model.coef_):\n",
    "        [v.append([feature_names[i], model.coef_.item(i)]) for i in topic.argsort()[:-n_words - 1:-1]]\n",
    "        [v.append([feature_names[i], model.coef_.item(i)]) for i in topic.argsort()[0:n_words]]\n",
    "    df = pd.DataFrame(v, columns=['Term','Coefficient']).sort_values(by='Coefficient',ascending=False)\n",
    "    df['c'] = df['Coefficient']>0\n",
    "    ax = df.plot(x='Term', y='Coefficient', kind='barh', color=df['c'].map({True: 'g', False: 'r'}), grid=True, legend=False,\n",
    "           title=title)\n",
    "    ax.set_xlabel(\"Coefficient\")\n",
    "\n",
    "n_terms = 12\n",
    "for c in range(0,len(cat)):\n",
    "    plot_coef('Top {N} words in ({R}) review model\\nGreen = Associated | Red = Not Associated'.format(N=n_terms*2, R=cat[c]), \n",
    "              lr_m[c], tfidf_m.get_feature_names(), n_terms)"
   ]
  },
  {
   "cell_type": "markdown",
   "metadata": {},
   "source": [
    "### Test output"
   ]
  },
  {
   "cell_type": "markdown",
   "metadata": {},
   "source": [
    "To put it altogether, below is a test function which allows you to supply your own review to see how well the model will predict it's rating. For simplicity, I stuck with the logistic regression model and only allow for one review at a time.\n",
    "\n",
    "The program uses the stored TFIDF matrix to tokenize and transform our new review which is then fed to all three of our logistic regression models. Each model has an independent assessment of how likely it is that our review is a positive hit. You could set some sort of threshold or take the model with the higest likelihood to make your determination."
   ]
  },
  {
   "cell_type": "code",
   "execution_count": 49,
   "metadata": {},
   "outputs": [],
   "source": [
    "def test_review(text):\n",
    "    test_str = [text]\n",
    "    test_new = tfidf_m.transform(test_str)\n",
    "\n",
    "    print('Review text: \"{R}\"\\n'.format(R=test_str[0]))\n",
    "    print('Model Predction')\n",
    "    for m in range(0,2):\n",
    "        print('Model ({M}): {P:.1%}'.format(M=cat[m], P=lr_m[m].predict_proba(test_new)[0][1]))"
   ]
  },
  {
   "cell_type": "code",
   "execution_count": 50,
   "metadata": {},
   "outputs": [
    {
     "name": "stdout",
     "output_type": "stream",
     "text": [
      "Review text: \"I bought these knives last week. I immediately returned these when they arrived damaged.\"\n",
      "\n",
      "Model Predction\n",
      "Model (0): 99.5%\n",
      "Model (1): 0.5%\n"
     ]
    }
   ],
   "source": [
    "test_review('I bought these knives last week. I immediately returned these when they arrived damaged.')"
   ]
  },
  {
   "cell_type": "code",
   "execution_count": 73,
   "metadata": {},
   "outputs": [
    {
     "name": "stdout",
     "output_type": "stream",
     "text": [
      "Review text: \"This idea is nice.\"\n",
      "\n",
      "Model Predction\n",
      "Model (0): 78.4%\n",
      "Model (1): 21.6%\n"
     ]
    }
   ],
   "source": [
    "test_review('This idea is nice.')"
   ]
  },
  {
   "cell_type": "code",
   "execution_count": 51,
   "metadata": {},
   "outputs": [
    {
     "name": "stdout",
     "output_type": "stream",
     "text": [
      "Review text: \"This is the best toaster oven I have ever owned! I am glad I bought it.\"\n",
      "\n",
      "Model Predction\n",
      "Model (0): 0.3%\n",
      "Model (1): 99.7%\n"
     ]
    }
   ],
   "source": [
    "test_review('This is the best toaster oven I have ever owned! I am glad I bought it.')"
   ]
  },
  {
   "cell_type": "code",
   "execution_count": 52,
   "metadata": {},
   "outputs": [
    {
     "name": "stdout",
     "output_type": "stream",
     "text": [
      "Review text: \"My name is Yimin.\"\n",
      "\n",
      "Model Predction\n",
      "Model (0): 57.2%\n",
      "Model (1): 42.8%\n"
     ]
    }
   ],
   "source": [
    "test_review('My name is Yimin.')"
   ]
  },
  {
   "cell_type": "code",
   "execution_count": 53,
   "metadata": {
    "scrolled": true
   },
   "outputs": [
    {
     "name": "stdout",
     "output_type": "stream",
     "text": [
      "Review text: \"My weight is a secret.\"\n",
      "\n",
      "Model Predction\n",
      "Model (0): 41.7%\n",
      "Model (1): 58.3%\n"
     ]
    }
   ],
   "source": [
    "test_review('My weight is a secret.')"
   ]
  },
  {
   "cell_type": "code",
   "execution_count": 54,
   "metadata": {},
   "outputs": [
    {
     "name": "stdout",
     "output_type": "stream",
     "text": [
      "Review text: \"This is not a comment.\"\n",
      "\n",
      "Model Predction\n",
      "Model (0): 20.0%\n",
      "Model (1): 80.0%\n"
     ]
    }
   ],
   "source": [
    "test_review('This is not a comment.')"
   ]
  },
  {
   "cell_type": "code",
   "execution_count": 55,
   "metadata": {},
   "outputs": [
    {
     "name": "stdout",
     "output_type": "stream",
     "text": [
      "Review text: \"I am a superman.\"\n",
      "\n",
      "Model Predction\n",
      "Model (0): 57.2%\n",
      "Model (1): 42.8%\n"
     ]
    }
   ],
   "source": [
    "test_review('I am a superman.')"
   ]
  },
  {
   "cell_type": "code",
   "execution_count": 56,
   "metadata": {},
   "outputs": [
    {
     "name": "stdout",
     "output_type": "stream",
     "text": [
      "Review text: \"I like computer science\"\n",
      "\n",
      "Model Predction\n",
      "Model (0): 36.5%\n",
      "Model (1): 63.5%\n"
     ]
    }
   ],
   "source": [
    "test_review('I like computer science')"
   ]
  },
  {
   "cell_type": "code",
   "execution_count": 57,
   "metadata": {},
   "outputs": [
    {
     "name": "stdout",
     "output_type": "stream",
     "text": [
      "Review text: \"I am very glad that I did not buy this product.\"\n",
      "\n",
      "Model Predction\n",
      "Model (0): 9.0%\n",
      "Model (1): 91.0%\n"
     ]
    }
   ],
   "source": [
    "test_review('I am very glad that I did not buy this product.')"
   ]
  },
  {
   "cell_type": "code",
   "execution_count": 59,
   "metadata": {},
   "outputs": [
    {
     "name": "stdout",
     "output_type": "stream",
     "text": [
      "Review text: \"I hate that I did not buy this product.\"\n",
      "\n",
      "Model Predction\n",
      "Model (0): 98.5%\n",
      "Model (1): 1.5%\n"
     ]
    }
   ],
   "source": [
    "test_review('I hate that I did not buy this product.')"
   ]
  },
  {
   "cell_type": "code",
   "execution_count": 60,
   "metadata": {},
   "outputs": [
    {
     "name": "stdout",
     "output_type": "stream",
     "text": [
      "Review text: \"This is the best oven my husband has ever owned! I am glad I bought it.\"\n",
      "\n",
      "Model Predction\n",
      "Model (0): 0.2%\n",
      "Model (1): 99.8%\n"
     ]
    }
   ],
   "source": [
    "test_review('This is the best oven my husband has ever owned! I am glad I bought it.')"
   ]
  },
  {
   "cell_type": "code",
   "execution_count": 71,
   "metadata": {},
   "outputs": [
    {
     "name": "stdout",
     "output_type": "stream",
     "text": [
      "Review text: \"This is the worst oven my husband has ever owned! I am glad I bought it.\"\n",
      "\n",
      "Model Predction\n",
      "Model (0): 31.9%\n",
      "Model (1): 68.1%\n"
     ]
    }
   ],
   "source": [
    "test_review('This is the worst oven my husband has ever owned! I am glad I bought it.')"
   ]
  },
  {
   "cell_type": "code",
   "execution_count": null,
   "metadata": {},
   "outputs": [],
   "source": []
  }
 ],
 "metadata": {
  "kernelspec": {
   "display_name": "Python 3",
   "language": "python",
   "name": "python3"
  },
  "language_info": {
   "codemirror_mode": {
    "name": "ipython",
    "version": 3
   },
   "file_extension": ".py",
   "mimetype": "text/x-python",
   "name": "python",
   "nbconvert_exporter": "python",
   "pygments_lexer": "ipython3",
   "version": "3.5.4"
  }
 },
 "nbformat": 4,
 "nbformat_minor": 2
}
