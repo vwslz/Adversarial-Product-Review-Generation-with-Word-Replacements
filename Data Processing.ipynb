{
 "cells": [
  {
   "cell_type": "code",
   "execution_count": 2,
   "metadata": {},
   "outputs": [],
   "source": [
    "import pandas as pd\n",
    "import numpy as np\n",
    "\n",
    "import nltk\n",
    "from nltk.corpus import wordnet as wn\n",
    "from nltk.tokenize import word_tokenize\n",
    "import nltk.data\n",
    "import collections\n",
    "import random\n",
    "from IPython.display import clear_output\n",
    "\n",
    "from sklearn.model_selection import train_test_split"
   ]
  },
  {
   "cell_type": "code",
   "execution_count": 3,
   "metadata": {},
   "outputs": [],
   "source": [
    "filename = \"data/reviews_Home_and_Kitchen_5.json\"\n",
    "filename_rawdata_100 = \"rawdata_100.pkl\"\n",
    "filename_rawdata_20 = \"rawdata_20.pkl\""
   ]
  },
  {
   "cell_type": "markdown",
   "metadata": {},
   "source": [
    "### Down Sample"
   ]
  },
  {
   "cell_type": "code",
   "execution_count": null,
   "metadata": {},
   "outputs": [],
   "source": [
    "def saveDataframe(filename, filename_rawdata, subfraction):\n",
    "    data = pd.read_json(filename, lines=True, orient=\"frame\")\n",
    "    \n",
    "    data['reviewText'] = data['reviewText'].str.lower()\n",
    "    \n",
    "    data['overall'] = np.where(data['overall'] < 3, 0, data.overall)\n",
    "    data['overall'] = np.where(data['overall'] > 3, 1, data.overall)\n",
    "\n",
    "    # down sample\n",
    "    data_0 = data.loc[data['overall'] == 0]\n",
    "    data_0 = data_0.sample(frac = subfraction)\n",
    "    data_1 = data.loc[data['overall'] == 1].sample(len(data_0))\n",
    "\n",
    "    data = data_0.append(data_1).sample(frac=1)\n",
    "    \n",
    "    data = data[['reviewText', 'overall']]\n",
    "    \n",
    "    data.to_pickle(filename_rawdata)\n",
    "    print(len(data))"
   ]
  },
  {
   "cell_type": "code",
   "execution_count": null,
   "metadata": {},
   "outputs": [],
   "source": [
    "saveDataframe(filename, filename_rawdata_100, 1) # Whole Set\n",
    "saveDataframe(filename, filename_rawdata_20, 0.2) # Smaller set"
   ]
  },
  {
   "cell_type": "markdown",
   "metadata": {},
   "source": [
    "### Make Adverserial Set"
   ]
  },
  {
   "cell_type": "code",
   "execution_count": 4,
   "metadata": {},
   "outputs": [],
   "source": [
    "file_name = \"rawdata_100.pkl\"\n",
    "file_name_s = \"rawdata_20.pkl\"\n",
    "filename_adversarial_wordnet = \"data_adversial_wordnet\"\n",
    "filename_extension = \".pkl\"\n",
    "filename_adversarial_glove = \"data_adversial_glove.pkl\"\n",
    "max_features = 20000\n",
    "maxlen = 100\n",
    "batch_size = 10\n",
    "num_class = 2\n",
    "\n",
    "tokenizer = nltk.data.load('tokenizers/punkt/english.pickle')\n",
    "\n",
    "POS_TO_WORDNET = {\n",
    "    'NN': wn.NOUN,\n",
    "    'JJ': wn.ADJ,\n",
    "    'JJR': wn.ADJ,\n",
    "    'JJS': wn.ADJ,\n",
    "}"
   ]
  },
  {
   "cell_type": "code",
   "execution_count": 5,
   "metadata": {},
   "outputs": [],
   "source": [
    "def addToReplacement(token, synDict):\n",
    "    if token[1] not in POS_TO_WORDNET: return None\n",
    "    w = token[0].lower()\n",
    "    wn_pos = POS_TO_WORDNET[token[1]]\n",
    "    synsets = wn.synsets(w, wn_pos)\n",
    "    if not synsets: return None\n",
    "    synset = synsets[0]\n",
    "    synonyms = []\n",
    "    antonyms = []\n",
    "    \n",
    "    for syn in wn.synsets(w, wn_pos):\n",
    "        for lem in syn.lemmas():\n",
    "            if (lem.name() != w):\n",
    "                synDict[w] = lem.name()"
   ]
  },
  {
   "cell_type": "code",
   "execution_count": 6,
   "metadata": {},
   "outputs": [],
   "source": [
    "def makeAdversarialDataset(numReplacement, numSample, texts, data):\n",
    "    set_adversial = []\n",
    "    set_unchanged = []\n",
    "    index = 0\n",
    "    sampleOutput = []\n",
    "    for i, row in data.iterrows():\n",
    "        synsetDictionary = {}\n",
    "\n",
    "        text = texts[i]\n",
    "        tokenized = tokenizer.tokenize(text)\n",
    "        words = word_tokenize(text)\n",
    "        tokens = nltk.pos_tag(words)\n",
    "        for token in tokens:\n",
    "            addToReplacement(token, synsetDictionary)\n",
    "        if len(synsetDictionary) > 0:\n",
    "            output = text\n",
    "            for key in random.sample(synsetDictionary.keys(), min(numReplacement, len(synsetDictionary))):\n",
    "                output = output.replace(key, synsetDictionary[key])\n",
    "                if (numSample > 0):\n",
    "                    sampleOutput.append(\"[\" + str(i) + \"]: key-\" + str(key) + \" value-\" + str(synsetDictionary[key]))\n",
    "                del synsetDictionary[key]\n",
    "            data.at[i,'reviewText'] = output\n",
    "            numSample = numSample - 1\n",
    "            set_adversial.append(i)\n",
    "        else:\n",
    "            set_unchanged.append(i)\n",
    "        print(\"progress bar: \", index, \"/\", len(data))\n",
    "        clear_output(wait=True)\n",
    "        index = index + 1\n",
    "\n",
    "    print(sampleOutput)\n",
    "    return set_adversial"
   ]
  },
  {
   "cell_type": "markdown",
   "metadata": {},
   "source": [
    "#### Whole Set"
   ]
  },
  {
   "cell_type": "code",
   "execution_count": 36,
   "metadata": {},
   "outputs": [],
   "source": [
    "dataWhole = pd.read_pickle(file_name)\n",
    "X = dataWhole.reviewText\n",
    "Y = dataWhole.overall\n",
    "X_trains, X_test, Y_trains, Y_test = train_test_split(X, Y, test_size=0.2, random_state=42)\n",
    "\n",
    "dataIter = pd.DataFrame({'reviewText': X_test, 'overall': Y_test})"
   ]
  },
  {
   "cell_type": "code",
   "execution_count": 37,
   "metadata": {
    "scrolled": true
   },
   "outputs": [
    {
     "data": {
      "text/plain": [
       "20568"
      ]
     },
     "execution_count": 37,
     "metadata": {},
     "output_type": "execute_result"
    }
   ],
   "source": [
    "len(dataIter)"
   ]
  },
  {
   "cell_type": "code",
   "execution_count": 38,
   "metadata": {},
   "outputs": [
    {
     "name": "stdout",
     "output_type": "stream",
     "text": [
      "['[452577]: key-min value-Min', '[452577]: key-easy value-wanton', '[452577]: key-video value-TV', '[441929]: key-entire value-intact', '[441929]: key-amazing value-awing', '[441929]: key-scratch value-mark', '[342648]: key-dorm value-student_residence', '[342648]: key-unity value-oneness', '[342648]: key-shelf value-ledge']\n"
     ]
    }
   ],
   "source": [
    "for i in range(3):\n",
    "    print(\"Numer of max replacement is \", i + 1, \": \")\n",
    "    data = dataIter\n",
    "    texts = data['reviewText']\n",
    "    set_adversial = makeAdversarialDataset(i + 1, 3, texts, data)\n",
    "#     data = data.loc[set_adversial,:]\n",
    "    data.to_pickle(filename_adversarial_wordnet + \"_\" + str(i + 1) + filename_extension)"
   ]
  },
  {
   "cell_type": "code",
   "execution_count": 39,
   "metadata": {},
   "outputs": [
    {
     "name": "stdout",
     "output_type": "stream",
     "text": [
      "['[452577]: key-muss value-genus_Mus', '[452577]: key-able value-able-bodied', '[452577]: key-safety value-prophylactic', '[452577]: key-garage value-service_department', '[452577]: key-greater value-with_child', '[452577]: key-cooking value-preparation', '[452577]: key-stick value-spliff', '[452577]: key-temp value-temporary_worker', '[452577]: key-older value-old', '[452577]: key-fryer value-pullet', '[452577]: key-line value-assembly_line', '[452577]: key-tv value-goggle_box', '[452577]: key-cavum value-bodily_cavity', '[452577]: key-amazon value-Amazon_River', '[452577]: key-easier value-easy', '[452577]: key-plug value-nag', '[452577]: key-ease value-relaxation', '[452577]: key-self value-ego', '[452577]: key-bottom value-merchant_ship', '[452577]: key-deck value-deck_of_cards', '[452577]: key-new value-young', '[452577]: key-last value-lowest', '[452577]: key-day value-Clarence_Shepard_Day_Jr.', '[452577]: key-bird value-shuttle', '[452577]: key-manner value-personal_manner', '[452577]: key-turkey value-dud', '[452577]: key-next value-succeeding', '[452577]: key-smaller value-small', '[452577]: key-ability value-power', '[452577]: key-lbs value-lb', '[452577]: key-magnetic value-charismatic', '[452577]: key-oil value-vegetable_oil', '[452577]: key-field_goal value-basket', '[452577]: key-spigot value-faucet', '[452577]: key-note value-note_of_hand', '[452577]: key-compact value-summary', '[452577]: key-old value-previous', '[452577]: key-i value-I', '[452577]: key-important value-authoritative', '[452577]: key-electric value-galvanising', '[441929]: key-decent value-enough', '[441929]: key-neat value-full-strength', '[441929]: key-ray value-re', '[441929]: key-table value-board', '[441929]: key-single value-exclusive', '[441929]: key-wide value-wide_of_the_mark', '[441929]: key-general value-world-wide', '[441929]: key-dark value-darkness', '[441929]: key-kind value-variety', '[441929]: key-familiar value-intimate', '[441929]: key-cat value-CAT', '[441929]: key-set value-readiness', '[441929]: key-time value-sentence', '[441929]: key-cabinet value-console', '[441929]: key-intact value-entire', '[441929]: key-tricky value-wily', '[441929]: key-coffee value-burnt_umber', '[441929]: key-great value-with_child', '[441929]: key-cookware value-cooking_utensil', '[441929]: key-top value-round_top', '[441929]: key-piece value-man', '[441929]: key-daily value-everyday', '[441929]: key-heavy value-with_child', '[441929]: key-i value-I', '[441929]: key-round value-circle', '[441929]: key-favorite value-favourite', '[441929]: key-only value-alone', '[441929]: key-nice value-gracious', '[441929]: key-family value-fellowship', '[441929]: key-hat value-lid', '[441929]: key-mark value-home_run', '[441929]: key-thin value-tenuous', '[441929]: key-hefty value-tidy', '[441929]: key-function value-procedure', '[441929]: key-sink value-sump', '[441929]: key-chip value-splintering', '[441929]: key-look value-smell', '[441929]: key-exact value-precise', '[441929]: key-unique value-singular', '[441929]: key-bowls value-bowl', '[441929]: key-orange value-Orange_River', '[441929]: key-helping_hand value-hand', '[441929]: key-serving value-service_of_process', '[441929]: key-tea value-tea_leaf', '[441929]: key-little value-small', '[441929]: key-feel value-tactile_property', '[441929]: key-stainless value-chromium_steel', '[441929]: key-pop value-pop_music', '[441929]: key-steel value-brand', '[441929]: key-same value-like', '[441929]: key-aspect value-face', '[441929]: key-livid value-black-and-blue', '[441929]: key-modern value-New', '[441929]: key-minute value-hour', '[441929]: key-bit value-turn', '[441929]: key-food value-intellectual_nourishment', '[441929]: key-square value-straight', '[441929]: key-heft value-ponderosity', '[441929]: key-color value-colour', '[441929]: key-value value-note_value', '[441929]: key-bottom value-merchant_ship', '[441929]: key-store value-storage', '[441929]: key-occasion value-social_function', '[441929]: key-size value-size_of_it', '[441929]: key-fan value-lover', '[441929]: key-opinion value-notion', '[441929]: key-several value-various', '[342648]: key-son value-Logos', '[342648]: key-ane value-i', '[342648]: key-fall value-free_fall', '[342648]: key-student_residence value-hall', '[342648]: key-order value-ordering', '[342648]: key-great value-with_child', '[342648]: key-oneness value-unity', '[342648]: key-sure value-indisputable', '[342648]: key-ledge value-shelf', '[342648]: key-elbow_room value-way']\n"
     ]
    }
   ],
   "source": [
    "data = dataIter\n",
    "texts = data['reviewText']\n",
    "set_adversial = makeAdversarialDataset(100000, 3, texts, data)\n",
    "# data = data.loc[set_adversial,:]\n",
    "data.to_pickle(filename_adversarial_wordnet + filename_extension)"
   ]
  },
  {
   "cell_type": "markdown",
   "metadata": {},
   "source": [
    "#### Smaller Set"
   ]
  },
  {
   "cell_type": "code",
   "execution_count": null,
   "metadata": {},
   "outputs": [],
   "source": [
    "data = pd.read_pickle(file_name_s)\n",
    "texts = data['reviewText']\n",
    "set_adversial = makeAdversarialDataset(100000, 3, texts, data)\n",
    "data = data.loc[set_adversial,:]\n",
    "data.to_pickle(filename_adversarial_wordnet + \"_s\" + filename_extension)"
   ]
  },
  {
   "cell_type": "code",
   "execution_count": null,
   "metadata": {},
   "outputs": [],
   "source": [
    "for i in range(3):\n",
    "    print(\"Numer of max replacement is \", i + 1, \": \")\n",
    "    data = pd.read_pickle(file_name_s)\n",
    "    texts = data['reviewText']\n",
    "    set_adversial = makeAdversarialDataset(i + 1, 3, texts, data)\n",
    "    data = data.loc[set_adversial,:]\n",
    "    data.to_pickle(filename_adversarial_wordnet + \"_\" + str(i + 1) + \"_s\" + filename_extension)"
   ]
  },
  {
   "cell_type": "markdown",
   "metadata": {},
   "source": [
    "### Mix Data"
   ]
  },
  {
   "cell_type": "code",
   "execution_count": 13,
   "metadata": {},
   "outputs": [],
   "source": [
    "file_name = \"rawdata_100.pkl\"\n",
    "file_name_s = \"rawdata_20.pkl\"\n",
    "file_name_mixed = \"mixed\"\n",
    "file_name_20568 = \"_20568\"\n",
    "filename_adversarial_wordnet = \"data_adversial_wordnet\"\n",
    "filename_extension = \".pkl\"\n",
    "filename_adversarial_glove = \"data_adversial_glove.pkl\""
   ]
  },
  {
   "cell_type": "markdown",
   "metadata": {},
   "source": [
    "#### Whole Set"
   ]
  },
  {
   "cell_type": "code",
   "execution_count": 14,
   "metadata": {},
   "outputs": [],
   "source": [
    "data_ori = pd.read_pickle(file_name)\n",
    "data_adv = pd.read_pickle(filename_adversarial_wordnet + filename_extension)\n",
    "data_adv1 = pd.read_pickle(filename_adversarial_wordnet + \"_1\" + filename_extension)\n",
    "data_adv2 = pd.read_pickle(filename_adversarial_wordnet + \"_2\" + filename_extension)\n",
    "data_adv3 = pd.read_pickle(filename_adversarial_wordnet + \"_3\" + filename_extension)\n",
    "data = data_ori.append(data_adv)\n",
    "data = data.append(data_adv1)\n",
    "data = data.append(data_adv2)\n",
    "data = data.append(data_adv3)\n",
    "data.to_pickle(file_name_mixed + filename_extension)"
   ]
  },
  {
   "cell_type": "code",
   "execution_count": 15,
   "metadata": {},
   "outputs": [
    {
     "name": "stdout",
     "output_type": "stream",
     "text": [
      "20568\n",
      "20568\n",
      "20568\n",
      "20568\n"
     ]
    }
   ],
   "source": [
    "print(len(data_adv))\n",
    "print(len(data_adv1))\n",
    "print(len(data_adv2))\n",
    "print(len(data_adv3))"
   ]
  },
  {
   "cell_type": "markdown",
   "metadata": {},
   "source": [
    "#### Smaller Set"
   ]
  },
  {
   "cell_type": "code",
   "execution_count": null,
   "metadata": {},
   "outputs": [],
   "source": [
    "data_ori = pd.read_pickle(file_name_s)\n",
    "data_adv = pd.read_pickle(filename_adversarial_wordnet + \"_s\" + filename_extension)\n",
    "data_adv1 = pd.read_pickle(filename_adversarial_wordnet + \"_1_s\" + filename_extension)\n",
    "data_adv2 = pd.read_pickle(filename_adversarial_wordnet + \"_2_s\" + filename_extension)\n",
    "data_adv3 = pd.read_pickle(filename_adversarial_wordnet + \"_3_s\" + filename_extension)\n",
    "data = data_ori.append(data_adv)\n",
    "data = data.append(data_adv1)\n",
    "data = data.append(data_adv2)\n",
    "data = data.append(data_adv3)\n",
    "data.to_pickle(file_name_mixed + \"_s\" + filename_extension)"
   ]
  },
  {
   "cell_type": "markdown",
   "metadata": {},
   "source": [
    "### Generate Adversarial samples for training"
   ]
  },
  {
   "cell_type": "code",
   "execution_count": 7,
   "metadata": {},
   "outputs": [],
   "source": [
    "dataWhole = pd.read_pickle(file_name)\n",
    "X = dataWhole.reviewText\n",
    "Y = dataWhole.overall\n",
    "X_trains, X_test, Y_trains, Y_test = train_test_split(X, Y, test_size=0.2, random_state=42)\n",
    "dataIter = pd.DataFrame({'reviewText': X_trains, 'overall': Y_trains})"
   ]
  },
  {
   "cell_type": "code",
   "execution_count": 8,
   "metadata": {},
   "outputs": [
    {
     "name": "stdout",
     "output_type": "stream",
     "text": [
      "['[137686]: key-day value-Clarence_Shepard_Day_Jr.', '[137686]: key-messy value-mussy', '[137686]: key-easy value-wanton', '[137686]: key-easier value-easy', '[295086]: key-job value-caper', '[295086]: key-nothing value-zippo', '[295086]: key-scary value-shuddery', '[295086]: key-resistant value-repellent', '[295086]: key-same value-like', '[295086]: key-collapse value-crash', '[295086]: key-old value-previous', '[295086]: key-cent value-centime', '[295086]: key-cheap value-chintzy', '[295086]: key-teflon value-polytetrafluoroethylene', '[295086]: key-more value-more_than', '[295086]: key-fine value-hunky-dory', '[295086]: key-heating value-heat', '[295086]: key-i value-I', '[295086]: key-rubber value-gumshoe', '[295086]: key-season value-time_of_year', '[295086]: key-plastic value-charge_plate', '[295086]: key-impressive value-telling', '[295086]: key-panel value-board', '[295086]: key-outside value-away', '[295086]: key-loud value-forte', '[295086]: key-little value-small', '[295086]: key-part value-share', '[295086]: key-soft value-subdued', '[295086]: key-plate value-dental_plate', '[295086]: key-one value-unity', '[295086]: key-thing value-affair', '[295086]: key-way value-elbow_room', '[295086]: key-inconsistent value-discrepant', '[295086]: key-metal value-alloy', '[295086]: key-shape value-pattern', '[295086]: key-inside value-privileged', '[295086]: key-water value-weewee', '[295086]: key-opening value-opening_move', '[295086]: key-weekly value-hebdomadary', '[295086]: key-low value-low-spirited', '[295086]: key-day value-Clarence_Shepard_Day_Jr.', '[295086]: key-crane value-Crane', '[295086]: key-high value-mellow', '[295086]: key-back value-backrest', '[295086]: key-wrong value-incorrect', '[295086]: key-first value-world-class', '[295086]: key-front value-social_movement', '[295086]: key-lot value-Lot', '[295086]: key-night value-Night', '[295086]: key-winter value-wintertime', '[295086]: key-pliable value-waxy', '[295086]: key-humidity value-humidness', '[295086]: key-foam value-froth', '[295086]: key-time value-sentence', '[295086]: key-red value-flushed', '[295086]: key-hand value-helping_hand', '[295086]: key-reservoir value-source', '[295086]: key-problem value-trouble', '[295086]: key-second value-2d', '[295086]: key-chimney value-lamp_chimney', '[295086]: key-weak value-faint', '[295086]: key-summer value-summertime', '[295086]: key-touch value-feeling', '[295086]: key-setting value-mount', '[295086]: key-mediocre value-middling', '[295086]: key-sense value-mother_wit', '[295086]: key-heat value-heating', '[295086]: key-glad value-beaming', '[295086]: key-quiet value-unruffled', '[295086]: key-mad value-insane', '[295086]: key-element value-chemical_element', '[295086]: key-small value-diminished', '[295086]: key-kid value-child', '[295086]: key-hot value-live', '[295086]: key-material value-textile', '[295086]: key-matter value-issue', '[376161]: key-awesome value-awing', '[376161]: key-guest value-client', '[376161]: key-hold value-storage_area', '[376161]: key-size value-size_of_it', '[376161]: key-bar value-BAR', '[376161]: key-great value-with_child', '[376161]: key-soap value-easy_lay', '[376161]: key-silicone value-silicone_polymer', '[376161]: key-other value-former', '[376161]: key-full value-wide-cut', '[376161]: key-i value-I', '[376161]: key-mold value-clay_sculpture', '[376161]: key-witch value-crone', '[376161]: key-fo value-FO']\n"
     ]
    }
   ],
   "source": [
    "data = dataIter\n",
    "texts = data['reviewText']\n",
    "set_adversial = makeAdversarialDataset(100000, 3, texts, data)\n",
    "data = data.append(dataIter)\n",
    "data.to_pickle(\"adversarialTest_train\" + filename_extension)\n",
    "data = pd.DataFrame({'reviewText': X_test, 'overall': Y_test})\n",
    "data.to_pickle(\"adversarialTest_test\" + filename_extension)"
   ]
  },
  {
   "cell_type": "code",
   "execution_count": 10,
   "metadata": {},
   "outputs": [],
   "source": [
    "data_ori_train = pd.read_pickle(\"adversarialTest_train.pkl\")\n",
    "data_ori_test = pd.read_pickle(\"adversarialTest_test.pkl\")\n",
    "data_adv = pd.read_pickle(filename_adversarial_wordnet + filename_extension)\n",
    "data_adv1 = pd.read_pickle(filename_adversarial_wordnet + \"_1\" + filename_extension)\n",
    "data_adv2 = pd.read_pickle(filename_adversarial_wordnet + \"_2\" + filename_extension)\n",
    "data_adv3 = pd.read_pickle(filename_adversarial_wordnet + \"_3\" + filename_extension)\n",
    "data = data_ori_train.append(data_ori_test)\n",
    "data = data.append(data_adv)\n",
    "data = data.append(data_adv1)\n",
    "data = data.append(data_adv2)\n",
    "data = data.append(data_adv3)\n",
    "data.to_pickle(\"adversarialTest\" + filename_extension)"
   ]
  },
  {
   "cell_type": "code",
   "execution_count": 11,
   "metadata": {},
   "outputs": [
    {
     "name": "stdout",
     "output_type": "stream",
     "text": [
      "164540\n",
      "20568\n",
      "20568\n",
      "20568\n",
      "20568\n",
      "20568\n"
     ]
    }
   ],
   "source": [
    "print(len(data_ori_train))\n",
    "print(len(data_ori_test))\n",
    "print(len(data_adv))\n",
    "print(len(data_adv1))\n",
    "print(len(data_adv2))\n",
    "print(len(data_adv3))"
   ]
  },
  {
   "cell_type": "code",
   "execution_count": 12,
   "metadata": {},
   "outputs": [
    {
     "data": {
      "text/plain": [
       "267380"
      ]
     },
     "execution_count": 12,
     "metadata": {},
     "output_type": "execute_result"
    }
   ],
   "source": [
    "len(data)"
   ]
  },
  {
   "cell_type": "code",
   "execution_count": null,
   "metadata": {},
   "outputs": [],
   "source": []
  }
 ],
 "metadata": {
  "kernelspec": {
   "display_name": "Python 3",
   "language": "python",
   "name": "python3"
  },
  "language_info": {
   "codemirror_mode": {
    "name": "ipython",
    "version": 3
   },
   "file_extension": ".py",
   "mimetype": "text/x-python",
   "name": "python",
   "nbconvert_exporter": "python",
   "pygments_lexer": "ipython3",
   "version": "3.5.4"
  }
 },
 "nbformat": 4,
 "nbformat_minor": 2
}
