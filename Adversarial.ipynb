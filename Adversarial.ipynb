{
 "cells": [
  {
   "cell_type": "code",
   "execution_count": 90,
   "metadata": {},
   "outputs": [],
   "source": [
    "import pandas as pd\n",
    "import nltk\n",
    "from nltk.corpus import wordnet as wn\n",
    "from nltk.tokenize import word_tokenize\n",
    "import nltk.data\n",
    "import collections"
   ]
  },
  {
   "cell_type": "code",
   "execution_count": 91,
   "metadata": {},
   "outputs": [],
   "source": [
    "filenames = [\"data/reviews_Home_and_Kitchen_5.json\"]\n",
    "filename = \"data/reviews_Home_and_Kitchen_5.json\"\n",
    "file_name = \"rawdata_100.pkl\"\n",
    "filename_adversarial_wordnet = \"data_adversial_wordnet.pkl\"\n",
    "filename_adversarial_glove = \"data_adversial_glove.pkl\"\n",
    "max_features = 20000\n",
    "maxlen = 100\n",
    "batch_size = 10\n",
    "num_class = 2\n",
    "\n",
    "set_adversial = []\n",
    "set_unchanged = []"
   ]
  },
  {
   "cell_type": "code",
   "execution_count": 92,
   "metadata": {},
   "outputs": [],
   "source": [
    "data = pd.read_pickle(file_name)"
   ]
  },
  {
   "cell_type": "code",
   "execution_count": 93,
   "metadata": {},
   "outputs": [
    {
     "data": {
      "text/html": [
       "<div>\n",
       "<style scoped>\n",
       "    .dataframe tbody tr th:only-of-type {\n",
       "        vertical-align: middle;\n",
       "    }\n",
       "\n",
       "    .dataframe tbody tr th {\n",
       "        vertical-align: top;\n",
       "    }\n",
       "\n",
       "    .dataframe thead th {\n",
       "        text-align: right;\n",
       "    }\n",
       "</style>\n",
       "<table border=\"1\" class=\"dataframe\">\n",
       "  <thead>\n",
       "    <tr style=\"text-align: right;\">\n",
       "      <th></th>\n",
       "      <th>asin</th>\n",
       "      <th>helpful</th>\n",
       "      <th>overall</th>\n",
       "      <th>reviewText</th>\n",
       "      <th>reviewTime</th>\n",
       "      <th>reviewerID</th>\n",
       "      <th>reviewerName</th>\n",
       "      <th>summary</th>\n",
       "      <th>unixReviewTime</th>\n",
       "    </tr>\n",
       "  </thead>\n",
       "  <tbody>\n",
       "    <tr>\n",
       "      <th>44007</th>\n",
       "      <td>B000079R7G</td>\n",
       "      <td>[9, 14]</td>\n",
       "      <td>0</td>\n",
       "      <td>i bought this based on other's positive review...</td>\n",
       "      <td>05 20, 2006</td>\n",
       "      <td>AZU2JDR2GVICQ</td>\n",
       "      <td>Zyde \"zyde\"</td>\n",
       "      <td>Horrible and Expensive</td>\n",
       "      <td>1148083200</td>\n",
       "    </tr>\n",
       "    <tr>\n",
       "      <th>126671</th>\n",
       "      <td>B000B649X2</td>\n",
       "      <td>[0, 0]</td>\n",
       "      <td>0</td>\n",
       "      <td>i had seen these in stores, and when amazon of...</td>\n",
       "      <td>03 19, 2006</td>\n",
       "      <td>A1O3LAET0L3BHU</td>\n",
       "      <td>Jo Gusto</td>\n",
       "      <td>Fantastic concept... miserable battery perform...</td>\n",
       "      <td>1142726400</td>\n",
       "    </tr>\n",
       "    <tr>\n",
       "      <th>412572</th>\n",
       "      <td>B004NGVIIK</td>\n",
       "      <td>[0, 0]</td>\n",
       "      <td>1</td>\n",
       "      <td>i ordered these right along with the pressure ...</td>\n",
       "      <td>10 25, 2013</td>\n",
       "      <td>A6RGPU0H5VFTZ</td>\n",
       "      <td>melissa baldwin</td>\n",
       "      <td>good deal</td>\n",
       "      <td>1382659200</td>\n",
       "    </tr>\n",
       "    <tr>\n",
       "      <th>131315</th>\n",
       "      <td>B000BR391E</td>\n",
       "      <td>[0, 0]</td>\n",
       "      <td>0</td>\n",
       "      <td>this was a great deal and worked super until s...</td>\n",
       "      <td>05 14, 2011</td>\n",
       "      <td>ATJDQ137MA426</td>\n",
       "      <td>L. Mitchell</td>\n",
       "      <td>Timer Stopped Working</td>\n",
       "      <td>1305331200</td>\n",
       "    </tr>\n",
       "    <tr>\n",
       "      <th>133376</th>\n",
       "      <td>B000C239I6</td>\n",
       "      <td>[0, 0]</td>\n",
       "      <td>1</td>\n",
       "      <td>i received this set last christmas (2012) and ...</td>\n",
       "      <td>08 21, 2013</td>\n",
       "      <td>A24X6MADWDYX8T</td>\n",
       "      <td>Lisa C.</td>\n",
       "      <td>Best set of cookware imaginable</td>\n",
       "      <td>1377043200</td>\n",
       "    </tr>\n",
       "    <tr>\n",
       "      <th>484182</th>\n",
       "      <td>B0081JZE1W</td>\n",
       "      <td>[2, 2]</td>\n",
       "      <td>0</td>\n",
       "      <td>the filter pictured is that of an oem dyson pr...</td>\n",
       "      <td>03 17, 2014</td>\n",
       "      <td>A1L1XP2KQ99BGJ</td>\n",
       "      <td>Bassinvol</td>\n",
       "      <td>Not an OEM product as pictured</td>\n",
       "      <td>1395014400</td>\n",
       "    </tr>\n",
       "    <tr>\n",
       "      <th>105172</th>\n",
       "      <td>B0006HUYGM</td>\n",
       "      <td>[10, 10]</td>\n",
       "      <td>1</td>\n",
       "      <td>i agree with the five star commenters -- this ...</td>\n",
       "      <td>09 29, 2005</td>\n",
       "      <td>A2O6AAW9WZ1XJB</td>\n",
       "      <td>Virginia music lover \"cossack\"</td>\n",
       "      <td>Excellent product for a low price</td>\n",
       "      <td>1127952000</td>\n",
       "    </tr>\n",
       "    <tr>\n",
       "      <th>125552</th>\n",
       "      <td>B000ASDCWK</td>\n",
       "      <td>[3, 3]</td>\n",
       "      <td>1</td>\n",
       "      <td>the only complaint i may have on this item is ...</td>\n",
       "      <td>10 20, 2006</td>\n",
       "      <td>AB0NEAUW9KJZR</td>\n",
       "      <td>dbstyle</td>\n",
       "      <td>Great</td>\n",
       "      <td>1161302400</td>\n",
       "    </tr>\n",
       "    <tr>\n",
       "      <th>397462</th>\n",
       "      <td>B004918OPO</td>\n",
       "      <td>[0, 0]</td>\n",
       "      <td>1</td>\n",
       "      <td>this pitcher has saved me a bundle on bottled ...</td>\n",
       "      <td>07 22, 2013</td>\n",
       "      <td>A1G0RMYT6CHP66</td>\n",
       "      <td>L. Nelson \"Big Sis\"</td>\n",
       "      <td>love it</td>\n",
       "      <td>1374451200</td>\n",
       "    </tr>\n",
       "    <tr>\n",
       "      <th>34781</th>\n",
       "      <td>B0000632QE</td>\n",
       "      <td>[665, 683]</td>\n",
       "      <td>1</td>\n",
       "      <td>i purchased the v-slicer over ten years ago an...</td>\n",
       "      <td>07 21, 2002</td>\n",
       "      <td>A3D0RU1URR2IOF</td>\n",
       "      <td>Daniel F. Moore</td>\n",
       "      <td>Hasn't left the counter in ten years</td>\n",
       "      <td>1027209600</td>\n",
       "    </tr>\n",
       "  </tbody>\n",
       "</table>\n",
       "</div>"
      ],
      "text/plain": [
       "              asin     helpful  overall  \\\n",
       "44007   B000079R7G     [9, 14]        0   \n",
       "126671  B000B649X2      [0, 0]        0   \n",
       "412572  B004NGVIIK      [0, 0]        1   \n",
       "131315  B000BR391E      [0, 0]        0   \n",
       "133376  B000C239I6      [0, 0]        1   \n",
       "484182  B0081JZE1W      [2, 2]        0   \n",
       "105172  B0006HUYGM    [10, 10]        1   \n",
       "125552  B000ASDCWK      [3, 3]        1   \n",
       "397462  B004918OPO      [0, 0]        1   \n",
       "34781   B0000632QE  [665, 683]        1   \n",
       "\n",
       "                                               reviewText   reviewTime  \\\n",
       "44007   i bought this based on other's positive review...  05 20, 2006   \n",
       "126671  i had seen these in stores, and when amazon of...  03 19, 2006   \n",
       "412572  i ordered these right along with the pressure ...  10 25, 2013   \n",
       "131315  this was a great deal and worked super until s...  05 14, 2011   \n",
       "133376  i received this set last christmas (2012) and ...  08 21, 2013   \n",
       "484182  the filter pictured is that of an oem dyson pr...  03 17, 2014   \n",
       "105172  i agree with the five star commenters -- this ...  09 29, 2005   \n",
       "125552  the only complaint i may have on this item is ...  10 20, 2006   \n",
       "397462  this pitcher has saved me a bundle on bottled ...  07 22, 2013   \n",
       "34781   i purchased the v-slicer over ten years ago an...  07 21, 2002   \n",
       "\n",
       "            reviewerID                    reviewerName  \\\n",
       "44007    AZU2JDR2GVICQ                     Zyde \"zyde\"   \n",
       "126671  A1O3LAET0L3BHU                        Jo Gusto   \n",
       "412572   A6RGPU0H5VFTZ                 melissa baldwin   \n",
       "131315   ATJDQ137MA426                     L. Mitchell   \n",
       "133376  A24X6MADWDYX8T                         Lisa C.   \n",
       "484182  A1L1XP2KQ99BGJ                       Bassinvol   \n",
       "105172  A2O6AAW9WZ1XJB  Virginia music lover \"cossack\"   \n",
       "125552   AB0NEAUW9KJZR                         dbstyle   \n",
       "397462  A1G0RMYT6CHP66             L. Nelson \"Big Sis\"   \n",
       "34781   A3D0RU1URR2IOF                 Daniel F. Moore   \n",
       "\n",
       "                                                  summary  unixReviewTime  \n",
       "44007                              Horrible and Expensive      1148083200  \n",
       "126671  Fantastic concept... miserable battery perform...      1142726400  \n",
       "412572                                          good deal      1382659200  \n",
       "131315                              Timer Stopped Working      1305331200  \n",
       "133376                    Best set of cookware imaginable      1377043200  \n",
       "484182                     Not an OEM product as pictured      1395014400  \n",
       "105172                  Excellent product for a low price      1127952000  \n",
       "125552                                              Great      1161302400  \n",
       "397462                                            love it      1374451200  \n",
       "34781                Hasn't left the counter in ten years      1027209600  "
      ]
     },
     "execution_count": 93,
     "metadata": {},
     "output_type": "execute_result"
    }
   ],
   "source": [
    "data.head(10)"
   ]
  },
  {
   "cell_type": "markdown",
   "metadata": {},
   "source": [
    "### replace nouns with antonyms and adj with synonyms"
   ]
  },
  {
   "cell_type": "code",
   "execution_count": 94,
   "metadata": {},
   "outputs": [],
   "source": [
    "POS_TO_WORDNET = {\n",
    "    'NN': wn.NOUN,\n",
    "    'JJ': wn.ADJ,\n",
    "    'JJR': wn.ADJ,\n",
    "    'JJS': wn.ADJ,\n",
    "}"
   ]
  },
  {
   "cell_type": "code",
   "execution_count": 95,
   "metadata": {},
   "outputs": [],
   "source": [
    "def alter_wordnet_antonyms(token):\n",
    "    if token[1] not in POS_TO_WORDNET: return None\n",
    "    w = token[0].lower()\n",
    "    wn_pos = POS_TO_WORDNET[token[1]]\n",
    "    synsets = wn.synsets(w, wn_pos)\n",
    "    if not synsets: return None\n",
    "    synset = synsets[0]\n",
    "    synonyms = []\n",
    "    antonyms = []\n",
    "\n",
    "    for syn in wn.synsets(w, wn_pos):\n",
    "        for lem in syn.lemmas():\n",
    "            if (lem.name() != w):\n",
    "                synonyms.append(lem.name())\n",
    "#     for lem in synset.lemmas():\n",
    "#         if lem.antonyms():\n",
    "# #                 print(\"nouns: \", i)\n",
    "#             for a in lem.antonyms():\n",
    "#                 new_word = a.name()\n",
    "#                 if '_' in a.name(): continue\n",
    "#                 antonyms.append(new_word)\n",
    "#         else:\n",
    "#             print(\"adj: \", i)\n",
    "#         synonyms.append(lem.name())\n",
    "#     if token[1] == 'NN':\n",
    "#         return antonyms\n",
    "#     else:\n",
    "    return synonyms"
   ]
  },
  {
   "cell_type": "code",
   "execution_count": 96,
   "metadata": {},
   "outputs": [],
   "source": [
    "texts = data['reviewText']\n",
    "tokenizer = nltk.data.load('tokenizers/punkt/english.pickle')"
   ]
  },
  {
   "cell_type": "code",
   "execution_count": 97,
   "metadata": {
    "scrolled": true
   },
   "outputs": [
    {
     "name": "stdout",
     "output_type": "stream",
     "text": [
      "44007 :  i  to  iodine\n",
      "44007 :  other  to  early\n",
      "44007 :  positive  to  convinced\n",
      "44007 :  share  to  portion\n",
      "44007 :  same  to  like\n",
      "44007 :  positive  to  convinced\n",
      "44007 :  horrible  to  atrocious\n",
      "44007 :  suction  to  sucking\n",
      "44007 :  horrible  to  atrocious\n",
      "44007 :  hair  to  hair's-breadth\n",
      "44007 :  i  to  iodine\n",
      "44007 :  old  to  older\n",
      "44007 :  boss  to  foreman\n",
      "44007 :  better  to  best\n",
      "44007 :  cheaper  to  cheap\n",
      "44007 :  hair  to  hair's-breadth\n",
      "44007 :  couch  to  sofa\n",
      "44007 :  first  to  1st\n",
      "44007 :  i  to  iodine\n",
      "44007 :  roller  to  roll\n",
      "44007 :  rolling  to  rolled\n",
      "44007 :  lower  to  low\n",
      "44007 :  surface  to  Earth's_surface\n",
      "44007 :  small  to  little\n",
      "44007 :  whatnot  to  bric-a-brac\n",
      "44007 :  suction  to  sucking\n",
      "44007 :  carpet  to  rug\n",
      "44007 :  carpet  to  rug\n",
      "44007 :  vacuum  to  vacuity\n",
      "44007 :  little  to  small\n",
      "44007 :  thing  to  matter\n",
      "44007 :  main  to  chief\n",
      "44007 :  roller  to  roll\n",
      "44007 :  loud  to  brassy\n",
      "44007 :  warning  to  admonition\n",
      "44007 :  sound  to  auditory_sensation\n",
      "44007 :  i  to  one\n",
      "44007 :  warning  to  admonition\n",
      "44007 :  sound  to  auditory_sensation\n",
      "44007 :  user  to  exploiter\n",
      "44007 :  roller  to  roll\n",
      "44007 :  entire  to  full\n",
      "44007 :  vacuum  to  vacuity\n",
      "44007 :  session  to  school_term\n",
      "44007 :  i  to  iodine\n",
      "44007 :  roller  to  roll\n",
      "44007 :  nothing  to  nil\n",
      "44007 :  roller  to  roll\n",
      "44007 :  i  to  one\n",
      "44007 :  little  to  small\n",
      "44007 :  piece  to  part\n",
      "44007 :  fluff  to  bagatelle\n",
      "44007 :  loudest  to  loud\n",
      "44007 :  obnoxious  to  objectionable\n",
      "44007 :  sound  to  auditory_sensation\n",
      "44007 :  positive  to  convinced\n",
      "44007 :  thing  to  matter\n",
      "44007 :  i  to  iodine\n",
      "44007 :  ease  to  easiness\n",
      "44007 :  debris  to  dust\n",
      "44007 :  bucket  to  pail\n",
      "44007 :  great  to  outstanding\n",
      "44007 :  feature  to  characteristic\n",
      "44007 :  worth  to  deserving\n",
      "44007 :  extension  to  propagation\n",
      "44007 :  more  to  more_than\n",
      "44007 :  other  to  early\n",
      "44007 :  vacuum  to  vacuity\n",
      "44007 :  i  to  iodine\n",
      "44007 :  poorest  to  hapless\n",
      "44007 :  design  to  designing\n",
      "44007 :  i  to  iodine\n",
      "44007 :  better  to  best\n",
      "44007 :  i  to  one\n",
      "44007 :  hour  to  hr\n",
      "44007 :  piece  to  part\n",
      "44007 :  utter  to  arrant\n",
      "44007 :  shock  to  daze\n",
      "44007 :  i  to  iodine\n",
      "44007 :  grand  to  expansive\n",
      "44007 :  joke  to  gag\n",
      "44007 :  sure  to  certain\n",
      "44007 :  horrible  to  atrocious\n",
      "44007 :  product  to  merchandise\n",
      "iodine bought this based on early 's convinced reviews , but i do not portion those like convinced opinions at all . either they are all dyson employees or i received a faulty product.1 . atrocious sucking . especially atrocious with cat hair's-breadth . iodine do n't understand how these others say differently . my older eureka foreman was substantially best ( and substantially cheap ) . it just passed over the cat hair's-breadth on the sofa without pulling it up . at 1st iodine thought maybe the roll was n't rolled , but it was . it just did n't work well at all . on low carpets it got items on the Earth's_surface ( little bits of bric-a-brac ) but absolutely no sucking on the rug ( neither rug nor barefloor modes ) . did n't even leave vacuity marks.2 . the least small matter caused the chief roll to make a very brassy `` admonition '' auditory_sensation . one read in the instructions that this admonition auditory_sensation is to alert the exploiter that something is stuck in the roll which is causing it to not roll at peak efficiency . it `` warned '' me off and on during my full vacuity school_term . iodine kept checking the roll and nil was impeding the roll . one 'd clear out a small part of bagatelle and try again . it is the loud , most objectionable auditory_sensation you 'll ever hear.3 . one convinced matter iodine want to mention : the easiness of emptying the dust pail was outstanding ( after figuring it out ) . however , this characteristic was not deserving $ 500.00 ... but should still get a mention.4 . to use the hose propagation , it requires jumping through more_than hoops than any early vacuity iodine 've ever owned . it was the hapless designing iodine 've ever run across.i had some friends come over to see if they could get it to work best than me . i 'm not above making errors and thought perhaps one put it together incorrectly or was using it incorrectly . after about half an hr of checking and testing everything , they concurred that it was a part of feces and were in arrant daze that iodine paid half a expansive for it . it 's now a running gag between us and we make certain we tell everyone we meet about this atrocious merchandise .\n",
      "\n",
      "126671 :  i  to  iodine\n",
      "126671 :  amazon  to  virago\n",
      "126671 :  factory  to  mill\n",
      "126671 :  significant  to  important\n",
      "126671 :  discount  to  price_reduction\n",
      "126671 :  i  to  iodine\n",
      "126671 :  week  to  hebdomad\n",
      "126671 :  battery  to  electric_battery\n",
      "126671 :  ability  to  power\n",
      "126671 :  charge  to  complaint\n",
      "126671 :  unit  to  unit_of_measurement\n",
      "126671 :  more  to  more_than\n",
      "126671 :  full  to  entire\n",
      "126671 :  i  to  iodine\n",
      "126671 :  unit  to  unit_of_measurement\n",
      "126671 :  refund  to  repayment\n",
      "126671 :  technology  to  engineering\n",
      "126671 :  point  to  detail\n",
      "126671 :  useful  to  utile\n",
      "126671 :  worth  to  deserving\n",
      "126671 :  i  to  iodine\n",
      "126671 :  one  to  1\n",
      "iodine had seen these in stores , and when virago offered a `` mill reconditioned '' one for a important price_reduction , iodine was excited to try it.after a hebdomad of running it -- and recharging it per the instructions -- the electric_battery just lost all power to hold a complaint . the unit_of_measurement could not run for more_than than 5-7 minutes before it pooped out . a entire 24 hours of charging could n't rectify the situation.thoroughly disappointed , iodine returned the unit_of_measurement for a repayment . hopefully , irobot will refine the engineering to the detail where it will be truly utile and deserving the money spent . iodine really need something like this , but this 1 is n't quite there yet , it seems to me .\n",
      "\n",
      "412572 :  i  to  iodine\n",
      "412572 :  right  to  correct\n",
      "412572 :  pressure  to  pressure_level\n",
      "412572 :  great  to  outstanding\n",
      "412572 :  shape  to  form\n",
      "412572 :  durable  to  lasting\n",
      "iodine ordered these correct along with the pressure_level canner . they arrived in outstanding form and quickly . they adhere well to jars and are lasting . a must have for anyone who cans foods .\n",
      "\n"
     ]
    }
   ],
   "source": [
    "numSample = 3\n",
    "for i, row in data.iterrows():\n",
    "    text = texts[i]\n",
    "    tokenized = tokenizer.tokenize(text)\n",
    "    words = word_tokenize(text)\n",
    "    tokens = nltk.pos_tag(words)\n",
    "    output = \"\"\n",
    "    index = 0\n",
    "    isChanged = False\n",
    "    for token in tokens:\n",
    "        if index != 0:\n",
    "            output = output + ' '\n",
    "        synset = alter_wordnet_antonyms(token)\n",
    "        if synset is None or len(synset) == 0:\n",
    "            output = output + token[0]\n",
    "        else:\n",
    "            isChanged = True\n",
    "            if (numSample > 0):\n",
    "                print(i, \": \", token[0], \" to \", synset[0])\n",
    "            output = output + synset[0]\n",
    "        index = index + 1\n",
    "    if isChanged:\n",
    "        if (numSample > 0):\n",
    "            print(output)\n",
    "            print(\"\")\n",
    "            numSample = numSample - 1\n",
    "        data.at[i,'reviewText'] = output\n",
    "        set_adversial.append(i)\n",
    "    else:\n",
    "        set_unchanged.append(i)"
   ]
  },
  {
   "cell_type": "code",
   "execution_count": 101,
   "metadata": {
    "scrolled": true
   },
   "outputs": [
    {
     "data": {
      "text/plain": [
       "102664"
      ]
     },
     "execution_count": 101,
     "metadata": {},
     "output_type": "execute_result"
    }
   ],
   "source": [
    "len(set_adversial)"
   ]
  },
  {
   "cell_type": "code",
   "execution_count": 102,
   "metadata": {},
   "outputs": [
    {
     "data": {
      "text/plain": [
       "102838"
      ]
     },
     "execution_count": 102,
     "metadata": {},
     "output_type": "execute_result"
    }
   ],
   "source": [
    "len(data)"
   ]
  },
  {
   "cell_type": "code",
   "execution_count": 104,
   "metadata": {},
   "outputs": [],
   "source": [
    "data = data.loc[set_adversial,:]"
   ]
  },
  {
   "cell_type": "code",
   "execution_count": 105,
   "metadata": {},
   "outputs": [
    {
     "data": {
      "text/html": [
       "<div>\n",
       "<style scoped>\n",
       "    .dataframe tbody tr th:only-of-type {\n",
       "        vertical-align: middle;\n",
       "    }\n",
       "\n",
       "    .dataframe tbody tr th {\n",
       "        vertical-align: top;\n",
       "    }\n",
       "\n",
       "    .dataframe thead th {\n",
       "        text-align: right;\n",
       "    }\n",
       "</style>\n",
       "<table border=\"1\" class=\"dataframe\">\n",
       "  <thead>\n",
       "    <tr style=\"text-align: right;\">\n",
       "      <th></th>\n",
       "      <th>asin</th>\n",
       "      <th>helpful</th>\n",
       "      <th>overall</th>\n",
       "      <th>reviewText</th>\n",
       "      <th>reviewTime</th>\n",
       "      <th>reviewerID</th>\n",
       "      <th>reviewerName</th>\n",
       "      <th>summary</th>\n",
       "      <th>unixReviewTime</th>\n",
       "    </tr>\n",
       "  </thead>\n",
       "  <tbody>\n",
       "    <tr>\n",
       "      <th>44007</th>\n",
       "      <td>B000079R7G</td>\n",
       "      <td>[9, 14]</td>\n",
       "      <td>0</td>\n",
       "      <td>iodine bought this based on early 's convinced...</td>\n",
       "      <td>05 20, 2006</td>\n",
       "      <td>AZU2JDR2GVICQ</td>\n",
       "      <td>Zyde \"zyde\"</td>\n",
       "      <td>Horrible and Expensive</td>\n",
       "      <td>1148083200</td>\n",
       "    </tr>\n",
       "    <tr>\n",
       "      <th>126671</th>\n",
       "      <td>B000B649X2</td>\n",
       "      <td>[0, 0]</td>\n",
       "      <td>0</td>\n",
       "      <td>iodine had seen these in stores , and when vir...</td>\n",
       "      <td>03 19, 2006</td>\n",
       "      <td>A1O3LAET0L3BHU</td>\n",
       "      <td>Jo Gusto</td>\n",
       "      <td>Fantastic concept... miserable battery perform...</td>\n",
       "      <td>1142726400</td>\n",
       "    </tr>\n",
       "    <tr>\n",
       "      <th>412572</th>\n",
       "      <td>B004NGVIIK</td>\n",
       "      <td>[0, 0]</td>\n",
       "      <td>1</td>\n",
       "      <td>iodine ordered these correct along with the pr...</td>\n",
       "      <td>10 25, 2013</td>\n",
       "      <td>A6RGPU0H5VFTZ</td>\n",
       "      <td>melissa baldwin</td>\n",
       "      <td>good deal</td>\n",
       "      <td>1382659200</td>\n",
       "    </tr>\n",
       "    <tr>\n",
       "      <th>131315</th>\n",
       "      <td>B000BR391E</td>\n",
       "      <td>[0, 0]</td>\n",
       "      <td>0</td>\n",
       "      <td>this was a outstanding trade and worked ace un...</td>\n",
       "      <td>05 14, 2011</td>\n",
       "      <td>ATJDQ137MA426</td>\n",
       "      <td>L. Mitchell</td>\n",
       "      <td>Timer Stopped Working</td>\n",
       "      <td>1305331200</td>\n",
       "    </tr>\n",
       "    <tr>\n",
       "      <th>133376</th>\n",
       "      <td>B000C239I6</td>\n",
       "      <td>[0, 0]</td>\n",
       "      <td>1</td>\n",
       "      <td>i received this set concluding Christmas ( 201...</td>\n",
       "      <td>08 21, 2013</td>\n",
       "      <td>A24X6MADWDYX8T</td>\n",
       "      <td>Lisa C.</td>\n",
       "      <td>Best set of cookware imaginable</td>\n",
       "      <td>1377043200</td>\n",
       "    </tr>\n",
       "    <tr>\n",
       "      <th>484182</th>\n",
       "      <td>B0081JZE1W</td>\n",
       "      <td>[2, 2]</td>\n",
       "      <td>0</td>\n",
       "      <td>the filter pictured is that of an oem dyson pr...</td>\n",
       "      <td>03 17, 2014</td>\n",
       "      <td>A1L1XP2KQ99BGJ</td>\n",
       "      <td>Bassinvol</td>\n",
       "      <td>Not an OEM product as pictured</td>\n",
       "      <td>1395014400</td>\n",
       "    </tr>\n",
       "    <tr>\n",
       "      <th>105172</th>\n",
       "      <td>B0006HUYGM</td>\n",
       "      <td>[10, 10]</td>\n",
       "      <td>1</td>\n",
       "      <td>i agree with the five ace commenters -- this i...</td>\n",
       "      <td>09 29, 2005</td>\n",
       "      <td>A2O6AAW9WZ1XJB</td>\n",
       "      <td>Virginia music lover \"cossack\"</td>\n",
       "      <td>Excellent product for a low price</td>\n",
       "      <td>1127952000</td>\n",
       "    </tr>\n",
       "    <tr>\n",
       "      <th>125552</th>\n",
       "      <td>B000ASDCWK</td>\n",
       "      <td>[3, 3]</td>\n",
       "      <td>1</td>\n",
       "      <td>the lone ailment iodine may have on this point...</td>\n",
       "      <td>10 20, 2006</td>\n",
       "      <td>AB0NEAUW9KJZR</td>\n",
       "      <td>dbstyle</td>\n",
       "      <td>Great</td>\n",
       "      <td>1161302400</td>\n",
       "    </tr>\n",
       "    <tr>\n",
       "      <th>397462</th>\n",
       "      <td>B004918OPO</td>\n",
       "      <td>[0, 0]</td>\n",
       "      <td>1</td>\n",
       "      <td>this hurler has saved me a package on bottled ...</td>\n",
       "      <td>07 22, 2013</td>\n",
       "      <td>A1G0RMYT6CHP66</td>\n",
       "      <td>L. Nelson \"Big Sis\"</td>\n",
       "      <td>love it</td>\n",
       "      <td>1374451200</td>\n",
       "    </tr>\n",
       "    <tr>\n",
       "      <th>34781</th>\n",
       "      <td>B0000632QE</td>\n",
       "      <td>[665, 683]</td>\n",
       "      <td>1</td>\n",
       "      <td>iodine purchased the v-slicer over ten years a...</td>\n",
       "      <td>07 21, 2002</td>\n",
       "      <td>A3D0RU1URR2IOF</td>\n",
       "      <td>Daniel F. Moore</td>\n",
       "      <td>Hasn't left the counter in ten years</td>\n",
       "      <td>1027209600</td>\n",
       "    </tr>\n",
       "  </tbody>\n",
       "</table>\n",
       "</div>"
      ],
      "text/plain": [
       "              asin     helpful  overall  \\\n",
       "44007   B000079R7G     [9, 14]        0   \n",
       "126671  B000B649X2      [0, 0]        0   \n",
       "412572  B004NGVIIK      [0, 0]        1   \n",
       "131315  B000BR391E      [0, 0]        0   \n",
       "133376  B000C239I6      [0, 0]        1   \n",
       "484182  B0081JZE1W      [2, 2]        0   \n",
       "105172  B0006HUYGM    [10, 10]        1   \n",
       "125552  B000ASDCWK      [3, 3]        1   \n",
       "397462  B004918OPO      [0, 0]        1   \n",
       "34781   B0000632QE  [665, 683]        1   \n",
       "\n",
       "                                               reviewText   reviewTime  \\\n",
       "44007   iodine bought this based on early 's convinced...  05 20, 2006   \n",
       "126671  iodine had seen these in stores , and when vir...  03 19, 2006   \n",
       "412572  iodine ordered these correct along with the pr...  10 25, 2013   \n",
       "131315  this was a outstanding trade and worked ace un...  05 14, 2011   \n",
       "133376  i received this set concluding Christmas ( 201...  08 21, 2013   \n",
       "484182  the filter pictured is that of an oem dyson pr...  03 17, 2014   \n",
       "105172  i agree with the five ace commenters -- this i...  09 29, 2005   \n",
       "125552  the lone ailment iodine may have on this point...  10 20, 2006   \n",
       "397462  this hurler has saved me a package on bottled ...  07 22, 2013   \n",
       "34781   iodine purchased the v-slicer over ten years a...  07 21, 2002   \n",
       "\n",
       "            reviewerID                    reviewerName  \\\n",
       "44007    AZU2JDR2GVICQ                     Zyde \"zyde\"   \n",
       "126671  A1O3LAET0L3BHU                        Jo Gusto   \n",
       "412572   A6RGPU0H5VFTZ                 melissa baldwin   \n",
       "131315   ATJDQ137MA426                     L. Mitchell   \n",
       "133376  A24X6MADWDYX8T                         Lisa C.   \n",
       "484182  A1L1XP2KQ99BGJ                       Bassinvol   \n",
       "105172  A2O6AAW9WZ1XJB  Virginia music lover \"cossack\"   \n",
       "125552   AB0NEAUW9KJZR                         dbstyle   \n",
       "397462  A1G0RMYT6CHP66             L. Nelson \"Big Sis\"   \n",
       "34781   A3D0RU1URR2IOF                 Daniel F. Moore   \n",
       "\n",
       "                                                  summary  unixReviewTime  \n",
       "44007                              Horrible and Expensive      1148083200  \n",
       "126671  Fantastic concept... miserable battery perform...      1142726400  \n",
       "412572                                          good deal      1382659200  \n",
       "131315                              Timer Stopped Working      1305331200  \n",
       "133376                    Best set of cookware imaginable      1377043200  \n",
       "484182                     Not an OEM product as pictured      1395014400  \n",
       "105172                  Excellent product for a low price      1127952000  \n",
       "125552                                              Great      1161302400  \n",
       "397462                                            love it      1374451200  \n",
       "34781                Hasn't left the counter in ten years      1027209600  "
      ]
     },
     "execution_count": 105,
     "metadata": {},
     "output_type": "execute_result"
    }
   ],
   "source": [
    "data.head(10)"
   ]
  },
  {
   "cell_type": "code",
   "execution_count": 106,
   "metadata": {},
   "outputs": [
    {
     "data": {
      "text/plain": [
       "102664"
      ]
     },
     "execution_count": 106,
     "metadata": {},
     "output_type": "execute_result"
    }
   ],
   "source": [
    "len(data.loc[set_adversial,:])"
   ]
  },
  {
   "cell_type": "code",
   "execution_count": 107,
   "metadata": {},
   "outputs": [],
   "source": [
    "data.to_pickle(filename_adversarial_wordnet)"
   ]
  },
  {
   "cell_type": "code",
   "execution_count": 78,
   "metadata": {},
   "outputs": [],
   "source": [
    "### replace named entity and numbers]"
   ]
  },
  {
   "cell_type": "code",
   "execution_count": null,
   "metadata": {},
   "outputs": [],
   "source": []
  },
  {
   "cell_type": "code",
   "execution_count": null,
   "metadata": {},
   "outputs": [],
   "source": []
  },
  {
   "cell_type": "code",
   "execution_count": null,
   "metadata": {},
   "outputs": [],
   "source": []
  },
  {
   "cell_type": "code",
   "execution_count": null,
   "metadata": {},
   "outputs": [],
   "source": []
  },
  {
   "cell_type": "code",
   "execution_count": null,
   "metadata": {},
   "outputs": [],
   "source": []
  },
  {
   "cell_type": "code",
   "execution_count": null,
   "metadata": {},
   "outputs": [],
   "source": [
    "data = pd.read_pickle(file_name)"
   ]
  },
  {
   "cell_type": "code",
   "execution_count": 76,
   "metadata": {},
   "outputs": [
    {
     "data": {
      "text/html": [
       "<div>\n",
       "<style scoped>\n",
       "    .dataframe tbody tr th:only-of-type {\n",
       "        vertical-align: middle;\n",
       "    }\n",
       "\n",
       "    .dataframe tbody tr th {\n",
       "        vertical-align: top;\n",
       "    }\n",
       "\n",
       "    .dataframe thead th {\n",
       "        text-align: right;\n",
       "    }\n",
       "</style>\n",
       "<table border=\"1\" class=\"dataframe\">\n",
       "  <thead>\n",
       "    <tr style=\"text-align: right;\">\n",
       "      <th></th>\n",
       "      <th>overall</th>\n",
       "      <th>reviewText</th>\n",
       "    </tr>\n",
       "  </thead>\n",
       "  <tbody>\n",
       "    <tr>\n",
       "      <th>489257</th>\n",
       "      <td>1</td>\n",
       "      <td>I use this set for both general food storage i...</td>\n",
       "    </tr>\n",
       "    <tr>\n",
       "      <th>318868</th>\n",
       "      <td>0</td>\n",
       "      <td>Not a huge fan . I like to have a side for dam...</td>\n",
       "    </tr>\n",
       "    <tr>\n",
       "      <th>527578</th>\n",
       "      <td>1</td>\n",
       "      <td>I have always wanted to have a French press at...</td>\n",
       "    </tr>\n",
       "    <tr>\n",
       "      <th>102291</th>\n",
       "      <td>0</td>\n",
       "      <td>I purchased this to replace a breadmaker that ...</td>\n",
       "    </tr>\n",
       "    <tr>\n",
       "      <th>137178</th>\n",
       "      <td>0</td>\n",
       "      <td>I bought this pan because my 12 '' pan needed ...</td>\n",
       "    </tr>\n",
       "    <tr>\n",
       "      <th>233040</th>\n",
       "      <td>0</td>\n",
       "      <td>Just sayin ' . I mean , honestly . Do we reall...</td>\n",
       "    </tr>\n",
       "    <tr>\n",
       "      <th>413128</th>\n",
       "      <td>1</td>\n",
       "      <td>This rack fits the sink perfectly , and is n't...</td>\n",
       "    </tr>\n",
       "    <tr>\n",
       "      <th>149988</th>\n",
       "      <td>0</td>\n",
       "      <td>I bought one of the 20X72 inch mats for my hus...</td>\n",
       "    </tr>\n",
       "    <tr>\n",
       "      <th>18029</th>\n",
       "      <td>1</td>\n",
       "      <td>I have four different sizes of these scoops an...</td>\n",
       "    </tr>\n",
       "    <tr>\n",
       "      <th>129849</th>\n",
       "      <td>1</td>\n",
       "      <td>These replacement rubbers are perfect for use ...</td>\n",
       "    </tr>\n",
       "  </tbody>\n",
       "</table>\n",
       "</div>"
      ],
      "text/plain": [
       "        overall                                         reviewText\n",
       "489257        1  I use this set for both general food storage i...\n",
       "318868        0  Not a huge fan . I like to have a side for dam...\n",
       "527578        1  I have always wanted to have a French press at...\n",
       "102291        0  I purchased this to replace a breadmaker that ...\n",
       "137178        0  I bought this pan because my 12 '' pan needed ...\n",
       "233040        0  Just sayin ' . I mean , honestly . Do we reall...\n",
       "413128        1  This rack fits the sink perfectly , and is n't...\n",
       "149988        0  I bought one of the 20X72 inch mats for my hus...\n",
       "18029         1  I have four different sizes of these scoops an...\n",
       "129849        1  These replacement rubbers are perfect for use ..."
      ]
     },
     "execution_count": 76,
     "metadata": {},
     "output_type": "execute_result"
    }
   ],
   "source": [
    "data.head(10)"
   ]
  },
  {
   "cell_type": "code",
   "execution_count": 77,
   "metadata": {},
   "outputs": [],
   "source": [
    "data = pd.read_pickle(adversarial_file_name)"
   ]
  },
  {
   "cell_type": "code",
   "execution_count": 78,
   "metadata": {},
   "outputs": [
    {
     "data": {
      "text/html": [
       "<div>\n",
       "<style scoped>\n",
       "    .dataframe tbody tr th:only-of-type {\n",
       "        vertical-align: middle;\n",
       "    }\n",
       "\n",
       "    .dataframe tbody tr th {\n",
       "        vertical-align: top;\n",
       "    }\n",
       "\n",
       "    .dataframe thead th {\n",
       "        text-align: right;\n",
       "    }\n",
       "</style>\n",
       "<table border=\"1\" class=\"dataframe\">\n",
       "  <thead>\n",
       "    <tr style=\"text-align: right;\">\n",
       "      <th></th>\n",
       "      <th>overall</th>\n",
       "      <th>reviewText</th>\n",
       "    </tr>\n",
       "  </thead>\n",
       "  <tbody>\n",
       "    <tr>\n",
       "      <th>489257</th>\n",
       "      <td>1</td>\n",
       "      <td>I use this set for both general food storage i...</td>\n",
       "    </tr>\n",
       "    <tr>\n",
       "      <th>318868</th>\n",
       "      <td>0</td>\n",
       "      <td>Not a huge fan . I like to have a side for dam...</td>\n",
       "    </tr>\n",
       "    <tr>\n",
       "      <th>527578</th>\n",
       "      <td>1</td>\n",
       "      <td>I have always wanted to have a French press at...</td>\n",
       "    </tr>\n",
       "    <tr>\n",
       "      <th>102291</th>\n",
       "      <td>0</td>\n",
       "      <td>I purchased this to replace a breadmaker that ...</td>\n",
       "    </tr>\n",
       "    <tr>\n",
       "      <th>137178</th>\n",
       "      <td>0</td>\n",
       "      <td>I bought this pan because my 12 '' pan needed ...</td>\n",
       "    </tr>\n",
       "    <tr>\n",
       "      <th>233040</th>\n",
       "      <td>0</td>\n",
       "      <td>Just sayin ' . I mean , honestly . Do we reall...</td>\n",
       "    </tr>\n",
       "    <tr>\n",
       "      <th>413128</th>\n",
       "      <td>1</td>\n",
       "      <td>This rack fits the sink perfectly , and is n't...</td>\n",
       "    </tr>\n",
       "    <tr>\n",
       "      <th>149988</th>\n",
       "      <td>0</td>\n",
       "      <td>I bought one of the 20X72 inch mats for my hus...</td>\n",
       "    </tr>\n",
       "    <tr>\n",
       "      <th>18029</th>\n",
       "      <td>1</td>\n",
       "      <td>I have four different sizes of these scoops an...</td>\n",
       "    </tr>\n",
       "    <tr>\n",
       "      <th>129849</th>\n",
       "      <td>1</td>\n",
       "      <td>These replacement rubbers are perfect for use ...</td>\n",
       "    </tr>\n",
       "  </tbody>\n",
       "</table>\n",
       "</div>"
      ],
      "text/plain": [
       "        overall                                         reviewText\n",
       "489257        1  I use this set for both general food storage i...\n",
       "318868        0  Not a huge fan . I like to have a side for dam...\n",
       "527578        1  I have always wanted to have a French press at...\n",
       "102291        0  I purchased this to replace a breadmaker that ...\n",
       "137178        0  I bought this pan because my 12 '' pan needed ...\n",
       "233040        0  Just sayin ' . I mean , honestly . Do we reall...\n",
       "413128        1  This rack fits the sink perfectly , and is n't...\n",
       "149988        0  I bought one of the 20X72 inch mats for my hus...\n",
       "18029         1  I have four different sizes of these scoops an...\n",
       "129849        1  These replacement rubbers are perfect for use ..."
      ]
     },
     "execution_count": 78,
     "metadata": {},
     "output_type": "execute_result"
    }
   ],
   "source": [
    "data.head(10)"
   ]
  },
  {
   "cell_type": "code",
   "execution_count": 72,
   "metadata": {},
   "outputs": [
    {
     "data": {
      "text/plain": [
       "[Synset('dog.n.01'),\n",
       " Synset('frump.n.01'),\n",
       " Synset('dog.n.03'),\n",
       " Synset('cad.n.01'),\n",
       " Synset('frank.n.02'),\n",
       " Synset('pawl.n.01'),\n",
       " Synset('andiron.n.01'),\n",
       " Synset('chase.v.01')]"
      ]
     },
     "execution_count": 72,
     "metadata": {},
     "output_type": "execute_result"
    }
   ],
   "source": [
    "wn.synsets('dog') # doctest: +ELLIPSIS +NORMALIZE_WHITESPACE"
   ]
  },
  {
   "cell_type": "code",
   "execution_count": 73,
   "metadata": {},
   "outputs": [
    {
     "data": {
      "text/plain": [
       "[Synset('chase.v.01')]"
      ]
     },
     "execution_count": 73,
     "metadata": {},
     "output_type": "execute_result"
    }
   ],
   "source": [
    "wn.synsets('dog', pos=wn.VERB)"
   ]
  },
  {
   "cell_type": "code",
   "execution_count": 74,
   "metadata": {},
   "outputs": [
    {
     "data": {
      "text/plain": [
       "Synset('dog.n.01')"
      ]
     },
     "execution_count": 74,
     "metadata": {},
     "output_type": "execute_result"
    }
   ],
   "source": [
    "wn.synset('dog.n.01')"
   ]
  },
  {
   "cell_type": "code",
   "execution_count": 75,
   "metadata": {},
   "outputs": [
    {
     "name": "stdout",
     "output_type": "stream",
     "text": [
      "a member of the genus Canis (probably descended from the common wolf) that has been domesticated by man since prehistoric times; occurs in many breeds\n"
     ]
    }
   ],
   "source": [
    "print(wn.synset('dog.n.01').definition())"
   ]
  },
  {
   "cell_type": "code",
   "execution_count": 76,
   "metadata": {},
   "outputs": [
    {
     "data": {
      "text/plain": [
       "1"
      ]
     },
     "execution_count": 76,
     "metadata": {},
     "output_type": "execute_result"
    }
   ],
   "source": [
    "len(wn.synset('dog.n.01').examples())"
   ]
  },
  {
   "cell_type": "code",
   "execution_count": 77,
   "metadata": {},
   "outputs": [
    {
     "name": "stdout",
     "output_type": "stream",
     "text": [
      "the dog barked all night\n"
     ]
    }
   ],
   "source": [
    "print(wn.synset('dog.n.01').examples()[0])"
   ]
  },
  {
   "cell_type": "code",
   "execution_count": 78,
   "metadata": {},
   "outputs": [
    {
     "data": {
      "text/plain": [
       "[Lemma('dog.n.01.dog'),\n",
       " Lemma('dog.n.01.domestic_dog'),\n",
       " Lemma('dog.n.01.Canis_familiaris')]"
      ]
     },
     "execution_count": 78,
     "metadata": {},
     "output_type": "execute_result"
    }
   ],
   "source": [
    "wn.synset('dog.n.01').lemmas()"
   ]
  },
  {
   "cell_type": "code",
   "execution_count": 79,
   "metadata": {},
   "outputs": [
    {
     "data": {
      "text/plain": [
       "['dog', 'domestic_dog', 'Canis_familiaris']"
      ]
     },
     "execution_count": 79,
     "metadata": {},
     "output_type": "execute_result"
    }
   ],
   "source": [
    "[str(lemma.name()) for lemma in wn.synset('dog.n.01').lemmas()]"
   ]
  },
  {
   "cell_type": "code",
   "execution_count": 80,
   "metadata": {
    "scrolled": true
   },
   "outputs": [
    {
     "data": {
      "text/plain": [
       "Synset('dog.n.01')"
      ]
     },
     "execution_count": 80,
     "metadata": {},
     "output_type": "execute_result"
    }
   ],
   "source": [
    "wn.lemma('dog.n.01.dog').synset()"
   ]
  },
  {
   "cell_type": "code",
   "execution_count": 85,
   "metadata": {},
   "outputs": [
    {
     "name": "stdout",
     "output_type": "stream",
     "text": [
      "[nltk_data] Downloading package averaged_perceptron_tagger to\n",
      "[nltk_data]     C:\\Users\\vwslz\\AppData\\Roaming\\nltk_data...\n",
      "[nltk_data]   Unzipping taggers\\averaged_perceptron_tagger.zip.\n"
     ]
    },
    {
     "data": {
      "text/plain": [
       "True"
      ]
     },
     "execution_count": 85,
     "metadata": {},
     "output_type": "execute_result"
    }
   ],
   "source": [
    "nltk.download('averaged_perceptron_tagger')"
   ]
  },
  {
   "cell_type": "code",
   "execution_count": null,
   "metadata": {},
   "outputs": [],
   "source": [
    "data.to_pickle(adversarial_file_name)"
   ]
  }
 ],
 "metadata": {
  "kernelspec": {
   "display_name": "Python 3",
   "language": "python",
   "name": "python3"
  },
  "language_info": {
   "codemirror_mode": {
    "name": "ipython",
    "version": 3
   },
   "file_extension": ".py",
   "mimetype": "text/x-python",
   "name": "python",
   "nbconvert_exporter": "python",
   "pygments_lexer": "ipython3",
   "version": "3.5.4"
  }
 },
 "nbformat": 4,
 "nbformat_minor": 2
}
