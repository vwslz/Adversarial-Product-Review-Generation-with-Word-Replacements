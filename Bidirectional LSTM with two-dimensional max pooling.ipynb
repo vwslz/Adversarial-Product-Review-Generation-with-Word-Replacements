{
 "cells": [
  {
   "cell_type": "code",
   "execution_count": 1,
   "metadata": {},
   "outputs": [
    {
     "name": "stderr",
     "output_type": "stream",
     "text": [
      "Using TensorFlow backend.\n"
     ]
    }
   ],
   "source": [
    "import pandas as pd\n",
    "import tensorflow as tf\n",
    "import matplotlib.pyplot as plt\n",
    "import numpy as np\n",
    "import sklearn as sk\n",
    "import os\n",
    "from keras.utils import np_utils\n",
    "\n",
    "from keras.preprocessing import sequence\n",
    "from keras.models import Sequential, load_model\n",
    "from keras.layers import Dense, Dropout, Activation, Reshape, Flatten, Embedding, LSTM, Bidirectional, Conv2D, MaxPooling2D\n",
    "from keras.preprocessing.text import Tokenizer\n",
    "from sklearn.metrics import classification_report\n",
    "from keras.preprocessing.text import hashing_trick, text_to_word_sequence\n",
    "from keras.regularizers import l2\n",
    "\n",
    "from sklearn.preprocessing import OneHotEncoder\n",
    "from sklearn.model_selection import train_test_split"
   ]
  },
  {
   "cell_type": "code",
   "execution_count": 2,
   "metadata": {},
   "outputs": [],
   "source": [
    "dataname = \"rawdata_100.pkl\"\n",
    "modelname = 'BLSTM+CNN.h5'\n",
    "\n",
    "num_class = 2\n",
    "max_features = 100000\n",
    "maxlen = 100\n",
    "batch_size = 10\n",
    "epochs = 5\n",
    "\n",
    "learning_rate = 0.1\n",
    "dim_embed = 300\n",
    "num_hidden_unit_lstm = 300\n",
    "num_filter = 100\n",
    "size_batch = 10\n",
    "size_pool = 2\n",
    "size_window = 3\n",
    "dropout_embed = 0.5\n",
    "dropout_blstm = 0.2\n",
    "dropout_penultimate = 0.4\n",
    "l2_lambda = 0.00001\n",
    "\n",
    "onehot_encoder = OneHotEncoder(sparse=False)\n",
    "t = Tokenizer(num_words=max_features)"
   ]
  },
  {
   "cell_type": "code",
   "execution_count": 3,
   "metadata": {},
   "outputs": [],
   "source": [
    "def getEmbeddingMatrix(vocabulary_size):\n",
    "    embeddings_index = dict()\n",
    "    f = open('glove.6b/glove.6B.300d.txt', encoding='utf-8')\n",
    "    for line in f:\n",
    "        values = line.split()\n",
    "        word = values[0]\n",
    "        coefs = asarray(values[1:], dtype='float32')\n",
    "        embeddings_index[word] = coefs\n",
    "    f.close()\n",
    "    print('Loaded %s word vectors.' % len(embeddings_index))\n",
    "    embedding_matrix = np.zeros((vocabulary_size, dim_embed))\n",
    "    for word, i in t.word_index.items():\n",
    "        embedding_vector = embeddings_index.get(word)\n",
    "        if embedding_vector is not None:\n",
    "            embedding_matrix[i] = embedding_vector\n",
    "    return embedding_matrix"
   ]
  },
  {
   "cell_type": "markdown",
   "metadata": {},
   "source": [
    "### 2 classes(0: 1-2 star, 1: 4-5 star)"
   ]
  },
  {
   "cell_type": "code",
   "execution_count": 3,
   "metadata": {},
   "outputs": [],
   "source": [
    "def getData(filename):\n",
    "    print(\"---------------\")\n",
    "    print(\"| Getting data...\")\n",
    "    print(\"---------------\")\n",
    "    data = pd.read_pickle(filename)\n",
    "    \n",
    "    reviewTextList = data.reviewText.values\n",
    "    t.fit_on_texts(reviewTextList)\n",
    "    text = t.texts_to_sequences(reviewTextList)\n",
    "    text = sequence.pad_sequences(text, maxlen=maxlen)\n",
    "    print('text shape:', text.shape)\n",
    "    \n",
    "    data_X = np.array(text)\n",
    "    data_Y = np_utils.to_categorical(data['overall'], num_class)\n",
    "    return data_X, data_Y"
   ]
  },
  {
   "cell_type": "code",
   "execution_count": 5,
   "metadata": {},
   "outputs": [],
   "source": [
    "def splitData(x, y):\n",
    "    X_trains, X_test, Y_trains, Y_test = train_test_split(x, y, test_size=0.2, random_state=42)\n",
    "    X_train, X_validation, Y_train, Y_validation = train_test_split(X_trains, Y_trains, test_size=0.2, random_state=42)\n",
    "    return X_train, X_validation, X_test, Y_train, Y_validation, Y_test"
   ]
  },
  {
   "cell_type": "code",
   "execution_count": 6,
   "metadata": {},
   "outputs": [],
   "source": [
    "def train(containsGlove, x_train, x_validation, y_train, y_validation, embedding_matrix):\n",
    "    print(\"---------------\")\n",
    "    print(\"| Training...\")\n",
    "    print(\"---------------\")\n",
    "    \n",
    "    model = Sequential()\n",
    "#     if (containsGlove == False):\n",
    "    print(x_train.shape)\n",
    "    model.add(Embedding(input_dim=max_features, output_dim=dim_embed, input_length=maxlen))\n",
    "#     else:\n",
    "#         model.add(Embedding(input_dim=vocabulary_size, output_dim=embed_dim, input_length=maxlen, weights=[embedding_matrix], trainable=False))\n",
    "    model.add(Dropout(0.5))\n",
    "    model.add(\n",
    "        Bidirectional(\n",
    "            LSTM(\n",
    "                num_hidden_unit_lstm, \n",
    "                return_sequences=True, \n",
    "                kernel_regularizer=l2(l2_lambda)\n",
    "            ), \n",
    "            merge_mode=\"sum\"\n",
    "        ))\n",
    "    model.add(Dropout(0.2))\n",
    "    model.add(Reshape((maxlen, dim_embed, 1)))\n",
    "    model.add(Conv2D(\n",
    "        num_filter,\n",
    "        kernel_size=(size_window,size_window),\n",
    "        padding='valid',\n",
    "        activation='relu',\n",
    "        strides=1,\n",
    "        kernel_regularizer=l2(l2_lambda)))\n",
    "    model.add(MaxPooling2D(pool_size=size_pool))\n",
    "    model.add(Dropout(0.2))\n",
    "    model.add(Flatten())\n",
    "    model.add(Dense(num_class, kernel_regularizer=l2(l2_lambda)))\n",
    "    model.add(Activation('sigmoid'))\n",
    "\n",
    "    print(model.summary())\n",
    "    model.compile(\n",
    "        loss='categorical_crossentropy', \n",
    "        optimizer='Adadelta',\n",
    "        metrics=['categorical_accuracy'])\n",
    "    \n",
    "    history = model.fit(x_train, y_train,\n",
    "              batch_size=size_batch,\n",
    "              epochs=epochs,\n",
    "              validation_data=(x_validation, y_validation),)\n",
    "    \n",
    "#     plt.figure('categorical_accuracy')\n",
    "#     plt.xlabel('Iterations')\n",
    "#     plt.ylabel('Categorical Accuracy')\n",
    "#     plt.plot(history.history['categorical_accuracy'])\n",
    "#     plt.show()\n",
    "    \n",
    "    model.save(modelname)\n",
    "    del model"
   ]
  },
  {
   "cell_type": "code",
   "execution_count": 4,
   "metadata": {},
   "outputs": [],
   "source": [
    "def test(x_test, y_test):\n",
    "    print(\"---------------\")\n",
    "    print(\"| Testing...\")\n",
    "    print(\"---------------\")\n",
    "    model = load_model(modelname)\n",
    "    \n",
    "    score = model.evaluate(x_test,y_test, batch_size = size_batch)\n",
    "    print('Test loss:',score[0])\n",
    "    print('Test accuracy:',score[1])\n",
    "    \n",
    "    y_test=np.argmax(y_test,axis=1)\n",
    "    y_pred=model.predict_classes(x_test)\n",
    "    \n",
    "    print(classification_report(y_test,y_pred))"
   ]
  },
  {
   "cell_type": "markdown",
   "metadata": {},
   "source": [
    "### Run without GloVe for 5 epochs"
   ]
  },
  {
   "cell_type": "code",
   "execution_count": 8,
   "metadata": {},
   "outputs": [],
   "source": [
    "def run():\n",
    "    X,Y = getData(dataname)\n",
    "    X_train, X_validation, X_test, Y_train, Y_validation, Y_test = splitData(X, Y)\n",
    "    train(False, X_train, X_validation, Y_train, Y_validation, [])\n",
    "#     test(X_test, Y_test)"
   ]
  },
  {
   "cell_type": "code",
   "execution_count": null,
   "metadata": {},
   "outputs": [],
   "source": []
  },
  {
   "cell_type": "code",
   "execution_count": 9,
   "metadata": {
    "scrolled": false
   },
   "outputs": [
    {
     "name": "stdout",
     "output_type": "stream",
     "text": [
      "---------------\n",
      "| Getting data...\n",
      "---------------\n",
      "text shape: (102838, 100)\n",
      "---------------\n",
      "| Training...\n",
      "---------------\n",
      "(65816, 100)\n",
      "_________________________________________________________________\n",
      "Layer (type)                 Output Shape              Param #   \n",
      "=================================================================\n",
      "embedding_1 (Embedding)      (None, 100, 300)          30000000  \n",
      "_________________________________________________________________\n",
      "dropout_1 (Dropout)          (None, 100, 300)          0         \n",
      "_________________________________________________________________\n",
      "bidirectional_1 (Bidirection (None, 100, 300)          1442400   \n",
      "_________________________________________________________________\n",
      "dropout_2 (Dropout)          (None, 100, 300)          0         \n",
      "_________________________________________________________________\n",
      "reshape_1 (Reshape)          (None, 100, 300, 1)       0         \n",
      "_________________________________________________________________\n",
      "conv2d_1 (Conv2D)            (None, 98, 298, 100)      1000      \n",
      "_________________________________________________________________\n",
      "max_pooling2d_1 (MaxPooling2 (None, 49, 149, 100)      0         \n",
      "_________________________________________________________________\n",
      "dropout_3 (Dropout)          (None, 49, 149, 100)      0         \n",
      "_________________________________________________________________\n",
      "flatten_1 (Flatten)          (None, 730100)            0         \n",
      "_________________________________________________________________\n",
      "dense_1 (Dense)              (None, 2)                 1460202   \n",
      "_________________________________________________________________\n",
      "activation_1 (Activation)    (None, 2)                 0         \n",
      "=================================================================\n",
      "Total params: 32,903,602\n",
      "Trainable params: 32,903,602\n",
      "Non-trainable params: 0\n",
      "_________________________________________________________________\n",
      "None\n",
      "Train on 65816 samples, validate on 16454 samples\n",
      "Epoch 1/5\n",
      "65816/65816 [==============================] - 4531s 69ms/step - loss: 0.7010 - categorical_accuracy: 0.5205 - val_loss: 0.7007 - val_categorical_accuracy: 0.4833\n",
      "Epoch 2/5\n",
      "65816/65816 [==============================] - 6989s 106ms/step - loss: 0.6998 - categorical_accuracy: 0.4977 - val_loss: 0.6990 - val_categorical_accuracy: 0.3881\n",
      "Epoch 3/5\n",
      "65816/65816 [==============================] - 3464s 53ms/step - loss: 0.4421 - categorical_accuracy: 0.7468 - val_loss: 0.3256 - val_categorical_accuracy: 0.8710\n",
      "Epoch 4/5\n",
      "65816/65816 [==============================] - 3439s 52ms/step - loss: 0.2705 - categorical_accuracy: 0.8916 - val_loss: 0.3032 - val_categorical_accuracy: 0.9014\n",
      "Epoch 5/5\n",
      "65816/65816 [==============================] - 3456s 53ms/step - loss: 0.2400 - categorical_accuracy: 0.9087 - val_loss: 0.2461 - val_categorical_accuracy: 0.9106\n"
     ]
    }
   ],
   "source": [
    "run()"
   ]
  },
  {
   "cell_type": "code",
   "execution_count": 5,
   "metadata": {},
   "outputs": [
    {
     "name": "stdout",
     "output_type": "stream",
     "text": [
      "---------------\n",
      "| Getting data...\n",
      "---------------\n",
      "text shape: (102838, 100)\n"
     ]
    }
   ],
   "source": [
    "X,Y = getData(dataname)\n",
    "X_trains, X_test, Y_trains, Y_test = train_test_split(X, Y, test_size=0.2, random_state=42)"
   ]
  },
  {
   "cell_type": "code",
   "execution_count": 6,
   "metadata": {},
   "outputs": [
    {
     "name": "stdout",
     "output_type": "stream",
     "text": [
      "---------------\n",
      "| Testing...\n",
      "---------------\n",
      "20568/20568 [==============================] - 290s 14ms/step\n",
      "Test loss: 0.24642248967106775\n",
      "Test accuracy: 0.9070400544951186\n",
      "             precision    recall  f1-score   support\n",
      "\n",
      "          0       0.90      0.91      0.91     10330\n",
      "          1       0.91      0.90      0.91     10238\n",
      "\n",
      "avg / total       0.91      0.91      0.91     20568\n",
      "\n"
     ]
    }
   ],
   "source": [
    "# X,Y = getData(dataname)\n",
    "# X_trains, X_test, Y_trains, Y_test = train_test_split(X, Y, test_size=0.2, random_state=42)\n",
    "test(X_test, Y_test)"
   ]
  },
  {
   "cell_type": "code",
   "execution_count": 7,
   "metadata": {},
   "outputs": [],
   "source": [
    "# def continueTraining():\n",
    "#     model = load_model(modelname)\n",
    "#     model.fit(x_train, y_train,\n",
    "#               batch_size=size_batch,\n",
    "#               epochs=epochs,\n",
    "#               validation_data=(x_validation, y_validation),)    \n",
    "#     model.save(modelname)\n",
    "#     del model"
   ]
  },
  {
   "cell_type": "code",
   "execution_count": 8,
   "metadata": {},
   "outputs": [],
   "source": [
    "# test for adersasial\n",
    "filename_adv = \"data_adversial_wordnet.pkl\""
   ]
  },
  {
   "cell_type": "code",
   "execution_count": 9,
   "metadata": {},
   "outputs": [],
   "source": [
    "def newTest(filename):\n",
    "    x_newtest, y_newtest = getData(filename)\n",
    "    test(x_newtest, y_newtest)"
   ]
  },
  {
   "cell_type": "code",
   "execution_count": 8,
   "metadata": {},
   "outputs": [],
   "source": [
    "def testWithoutClassificationReport(x_test, y_test):\n",
    "    print(\"---------------\")\n",
    "    print(\"| Testing...\")\n",
    "    print(\"---------------\")\n",
    "    model = load_model(modelname)\n",
    "    \n",
    "    score = model.evaluate(x_test,y_test, batch_size = size_batch)\n",
    "    print('Test loss:',score[0])\n",
    "    print('Test accuracy:',score[1])"
   ]
  },
  {
   "cell_type": "code",
   "execution_count": 9,
   "metadata": {},
   "outputs": [],
   "source": [
    "def newTestWithoutClassificationReport(filename):\n",
    "    x_newtest, y_newtest = getData(filename)\n",
    "    testWithoutClassificationReport(x_newtest, y_newtest)"
   ]
  },
  {
   "cell_type": "code",
   "execution_count": 10,
   "metadata": {},
   "outputs": [
    {
     "name": "stdout",
     "output_type": "stream",
     "text": [
      "---------------\n",
      "| Getting data...\n",
      "---------------\n",
      "text shape: (102664, 100)\n",
      "---------------\n",
      "| Testing...\n",
      "---------------\n",
      "102664/102664 [==============================] - 1481s 14ms/step\n",
      "Test loss: 0.9573833066646437\n",
      "Test accuracy: 0.48363594531819604\n"
     ]
    }
   ],
   "source": [
    "filename_adv = \"data_adversial_wordnet.pkl\"\n",
    "newTestWithoutClassificationReport(filename_adv)"
   ]
  },
  {
   "cell_type": "code",
   "execution_count": null,
   "metadata": {},
   "outputs": [],
   "source": []
  }
 ],
 "metadata": {
  "kernelspec": {
   "display_name": "Python 3",
   "language": "python",
   "name": "python3"
  },
  "language_info": {
   "codemirror_mode": {
    "name": "ipython",
    "version": 3
   },
   "file_extension": ".py",
   "mimetype": "text/x-python",
   "name": "python",
   "nbconvert_exporter": "python",
   "pygments_lexer": "ipython3",
   "version": "3.5.4"
  }
 },
 "nbformat": 4,
 "nbformat_minor": 2
}
