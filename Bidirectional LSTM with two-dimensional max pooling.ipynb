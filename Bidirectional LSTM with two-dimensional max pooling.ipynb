{
 "cells": [
  {
   "cell_type": "code",
   "execution_count": 2,
   "metadata": {},
   "outputs": [],
   "source": [
    "import pandas as pd\n",
    "import tensorflow as tf\n",
    "import matplotlib.pyplot as plt\n",
    "import numpy as np\n",
    "import sklearn as sk\n",
    "import os\n",
    "\n",
    "from numpy import asarray\n",
    "\n",
    "from keras.utils import np_utils\n",
    "from keras.preprocessing import sequence\n",
    "from keras.models import Sequential, load_model\n",
    "from keras.layers import Dense, Dropout, Activation, Reshape, Flatten, Embedding, LSTM, Bidirectional, Conv2D, MaxPooling2D\n",
    "from keras.preprocessing.text import Tokenizer\n",
    "from sklearn.metrics import classification_report\n",
    "from keras.preprocessing.text import hashing_trick, text_to_word_sequence\n",
    "from keras.regularizers import l2\n",
    "\n",
    "from sklearn.preprocessing import OneHotEncoder\n",
    "from sklearn.model_selection import train_test_split"
   ]
  },
  {
   "cell_type": "code",
   "execution_count": 3,
   "metadata": {},
   "outputs": [],
   "source": [
    "mixeddataname = \"mixed.pkl\"\n",
    "modelname = 'BLSTM+CNN.h5'\n",
    "num_adv = 20568\n",
    "\n",
    "num_class = 2\n",
    "max_features = 100000\n",
    "maxlen = 100\n",
    "batch_size = 10\n",
    "epochs = 5\n",
    "\n",
    "learning_rate = 0.1\n",
    "dim_embed = 300\n",
    "num_hidden_unit_lstm = 300\n",
    "num_filter = 100\n",
    "size_batch = 10\n",
    "size_pool = 2\n",
    "size_window = 3\n",
    "dropout_embed = 0.5\n",
    "dropout_blstm = 0.2\n",
    "dropout_penultimate = 0.4\n",
    "l2_lambda = 0.00001\n",
    "\n",
    "onehot_encoder = OneHotEncoder(sparse=False)\n",
    "t = Tokenizer()\n",
    "# t = Tokenizer(filters='!\"#$%&()*+,-./:;<=>?@[\\\\]^_`{|}~\\t\\n\\'', lower=True)"
   ]
  },
  {
   "cell_type": "code",
   "execution_count": 4,
   "metadata": {},
   "outputs": [],
   "source": [
    "def getEmbeddingMatrix(vocabulary_size):\n",
    "    embeddings_index = dict()\n",
    "    f = open('glove.6b/glove.6B.300d.txt', encoding='utf-8')\n",
    "    for line in f:\n",
    "        values = line.split()\n",
    "        word = values[0]\n",
    "        coefs = asarray(values[1:], dtype='float32')\n",
    "        embeddings_index[word] = coefs\n",
    "    f.close()\n",
    "    print('Loaded %s word vectors.' % len(embeddings_index))\n",
    "    embedding_matrix = np.zeros((vocabulary_size + 1, dim_embed))\n",
    "    for word, i in t.word_index.items():\n",
    "        embedding_vector = embeddings_index.get(word)\n",
    "        if embedding_vector is not None:\n",
    "            embedding_matrix[i] = embedding_vector\n",
    "    return embedding_matrix"
   ]
  },
  {
   "cell_type": "markdown",
   "metadata": {},
   "source": [
    "### 2 classes(0: 1-2 star, 1: 4-5 star)"
   ]
  },
  {
   "cell_type": "code",
   "execution_count": 5,
   "metadata": {},
   "outputs": [],
   "source": [
    "def getData(filename):\n",
    "    print(\"---------------\")\n",
    "    print(\"| Getting data...\")\n",
    "    print(\"---------------\")\n",
    "    data = pd.read_pickle(filename)\n",
    "    \n",
    "    reviewTextList = data.reviewText.values\n",
    "    t.fit_on_texts(reviewTextList)\n",
    "    text = t.texts_to_sequences(reviewTextList)\n",
    "    text = sequence.pad_sequences(text, maxlen=maxlen)\n",
    "    print('text shape:', text.shape)\n",
    "    \n",
    "    data_X = np.array(text)\n",
    "    X = data_X[0: data_X.shape[0] - 4 * num_adv - 1]\n",
    "    X_adv = data_X[data_X.shape[0] - 4 * num_adv -1: data_X.shape[0] - 3 * num_adv -1]\n",
    "    X_adv1 = data_X[data_X.shape[0] - 3 * num_adv -1: data_X.shape[0] - 2 * num_adv -1]\n",
    "    X_adv2 = data_X[data_X.shape[0] - 2 * num_adv -1: data_X.shape[0] - num_adv -1]\n",
    "    X_adv3 = data_X[data_X.shape[0] - num_adv -1: -1]\n",
    "    \n",
    "    data_Y = np_utils.to_categorical(data['overall'], num_class)\n",
    "    Y = data_Y[0: data_X.shape[0] - 4 * num_adv - 1]\n",
    "    Y_adv = data_Y[data_X.shape[0] - 4 * num_adv -1: data_X.shape[0] - 3 * num_adv -1]\n",
    "    Y_adv1 = data_Y[data_X.shape[0] - 3 * num_adv -1: data_X.shape[0] - 2 * num_adv -1]\n",
    "    Y_adv2 = data_Y[data_X.shape[0] - 2 * num_adv -1: data_X.shape[0] - num_adv -1]\n",
    "    Y_adv3 = data_Y[data_X.shape[0] - num_adv -1: -1]\n",
    "    \n",
    "    return X, Y, X_adv, Y_adv, X_adv1, Y_adv1, X_adv2, Y_adv2, X_adv3, Y_adv3, len(t.word_index)"
   ]
  },
  {
   "cell_type": "code",
   "execution_count": 6,
   "metadata": {},
   "outputs": [],
   "source": [
    "def splitData(x, y):\n",
    "    X_trains, X_test, Y_trains, Y_test = train_test_split(x, y, test_size=0.2, random_state=42)\n",
    "    X_train, X_validation, Y_train, Y_validation = train_test_split(X_trains, Y_trains, test_size=0.2, random_state=42)\n",
    "    return X_train, X_validation, X_test, Y_train, Y_validation, Y_test"
   ]
  },
  {
   "cell_type": "code",
   "execution_count": 7,
   "metadata": {},
   "outputs": [],
   "source": [
    "def train(containsGlove, x_train, x_validation, y_train, y_validation, dim_input, embedding_matrix):\n",
    "    print(\"---------------\")\n",
    "    print(\"| Training...\")\n",
    "    print(\"---------------\")\n",
    "    \n",
    "    model = Sequential()\n",
    "    if (containsGlove == False):\n",
    "        model.add(Embedding(input_dim=dim_input, output_dim=dim_embed, input_length=maxlen))\n",
    "    else:\n",
    "        model.add(Embedding(input_dim=dim_input + 1, output_dim=dim_embed, input_length=maxlen, weights=[embedding_matrix], trainable=False))\n",
    "    model.add(Dropout(0.5))\n",
    "    model.add(\n",
    "        Bidirectional(\n",
    "            LSTM(\n",
    "                num_hidden_unit_lstm, \n",
    "                return_sequences=True, \n",
    "                kernel_regularizer=l2(l2_lambda)\n",
    "            ), \n",
    "            merge_mode=\"sum\"\n",
    "        ))\n",
    "    model.add(Dropout(0.2))\n",
    "    model.add(Reshape((maxlen, dim_embed, 1)))\n",
    "    model.add(Conv2D(\n",
    "        num_filter,\n",
    "        kernel_size=(size_window,size_window),\n",
    "        padding='valid',\n",
    "        activation='relu',\n",
    "        strides=1,\n",
    "        kernel_regularizer=l2(l2_lambda)))\n",
    "    model.add(MaxPooling2D(pool_size=size_pool))\n",
    "    model.add(Dropout(0.2))\n",
    "    model.add(Flatten())\n",
    "    model.add(Dense(num_class, kernel_regularizer=l2(l2_lambda)))\n",
    "    model.add(Activation('sigmoid'))\n",
    "\n",
    "    print(model.summary())\n",
    "    model.compile(\n",
    "        loss='categorical_crossentropy', \n",
    "        optimizer='Adadelta',\n",
    "        metrics=['categorical_accuracy'])\n",
    "    \n",
    "    history = model.fit(x_train, y_train,\n",
    "              batch_size=size_batch,\n",
    "              epochs=epochs,\n",
    "              validation_data=(x_validation, y_validation),)\n",
    "    \n",
    "#     plt.figure('categorical_accuracy')\n",
    "#     plt.xlabel('Iterations')\n",
    "#     plt.ylabel('Categorical Accuracy')\n",
    "#     plt.plot(history.history['categorical_accuracy'])\n",
    "#     plt.show()\n",
    "    \n",
    "    model.save(modelname)\n",
    "    del model"
   ]
  },
  {
   "cell_type": "code",
   "execution_count": 8,
   "metadata": {},
   "outputs": [],
   "source": [
    "def test(x_test, y_test):\n",
    "    print(\"---------------\")\n",
    "    print(\"| Testing...\")\n",
    "    print(\"---------------\")\n",
    "    model = load_model(modelname)\n",
    "    \n",
    "    score = model.evaluate(x_test,y_test, batch_size = size_batch)\n",
    "    print('Test loss:',score[0])\n",
    "    print('Test accuracy:',score[1])\n",
    "    \n",
    "    y_test=np.argmax(y_test,axis=1)\n",
    "    y_pred=model.predict_classes(x_test)\n",
    "    \n",
    "    print(classification_report(y_test,y_pred))"
   ]
  },
  {
   "cell_type": "markdown",
   "metadata": {},
   "source": [
    "### Test with Adversasial Dataset"
   ]
  },
  {
   "cell_type": "code",
   "execution_count": 8,
   "metadata": {},
   "outputs": [
    {
     "name": "stdout",
     "output_type": "stream",
     "text": [
      "---------------\n",
      "| Getting data...\n",
      "---------------\n",
      "text shape: (185110, 100)\n"
     ]
    }
   ],
   "source": [
    "# def run():\n",
    "X, Y, X_adv, Y_adv, X_adv1, Y_adv1, X_adv2, Y_adv2, X_adv3, Y_adv3, dim_input = getData(mixeddataname)\n",
    "X_train, X_validation, X_test, Y_train, Y_validation, Y_test = splitData(X, Y)"
   ]
  },
  {
   "cell_type": "code",
   "execution_count": 9,
   "metadata": {},
   "outputs": [
    {
     "name": "stdout",
     "output_type": "stream",
     "text": [
      "Loaded 400000 word vectors.\n"
     ]
    }
   ],
   "source": [
    "embeddingMatrix = getEmbeddingMatrix(dim_input)"
   ]
  },
  {
   "cell_type": "code",
   "execution_count": 10,
   "metadata": {
    "scrolled": false
   },
   "outputs": [
    {
     "name": "stdout",
     "output_type": "stream",
     "text": [
      "---------------\n",
      "| Training...\n",
      "---------------\n",
      "_________________________________________________________________\n",
      "Layer (type)                 Output Shape              Param #   \n",
      "=================================================================\n",
      "embedding_1 (Embedding)      (None, 100, 300)          27510600  \n",
      "_________________________________________________________________\n",
      "dropout_1 (Dropout)          (None, 100, 300)          0         \n",
      "_________________________________________________________________\n",
      "bidirectional_1 (Bidirection (None, 100, 300)          1442400   \n",
      "_________________________________________________________________\n",
      "dropout_2 (Dropout)          (None, 100, 300)          0         \n",
      "_________________________________________________________________\n",
      "reshape_1 (Reshape)          (None, 100, 300, 1)       0         \n",
      "_________________________________________________________________\n",
      "conv2d_1 (Conv2D)            (None, 98, 298, 100)      1000      \n",
      "_________________________________________________________________\n",
      "max_pooling2d_1 (MaxPooling2 (None, 49, 149, 100)      0         \n",
      "_________________________________________________________________\n",
      "dropout_3 (Dropout)          (None, 49, 149, 100)      0         \n",
      "_________________________________________________________________\n",
      "flatten_1 (Flatten)          (None, 730100)            0         \n",
      "_________________________________________________________________\n",
      "dense_1 (Dense)              (None, 2)                 1460202   \n",
      "_________________________________________________________________\n",
      "activation_1 (Activation)    (None, 2)                 0         \n",
      "=================================================================\n",
      "Total params: 30,414,202\n",
      "Trainable params: 2,903,602\n",
      "Non-trainable params: 27,510,600\n",
      "_________________________________________________________________\n",
      "None\n",
      "Train on 65815 samples, validate on 16454 samples\n",
      "Epoch 1/5\n",
      "65815/65815 [==============================] - 2738s 42ms/step - loss: 0.4330 - categorical_accuracy: 0.8003 - val_loss: 0.3754 - val_categorical_accuracy: 0.8563\n",
      "Epoch 2/5\n",
      "65815/65815 [==============================] - 2717s 41ms/step - loss: 0.3278 - categorical_accuracy: 0.8683 - val_loss: 0.3844 - val_categorical_accuracy: 0.8846\n",
      "Epoch 3/5\n",
      "65815/65815 [==============================] - 2693s 41ms/step - loss: 0.3021 - categorical_accuracy: 0.8846 - val_loss: 0.3917 - val_categorical_accuracy: 0.8961\n",
      "Epoch 4/5\n",
      "65815/65815 [==============================] - 2692s 41ms/step - loss: 0.2864 - categorical_accuracy: 0.8953 - val_loss: 0.3441 - val_categorical_accuracy: 0.9018\n",
      "Epoch 5/5\n",
      "65815/65815 [==============================] - 2692s 41ms/step - loss: 0.2777 - categorical_accuracy: 0.9021 - val_loss: 0.3844 - val_categorical_accuracy: 0.9022\n"
     ]
    }
   ],
   "source": [
    "train(True, X_train, X_validation, Y_train, Y_validation, dim_input, embeddingMatrix) "
   ]
  },
  {
   "cell_type": "code",
   "execution_count": 11,
   "metadata": {},
   "outputs": [
    {
     "name": "stdout",
     "output_type": "stream",
     "text": [
      "---------------\n",
      "| Testing...\n",
      "---------------\n",
      "20568/20568 [==============================] - 274s 13ms/step\n",
      "Test loss: 0.38248311260078305\n",
      "Test accuracy: 0.9025184681145703\n",
      "             precision    recall  f1-score   support\n",
      "\n",
      "          0       0.91      0.90      0.90     10321\n",
      "          1       0.90      0.91      0.90     10247\n",
      "\n",
      "avg / total       0.90      0.90      0.90     20568\n",
      "\n"
     ]
    }
   ],
   "source": [
    "test(X_test, Y_test)"
   ]
  },
  {
   "cell_type": "code",
   "execution_count": 9,
   "metadata": {},
   "outputs": [
    {
     "name": "stdout",
     "output_type": "stream",
     "text": [
      "---------------\n",
      "| Testing...\n",
      "---------------\n",
      "20568/20568 [==============================] - 281s 14ms/step\n",
      "Test loss: 0.5099321414511151\n",
      "Test accuracy: 0.8364935774299617\n",
      "             precision    recall  f1-score   support\n",
      "\n",
      "          0       0.80      0.91      0.85     10364\n",
      "          1       0.89      0.76      0.82     10204\n",
      "\n",
      "avg / total       0.84      0.84      0.84     20568\n",
      "\n"
     ]
    }
   ],
   "source": [
    "test(X_adv, Y_adv)"
   ]
  },
  {
   "cell_type": "code",
   "execution_count": 10,
   "metadata": {
    "scrolled": false
   },
   "outputs": [
    {
     "name": "stdout",
     "output_type": "stream",
     "text": [
      "---------------\n",
      "| Testing...\n",
      "---------------\n",
      "20568/20568 [==============================] - 274s 13ms/step\n",
      "Test loss: 0.38860158811065065\n",
      "Test accuracy: 0.9063107664716795\n",
      "             precision    recall  f1-score   support\n",
      "\n",
      "          0       0.91      0.90      0.91     10363\n",
      "          1       0.90      0.91      0.91     10205\n",
      "\n",
      "avg / total       0.91      0.91      0.91     20568\n",
      "\n"
     ]
    }
   ],
   "source": [
    "test(X_adv1, Y_adv1)"
   ]
  },
  {
   "cell_type": "code",
   "execution_count": 11,
   "metadata": {},
   "outputs": [
    {
     "name": "stdout",
     "output_type": "stream",
     "text": [
      "---------------\n",
      "| Testing...\n",
      "---------------\n",
      "20568/20568 [==============================] - 275s 13ms/step\n",
      "Test loss: 0.4123528675983639\n",
      "Test accuracy: 0.8978996425635246\n",
      "             precision    recall  f1-score   support\n",
      "\n",
      "          0       0.89      0.90      0.90     10363\n",
      "          1       0.90      0.89      0.90     10205\n",
      "\n",
      "avg / total       0.90      0.90      0.90     20568\n",
      "\n"
     ]
    }
   ],
   "source": [
    "test(X_adv2, Y_adv2)"
   ]
  },
  {
   "cell_type": "code",
   "execution_count": 8,
   "metadata": {},
   "outputs": [
    {
     "name": "stdout",
     "output_type": "stream",
     "text": [
      "---------------\n",
      "| Getting data...\n",
      "---------------\n",
      "text shape: (185110, 100)\n"
     ]
    }
   ],
   "source": [
    "X, Y, X_adv, Y_adv, X_adv1, Y_adv1, X_adv2, Y_adv2, X_adv3, Y_adv3, dim_input = getData(mixeddataname)"
   ]
  },
  {
   "cell_type": "code",
   "execution_count": 9,
   "metadata": {},
   "outputs": [
    {
     "name": "stdout",
     "output_type": "stream",
     "text": [
      "---------------\n",
      "| Testing...\n",
      "---------------\n",
      "20568/20568 [==============================] - 267s 13ms/step\n",
      "Test loss: 0.43893659002542823\n",
      "Test accuracy: 0.8863768891972218\n",
      "             precision    recall  f1-score   support\n",
      "\n",
      "          0       0.87      0.90      0.89     10363\n",
      "          1       0.90      0.87      0.88     10205\n",
      "\n",
      "avg / total       0.89      0.89      0.89     20568\n",
      "\n"
     ]
    }
   ],
   "source": [
    "test(X_adv3, Y_adv3)"
   ]
  },
  {
   "cell_type": "markdown",
   "metadata": {},
   "source": [
    "### Without Glove"
   ]
  },
  {
   "cell_type": "code",
   "execution_count": 8,
   "metadata": {},
   "outputs": [],
   "source": [
    "modelname = 'BLSTM+CNNWithG.h5'"
   ]
  },
  {
   "cell_type": "code",
   "execution_count": 9,
   "metadata": {},
   "outputs": [
    {
     "name": "stdout",
     "output_type": "stream",
     "text": [
      "---------------\n",
      "| Getting data...\n",
      "---------------\n",
      "text shape: (185110, 100)\n"
     ]
    }
   ],
   "source": [
    "X, Y, X_adv, Y_adv, X_adv1, Y_adv1, X_adv2, Y_adv2, X_adv3, Y_adv3, dim_input = getData(mixeddataname)\n",
    "X_train, X_validation, X_test, Y_train, Y_validation, Y_test = splitData(X, Y)"
   ]
  },
  {
   "cell_type": "code",
   "execution_count": 10,
   "metadata": {
    "scrolled": false
   },
   "outputs": [
    {
     "name": "stdout",
     "output_type": "stream",
     "text": [
      "---------------\n",
      "| Training...\n",
      "---------------\n",
      "_________________________________________________________________\n",
      "Layer (type)                 Output Shape              Param #   \n",
      "=================================================================\n",
      "embedding_1 (Embedding)      (None, 100, 300)          27510300  \n",
      "_________________________________________________________________\n",
      "dropout_1 (Dropout)          (None, 100, 300)          0         \n",
      "_________________________________________________________________\n",
      "bidirectional_1 (Bidirection (None, 100, 300)          1442400   \n",
      "_________________________________________________________________\n",
      "dropout_2 (Dropout)          (None, 100, 300)          0         \n",
      "_________________________________________________________________\n",
      "reshape_1 (Reshape)          (None, 100, 300, 1)       0         \n",
      "_________________________________________________________________\n",
      "conv2d_1 (Conv2D)            (None, 98, 298, 100)      1000      \n",
      "_________________________________________________________________\n",
      "max_pooling2d_1 (MaxPooling2 (None, 49, 149, 100)      0         \n",
      "_________________________________________________________________\n",
      "dropout_3 (Dropout)          (None, 49, 149, 100)      0         \n",
      "_________________________________________________________________\n",
      "flatten_1 (Flatten)          (None, 730100)            0         \n",
      "_________________________________________________________________\n",
      "dense_1 (Dense)              (None, 2)                 1460202   \n",
      "_________________________________________________________________\n",
      "activation_1 (Activation)    (None, 2)                 0         \n",
      "=================================================================\n",
      "Total params: 30,413,902\n",
      "Trainable params: 30,413,902\n",
      "Non-trainable params: 0\n",
      "_________________________________________________________________\n",
      "None\n",
      "Train on 65815 samples, validate on 16454 samples\n",
      "Epoch 1/5\n",
      "65815/65815 [==============================] - 4674s 71ms/step - loss: 0.3670 - categorical_accuracy: 0.8355 - val_loss: 0.2954 - val_categorical_accuracy: 0.8770\n",
      "Epoch 2/5\n",
      "65815/65815 [==============================] - 3777s 57ms/step - loss: 0.2633 - categorical_accuracy: 0.8962 - val_loss: 0.2768 - val_categorical_accuracy: 0.9000\n",
      "Epoch 3/5\n",
      "65815/65815 [==============================] - 3328s 51ms/step - loss: 0.2355 - categorical_accuracy: 0.9116 - val_loss: 0.2631 - val_categorical_accuracy: 0.9077\n",
      "Epoch 4/5\n",
      "65815/65815 [==============================] - 3322s 50ms/step - loss: 0.2155 - categorical_accuracy: 0.9216 - val_loss: 0.2542 - val_categorical_accuracy: 0.9081\n",
      "Epoch 5/5\n",
      "65815/65815 [==============================] - 3303s 50ms/step - loss: 0.1976 - categorical_accuracy: 0.9302 - val_loss: 0.2793 - val_categorical_accuracy: 0.9040\n"
     ]
    }
   ],
   "source": [
    "train(False, X_train, X_validation, Y_train, Y_validation, dim_input, []) "
   ]
  },
  {
   "cell_type": "code",
   "execution_count": 10,
   "metadata": {},
   "outputs": [
    {
     "name": "stdout",
     "output_type": "stream",
     "text": [
      "---------------\n",
      "| Testing...\n",
      "---------------\n",
      "20568/20568 [==============================] - 272s 13ms/step\n",
      "Test loss: 0.2754522282242607\n",
      "Test accuracy: 0.9065538628214485\n",
      "             precision    recall  f1-score   support\n",
      "\n",
      "          0       0.87      0.95      0.91     10321\n",
      "          1       0.95      0.86      0.90     10247\n",
      "\n",
      "avg / total       0.91      0.91      0.91     20568\n",
      "\n"
     ]
    }
   ],
   "source": [
    "test(X_test, Y_test)"
   ]
  },
  {
   "cell_type": "code",
   "execution_count": 10,
   "metadata": {
    "scrolled": true
   },
   "outputs": [
    {
     "name": "stdout",
     "output_type": "stream",
     "text": [
      "---------------\n",
      "| Testing...\n",
      "---------------\n",
      "20568/20568 [==============================] - 276s 13ms/step\n",
      "Test loss: 0.43349540734954123\n",
      "Test accuracy: 0.8038700861499172\n",
      "             precision    recall  f1-score   support\n",
      "\n",
      "          0       0.73      0.97      0.83     10364\n",
      "          1       0.95      0.64      0.76     10204\n",
      "\n",
      "avg / total       0.84      0.80      0.80     20568\n",
      "\n"
     ]
    }
   ],
   "source": [
    "test(X_adv, Y_adv)"
   ]
  },
  {
   "cell_type": "code",
   "execution_count": 10,
   "metadata": {},
   "outputs": [
    {
     "name": "stdout",
     "output_type": "stream",
     "text": [
      "---------------\n",
      "| Testing...\n",
      "---------------\n",
      "20568/20568 [==============================] - 268s 13ms/step\n",
      "Test loss: 0.27508308078140276\n",
      "Test accuracy: 0.9106378763166442\n",
      "             precision    recall  f1-score   support\n",
      "\n",
      "          0       0.87      0.96      0.92     10363\n",
      "          1       0.95      0.86      0.91     10205\n",
      "\n",
      "avg / total       0.91      0.91      0.91     20568\n",
      "\n"
     ]
    }
   ],
   "source": [
    "test(X_adv1, Y_adv1)"
   ]
  },
  {
   "cell_type": "code",
   "execution_count": 10,
   "metadata": {},
   "outputs": [
    {
     "name": "stdout",
     "output_type": "stream",
     "text": [
      "---------------\n",
      "| Testing...\n",
      "---------------\n",
      "20568/20568 [==============================] - 289s 14ms/step\n",
      "Test loss: 0.3039883074449547\n",
      "Test accuracy: 0.8956631585486154\n",
      "             precision    recall  f1-score   support\n",
      "\n",
      "          0       0.85      0.96      0.90     10363\n",
      "          1       0.95      0.83      0.89     10205\n",
      "\n",
      "avg / total       0.90      0.90      0.90     20568\n",
      "\n"
     ]
    }
   ],
   "source": [
    "test(X_adv2, Y_adv2)"
   ]
  },
  {
   "cell_type": "code",
   "execution_count": 10,
   "metadata": {},
   "outputs": [
    {
     "name": "stdout",
     "output_type": "stream",
     "text": [
      "---------------\n",
      "| Testing...\n",
      "---------------\n",
      "20568/20568 [==============================] - 277s 13ms/step\n",
      "Test loss: 0.336660547578256\n",
      "Test accuracy: 0.877722668811789\n",
      "             precision    recall  f1-score   support\n",
      "\n",
      "          0       0.83      0.96      0.89     10363\n",
      "          1       0.95      0.79      0.87     10205\n",
      "\n",
      "avg / total       0.89      0.88      0.88     20568\n",
      "\n"
     ]
    }
   ],
   "source": [
    "test(X_adv3, Y_adv3)"
   ]
  },
  {
   "cell_type": "markdown",
   "metadata": {},
   "source": [
    "### Adversarial Test"
   ]
  },
  {
   "cell_type": "code",
   "execution_count": 8,
   "metadata": {},
   "outputs": [],
   "source": [
    "modelname = 'BLSTM+CNN_AdvTrain.h5'\n",
    "mixeddataname = \"adversarialTest.pkl\""
   ]
  },
  {
   "cell_type": "code",
   "execution_count": 9,
   "metadata": {},
   "outputs": [],
   "source": [
    "def getDataAdvTrain(filename):\n",
    "    print(\"---------------\")\n",
    "    print(\"| Getting data...\")\n",
    "    print(\"---------------\")\n",
    "    data = pd.read_pickle(filename)\n",
    "    \n",
    "    reviewTextList = data.reviewText.values\n",
    "    t.fit_on_texts(reviewTextList)\n",
    "    text = t.texts_to_sequences(reviewTextList)\n",
    "    text = sequence.pad_sequences(text, maxlen=maxlen)\n",
    "    print('text shape:', text.shape)\n",
    "    \n",
    "    data_X = np.array(text)\n",
    "    X = data_X[0: data_X.shape[0] - 5 * num_adv - 1]\n",
    "    X_test = data_X[data_X.shape[0] - 5 * num_adv -1: data_X.shape[0] - 4 * num_adv -1]\n",
    "    X_adv = data_X[data_X.shape[0] - 4 * num_adv -1: data_X.shape[0] - 3 * num_adv -1]\n",
    "    X_adv1 = data_X[data_X.shape[0] - 3 * num_adv -1: data_X.shape[0] - 2 * num_adv -1]\n",
    "    X_adv2 = data_X[data_X.shape[0] - 2 * num_adv -1: data_X.shape[0] - num_adv -1]\n",
    "    X_adv3 = data_X[data_X.shape[0] - num_adv -1: -1]\n",
    "    \n",
    "    data_Y = np_utils.to_categorical(data['overall'], num_class)\n",
    "    Y = data_Y[0: data_X.shape[0] - 5 * num_adv - 1]\n",
    "    Y_test = data_Y[data_X.shape[0] - 5 * num_adv -1: data_X.shape[0] - 4 * num_adv -1]\n",
    "    Y_adv = data_Y[data_X.shape[0] - 4 * num_adv -1: data_X.shape[0] - 3 * num_adv -1]\n",
    "    Y_adv1 = data_Y[data_X.shape[0] - 3 * num_adv -1: data_X.shape[0] - 2 * num_adv -1]\n",
    "    Y_adv2 = data_Y[data_X.shape[0] - 2 * num_adv -1: data_X.shape[0] - num_adv -1]\n",
    "    Y_adv3 = data_Y[data_X.shape[0] - num_adv -1: -1]\n",
    "    \n",
    "    return X, Y, X_test, Y_test, X_adv, Y_adv, X_adv1, Y_adv1, X_adv2, Y_adv2, X_adv3, Y_adv3, len(t.word_index)"
   ]
  },
  {
   "cell_type": "code",
   "execution_count": 12,
   "metadata": {},
   "outputs": [
    {
     "name": "stdout",
     "output_type": "stream",
     "text": [
      "---------------\n",
      "| Getting data...\n",
      "---------------\n",
      "text shape: (267380, 100)\n"
     ]
    }
   ],
   "source": [
    "X, Y, X_test, Y_test, X_adv, Y_adv, X_adv1, Y_adv1, X_adv2, Y_adv2, X_adv3, Y_adv3, dim_input = getDataAdvTrain(mixeddataname)\n",
    "X_train, X_validation, Y_train, Y_validation = X_train, X_validation, Y_train, Y_validation = train_test_split(X, Y, test_size=0.2, random_state=42)"
   ]
  },
  {
   "cell_type": "code",
   "execution_count": 13,
   "metadata": {},
   "outputs": [
    {
     "name": "stdout",
     "output_type": "stream",
     "text": [
      "Loaded 400000 word vectors.\n"
     ]
    }
   ],
   "source": [
    "embeddingMatrix = getEmbeddingMatrix(dim_input)"
   ]
  },
  {
   "cell_type": "code",
   "execution_count": 14,
   "metadata": {},
   "outputs": [
    {
     "name": "stdout",
     "output_type": "stream",
     "text": [
      "164539\n",
      "20568\n",
      "20568\n",
      "20568\n",
      "20568\n",
      "20568\n"
     ]
    }
   ],
   "source": [
    "print(len(X))\n",
    "print(len(X_test))\n",
    "print(len(X_adv))\n",
    "print(len(X_adv1))\n",
    "print(len(X_adv2))\n",
    "print(len(X_adv3))"
   ]
  },
  {
   "cell_type": "code",
   "execution_count": 15,
   "metadata": {},
   "outputs": [
    {
     "name": "stdout",
     "output_type": "stream",
     "text": [
      "---------------\n",
      "| Training...\n",
      "---------------\n",
      "_________________________________________________________________\n",
      "Layer (type)                 Output Shape              Param #   \n",
      "=================================================================\n",
      "embedding_1 (Embedding)      (None, 100, 300)          32454300  \n",
      "_________________________________________________________________\n",
      "dropout_1 (Dropout)          (None, 100, 300)          0         \n",
      "_________________________________________________________________\n",
      "bidirectional_1 (Bidirection (None, 100, 300)          1442400   \n",
      "_________________________________________________________________\n",
      "dropout_2 (Dropout)          (None, 100, 300)          0         \n",
      "_________________________________________________________________\n",
      "reshape_1 (Reshape)          (None, 100, 300, 1)       0         \n",
      "_________________________________________________________________\n",
      "conv2d_1 (Conv2D)            (None, 98, 298, 100)      1000      \n",
      "_________________________________________________________________\n",
      "max_pooling2d_1 (MaxPooling2 (None, 49, 149, 100)      0         \n",
      "_________________________________________________________________\n",
      "dropout_3 (Dropout)          (None, 49, 149, 100)      0         \n",
      "_________________________________________________________________\n",
      "flatten_1 (Flatten)          (None, 730100)            0         \n",
      "_________________________________________________________________\n",
      "dense_1 (Dense)              (None, 2)                 1460202   \n",
      "_________________________________________________________________\n",
      "activation_1 (Activation)    (None, 2)                 0         \n",
      "=================================================================\n",
      "Total params: 35,357,902\n",
      "Trainable params: 2,903,602\n",
      "Non-trainable params: 32,454,300\n",
      "_________________________________________________________________\n",
      "None\n",
      "Train on 131631 samples, validate on 32908 samples\n",
      "Epoch 1/5\n",
      "131631/131631 [==============================] - 5596s 43ms/step - loss: 0.4276 - categorical_accuracy: 0.8103 - val_loss: 0.4766 - val_categorical_accuracy: 0.8632\n",
      "Epoch 2/5\n",
      "131631/131631 [==============================] - 5511s 42ms/step - loss: 0.3484 - categorical_accuracy: 0.8637 - val_loss: 0.4140 - val_categorical_accuracy: 0.8768\n",
      "Epoch 3/5\n",
      "131631/131631 [==============================] - 5513s 42ms/step - loss: 0.3293 - categorical_accuracy: 0.8791 - val_loss: 0.4217 - val_categorical_accuracy: 0.8924\n",
      "Epoch 4/5\n",
      "131631/131631 [==============================] - 5522s 42ms/step - loss: 0.3168 - categorical_accuracy: 0.8899 - val_loss: 0.4249 - val_categorical_accuracy: 0.9018\n",
      "Epoch 5/5\n",
      "131631/131631 [==============================] - 22954s 174ms/step - loss: 0.3113 - categorical_accuracy: 0.8965 - val_loss: 0.3904 - val_categorical_accuracy: 0.9093\n"
     ]
    }
   ],
   "source": [
    "train(True, X_train, X_validation, Y_train, Y_validation, dim_input, embeddingMatrix) "
   ]
  },
  {
   "cell_type": "code",
   "execution_count": 16,
   "metadata": {},
   "outputs": [
    {
     "name": "stdout",
     "output_type": "stream",
     "text": [
      "---------------\n",
      "| Testing...\n",
      "---------------\n",
      "20568/20568 [==============================] - 288s 14ms/step\n",
      "Test loss: 0.38954063940058653\n",
      "Test accuracy: 0.9013516067623953\n",
      "             precision    recall  f1-score   support\n",
      "\n",
      "          0       0.89      0.92      0.90     10363\n",
      "          1       0.91      0.89      0.90     10205\n",
      "\n",
      "avg / total       0.90      0.90      0.90     20568\n",
      "\n"
     ]
    }
   ],
   "source": [
    "test(X_test, Y_test)"
   ]
  },
  {
   "cell_type": "code",
   "execution_count": 17,
   "metadata": {},
   "outputs": [
    {
     "name": "stdout",
     "output_type": "stream",
     "text": [
      "---------------\n",
      "| Testing...\n",
      "---------------\n",
      "20568/20568 [==============================] - 289s 14ms/step\n",
      "Test loss: 0.41306706746871347\n",
      "Test accuracy: 0.8885647534385167\n",
      "             precision    recall  f1-score   support\n",
      "\n",
      "          0       0.88      0.90      0.89     10363\n",
      "          1       0.89      0.88      0.89     10205\n",
      "\n",
      "avg / total       0.89      0.89      0.89     20568\n",
      "\n"
     ]
    }
   ],
   "source": [
    "test(X_adv, Y_adv)"
   ]
  },
  {
   "cell_type": "code",
   "execution_count": 10,
   "metadata": {},
   "outputs": [
    {
     "name": "stdout",
     "output_type": "stream",
     "text": [
      "---------------\n",
      "| Getting data...\n",
      "---------------\n",
      "text shape: (267380, 100)\n"
     ]
    }
   ],
   "source": [
    "X, Y, X_test, Y_test, X_adv, Y_adv, X_adv1, Y_adv1, X_adv2, Y_adv2, X_adv3, Y_adv3, dim_input = getDataAdvTrain(mixeddataname)"
   ]
  },
  {
   "cell_type": "code",
   "execution_count": 11,
   "metadata": {},
   "outputs": [
    {
     "name": "stdout",
     "output_type": "stream",
     "text": [
      "---------------\n",
      "| Testing...\n",
      "---------------\n",
      "20568/20568 [==============================] - 288s 14ms/step\n",
      "Test loss: 0.3903908535594701\n",
      "Test accuracy: 0.9010598912620674\n",
      "             precision    recall  f1-score   support\n",
      "\n",
      "          0       0.89      0.91      0.90     10363\n",
      "          1       0.91      0.89      0.90     10205\n",
      "\n",
      "avg / total       0.90      0.90      0.90     20568\n",
      "\n"
     ]
    }
   ],
   "source": [
    "test(X_adv1, Y_adv1)"
   ]
  },
  {
   "cell_type": "code",
   "execution_count": 12,
   "metadata": {},
   "outputs": [
    {
     "name": "stdout",
     "output_type": "stream",
     "text": [
      "---------------\n",
      "| Testing...\n",
      "---------------\n",
      "20568/20568 [==============================] - 289s 14ms/step\n",
      "Test loss: 0.3920514760839596\n",
      "Test accuracy: 0.9007195570893392\n",
      "             precision    recall  f1-score   support\n",
      "\n",
      "          0       0.89      0.91      0.90     10363\n",
      "          1       0.91      0.89      0.90     10205\n",
      "\n",
      "avg / total       0.90      0.90      0.90     20568\n",
      "\n"
     ]
    }
   ],
   "source": [
    "test(X_adv2, Y_adv2)"
   ]
  },
  {
   "cell_type": "code",
   "execution_count": 13,
   "metadata": {},
   "outputs": [
    {
     "name": "stdout",
     "output_type": "stream",
     "text": [
      "---------------\n",
      "| Testing...\n",
      "---------------\n",
      "20568/20568 [==============================] - 286s 14ms/step\n",
      "Test loss: 0.39646543742518675\n",
      "Test accuracy: 0.8999902688021885\n",
      "             precision    recall  f1-score   support\n",
      "\n",
      "          0       0.89      0.91      0.90     10363\n",
      "          1       0.91      0.89      0.90     10205\n",
      "\n",
      "avg / total       0.90      0.90      0.90     20568\n",
      "\n"
     ]
    }
   ],
   "source": [
    "test(X_adv3, Y_adv3)"
   ]
  },
  {
   "cell_type": "markdown",
   "metadata": {},
   "source": [
    "### Using word2vec"
   ]
  },
  {
   "cell_type": "code",
   "execution_count": 9,
   "metadata": {},
   "outputs": [],
   "source": [
    "modelname = 'BLSTM+CNN_word2vec.h5'"
   ]
  },
  {
   "cell_type": "code",
   "execution_count": 10,
   "metadata": {},
   "outputs": [
    {
     "name": "stderr",
     "output_type": "stream",
     "text": [
      "C:\\Users\\vwslz\\Anaconda3\\envs\\tensorflow\\lib\\site-packages\\gensim\\utils.py:1197: UserWarning: detected Windows; aliasing chunkize to chunkize_serial\n",
      "  warnings.warn(\"detected Windows; aliasing chunkize to chunkize_serial\")\n"
     ]
    }
   ],
   "source": [
    "import gensim\n",
    "from gensim.models import Word2Vec\n",
    "from gensim.models.keyedvectors import KeyedVectors"
   ]
  },
  {
   "cell_type": "code",
   "execution_count": 11,
   "metadata": {},
   "outputs": [
    {
     "name": "stdout",
     "output_type": "stream",
     "text": [
      "---------------\n",
      "| Getting data...\n",
      "---------------\n",
      "text shape: (185110, 100)\n"
     ]
    }
   ],
   "source": [
    "t = Tokenizer(filters='!\"#$%&()*+,-./:;<=>?@[\\\\]^_`{|}~\\t\\n\\'', lower=True)\n",
    "\n",
    "X, Y, X_adv, Y_adv, X_adv1, Y_adv1, X_adv2, Y_adv2, X_adv3, Y_adv3, dim_input = getData(mixeddataname)\n",
    "X_train, X_validation, X_test, Y_train, Y_validation, Y_test = splitData(X, Y)"
   ]
  },
  {
   "cell_type": "code",
   "execution_count": 53,
   "metadata": {},
   "outputs": [],
   "source": [
    "def getEmbeddingMatrix(vocabulary_size):    \n",
    "    word_vectors = KeyedVectors.load_word2vec_format('word2vec/GoogleNews-vectors-negative300.bin', binary=True)\n",
    "\n",
    "    embedding_matrix = np.zeros((vocabulary_size, dim_embed))\n",
    "    for word, i in t.word_index.items():\n",
    "        try:\n",
    "            embedding_vector = word_vectors[word]\n",
    "            embedding_matrix[i] = embedding_vector\n",
    "        except KeyError:\n",
    "            embedding_matrix[i] = np.random.normal(0, np.sqrt(0.25), dim_embed)\n",
    "    del(word_vectors)\n",
    "    \n",
    "    return embedding_matrix"
   ]
  },
  {
   "cell_type": "code",
   "execution_count": 54,
   "metadata": {
    "scrolled": false
   },
   "outputs": [],
   "source": [
    "embeddingMatrix = getEmbeddingMatrix(dim_input + 1)"
   ]
  },
  {
   "cell_type": "code",
   "execution_count": 55,
   "metadata": {},
   "outputs": [
    {
     "name": "stdout",
     "output_type": "stream",
     "text": [
      "---------------\n",
      "| Training...\n",
      "---------------\n",
      "_________________________________________________________________\n",
      "Layer (type)                 Output Shape              Param #   \n",
      "=================================================================\n",
      "embedding_1 (Embedding)      (None, 100, 300)          25826100  \n",
      "_________________________________________________________________\n",
      "dropout_1 (Dropout)          (None, 100, 300)          0         \n",
      "_________________________________________________________________\n",
      "bidirectional_1 (Bidirection (None, 100, 300)          1442400   \n",
      "_________________________________________________________________\n",
      "dropout_2 (Dropout)          (None, 100, 300)          0         \n",
      "_________________________________________________________________\n",
      "reshape_1 (Reshape)          (None, 100, 300, 1)       0         \n",
      "_________________________________________________________________\n",
      "conv2d_1 (Conv2D)            (None, 98, 298, 100)      1000      \n",
      "_________________________________________________________________\n",
      "max_pooling2d_1 (MaxPooling2 (None, 49, 149, 100)      0         \n",
      "_________________________________________________________________\n",
      "dropout_3 (Dropout)          (None, 49, 149, 100)      0         \n",
      "_________________________________________________________________\n",
      "flatten_1 (Flatten)          (None, 730100)            0         \n",
      "_________________________________________________________________\n",
      "dense_1 (Dense)              (None, 2)                 1460202   \n",
      "_________________________________________________________________\n",
      "activation_1 (Activation)    (None, 2)                 0         \n",
      "=================================================================\n",
      "Total params: 28,729,702\n",
      "Trainable params: 2,903,602\n",
      "Non-trainable params: 25,826,100\n",
      "_________________________________________________________________\n",
      "None\n",
      "Train on 65815 samples, validate on 16454 samples\n",
      "Epoch 1/5\n",
      "65815/65815 [==============================] - 2678s 41ms/step - loss: 0.4480 - categorical_accuracy: 0.7986 - val_loss: 0.3705 - val_categorical_accuracy: 0.8695\n",
      "Epoch 2/5\n",
      "65815/65815 [==============================] - 2679s 41ms/step - loss: 0.3355 - categorical_accuracy: 0.8639 - val_loss: 0.4463 - val_categorical_accuracy: 0.8745\n",
      "Epoch 3/5\n",
      "65815/65815 [==============================] - 2708s 41ms/step - loss: 0.3064 - categorical_accuracy: 0.8817 - val_loss: 0.3334 - val_categorical_accuracy: 0.8946\n",
      "Epoch 4/5\n",
      "65815/65815 [==============================] - 2651s 40ms/step - loss: 0.2896 - categorical_accuracy: 0.8938 - val_loss: 0.2938 - val_categorical_accuracy: 0.9012\n",
      "Epoch 5/5\n",
      "65815/65815 [==============================] - 2714s 41ms/step - loss: 0.2804 - categorical_accuracy: 0.8984 - val_loss: 0.3128 - val_categorical_accuracy: 0.9049\n"
     ]
    }
   ],
   "source": [
    "train(True, X_train, X_validation, Y_train, Y_validation, dim_input, embeddingMatrix) "
   ]
  },
  {
   "cell_type": "code",
   "execution_count": 56,
   "metadata": {},
   "outputs": [
    {
     "name": "stdout",
     "output_type": "stream",
     "text": [
      "---------------\n",
      "| Testing...\n",
      "---------------\n",
      "20568/20568 [==============================] - 279s 14ms/step\n",
      "Test loss: 0.31010268047996786\n",
      "Test accuracy: 0.9076234852407564\n",
      "             precision    recall  f1-score   support\n",
      "\n",
      "          0       0.89      0.93      0.91     10321\n",
      "          1       0.92      0.89      0.91     10247\n",
      "\n",
      "avg / total       0.91      0.91      0.91     20568\n",
      "\n"
     ]
    }
   ],
   "source": [
    "test(X_test, Y_test)"
   ]
  },
  {
   "cell_type": "code",
   "execution_count": 12,
   "metadata": {},
   "outputs": [
    {
     "name": "stdout",
     "output_type": "stream",
     "text": [
      "---------------\n",
      "| Testing...\n",
      "---------------\n",
      "20568/20568 [==============================] - 275s 13ms/step\n",
      "Test loss: 0.44240627606344657\n",
      "Test accuracy: 0.8213243834103466\n",
      "             precision    recall  f1-score   support\n",
      "\n",
      "          0       0.76      0.94      0.84     10364\n",
      "          1       0.92      0.70      0.80     10204\n",
      "\n",
      "avg / total       0.84      0.82      0.82     20568\n",
      "\n"
     ]
    }
   ],
   "source": [
    "test(X_adv, Y_adv)"
   ]
  },
  {
   "cell_type": "code",
   "execution_count": 57,
   "metadata": {},
   "outputs": [
    {
     "name": "stdout",
     "output_type": "stream",
     "text": [
      "---------------\n",
      "| Testing...\n",
      "---------------\n",
      "20568/20568 [==============================] - 281s 14ms/step\n",
      "Test loss: 0.3123963754711066\n",
      "Test accuracy: 0.9104920188446817\n",
      "             precision    recall  f1-score   support\n",
      "\n",
      "          0       0.90      0.93      0.91     10363\n",
      "          1       0.93      0.89      0.91     10205\n",
      "\n",
      "avg / total       0.91      0.91      0.91     20568\n",
      "\n"
     ]
    }
   ],
   "source": [
    "test(X_adv1, Y_adv1)"
   ]
  },
  {
   "cell_type": "code",
   "execution_count": 13,
   "metadata": {},
   "outputs": [
    {
     "name": "stdout",
     "output_type": "stream",
     "text": [
      "---------------\n",
      "| Testing...\n",
      "---------------\n",
      "20568/20568 [==============================] - 270s 13ms/step\n",
      "Test loss: 0.33615400829652736\n",
      "Test accuracy: 0.8980455005600126\n",
      "             precision    recall  f1-score   support\n",
      "\n",
      "          0       0.87      0.93      0.90     10363\n",
      "          1       0.93      0.86      0.89     10205\n",
      "\n",
      "avg / total       0.90      0.90      0.90     20568\n",
      "\n"
     ]
    }
   ],
   "source": [
    "test(X_adv2, Y_adv2)"
   ]
  },
  {
   "cell_type": "code",
   "execution_count": 14,
   "metadata": {},
   "outputs": [
    {
     "name": "stdout",
     "output_type": "stream",
     "text": [
      "---------------\n",
      "| Testing...\n",
      "---------------\n",
      "20568/20568 [==============================] - 272s 13ms/step\n",
      "Test loss: 0.3609772014411008\n",
      "Test accuracy: 0.8826332100341404\n",
      "             precision    recall  f1-score   support\n",
      "\n",
      "          0       0.85      0.93      0.89     10363\n",
      "          1       0.92      0.83      0.88     10205\n",
      "\n",
      "avg / total       0.89      0.88      0.88     20568\n",
      "\n"
     ]
    }
   ],
   "source": [
    "test(X_adv3, Y_adv3)"
   ]
  },
  {
   "cell_type": "code",
   "execution_count": null,
   "metadata": {},
   "outputs": [],
   "source": []
  }
 ],
 "metadata": {
  "kernelspec": {
   "display_name": "Python 3",
   "language": "python",
   "name": "python3"
  },
  "language_info": {
   "codemirror_mode": {
    "name": "ipython",
    "version": 3
   },
   "file_extension": ".py",
   "mimetype": "text/x-python",
   "name": "python",
   "nbconvert_exporter": "python",
   "pygments_lexer": "ipython3",
   "version": "3.5.4"
  },
  "widgets": {
   "application/vnd.jupyter.widget-state+json": {
    "state": {},
    "version_major": 2,
    "version_minor": 0
   }
  }
 },
 "nbformat": 4,
 "nbformat_minor": 2
}
